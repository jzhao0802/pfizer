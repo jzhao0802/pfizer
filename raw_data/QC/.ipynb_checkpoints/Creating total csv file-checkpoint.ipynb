{
 "cells": [
  {
   "cell_type": "code",
   "execution_count": 1,
   "metadata": {
    "collapsed": true
   },
   "outputs": [],
   "source": [
    "import sys"
   ]
  },
  {
   "cell_type": "code",
   "execution_count": 2,
   "metadata": {
    "collapsed": true
   },
   "outputs": [],
   "source": [
    "from IPython.core.interactiveshell import InteractiveShell\n",
    "InteractiveShell.ast_node_interactivity = \"all\""
   ]
  },
  {
   "cell_type": "code",
   "execution_count": 3,
   "metadata": {
    "collapsed": true
   },
   "outputs": [],
   "source": [
    "sys.path.append('F:\\Frederik\\pfizer_mcrpc\\paqc')"
   ]
  },
  {
   "cell_type": "code",
   "execution_count": 12,
   "metadata": {
    "collapsed": true
   },
   "outputs": [],
   "source": [
    "from importlib import reload"
   ]
  },
  {
   "cell_type": "code",
   "execution_count": 6,
   "metadata": {
    "collapsed": true
   },
   "outputs": [],
   "source": [
    "from paqc.driver import driver\n",
    "import pandas as pd\n",
    "from functools import reduce"
   ]
  },
  {
   "cell_type": "code",
   "execution_count": 16,
   "metadata": {},
   "outputs": [
    {
     "data": {
      "text/plain": [
       "<module 'paqc.driver.driver' from 'F:\\\\Frederik\\\\pfizer_mcrpc\\\\paqc\\\\paqc\\\\driver\\\\driver.py'>"
      ]
     },
     "execution_count": 16,
     "metadata": {},
     "output_type": "execute_result"
    }
   ],
   "source": [
    "reload(driver)"
   ]
  },
  {
   "cell_type": "code",
   "execution_count": 5,
   "metadata": {},
   "outputs": [
    {
     "name": "stderr",
     "output_type": "stream",
     "text": [
      "C:\\Program Files\\Anaconda3\\lib\\site-packages\\IPython\\core\\interactiveshell.py:2717: DtypeWarning: Columns (19,20,75,76,123,124,139,140,299,300,531,532) have mixed types. Specify dtype option on import or set low_memory=False.\n",
      "  interactivity=interactivity, compiler=compiler, result=result)\n",
      "C:\\Program Files\\Anaconda3\\lib\\site-packages\\IPython\\core\\interactiveshell.py:2717: DtypeWarning: Columns (287,288,439,440,611,612,647,648,743,744,751,752) have mixed types. Specify dtype option on import or set low_memory=False.\n",
      "  interactivity=interactivity, compiler=compiler, result=result)\n",
      "C:\\Program Files\\Anaconda3\\lib\\site-packages\\IPython\\core\\interactiveshell.py:2717: DtypeWarning: Columns (99,100,299,300,375,376,467,468,471,472,499,500,523,524) have mixed types. Specify dtype option on import or set low_memory=False.\n",
      "  interactivity=interactivity, compiler=compiler, result=result)\n"
     ]
    }
   ],
   "source": [
    "df_cpt1 = pd.read_csv(r'F:\\Projects\\Pfizer_mCRPC\\Data\\Raw_data\\Pfizer_mCRPC_CPT1.csv')\n",
    "df_cpt2 = pd.read_csv(r'F:\\Projects\\Pfizer_mCRPC\\Data\\Raw_data\\Pfizer_mCRPC_CPT2.csv')\n",
    "df_diag1 = pd.read_csv(r'F:\\Projects\\Pfizer_mCRPC\\Data\\Raw_data\\Pfizer_mCRPC_DIAG1.csv')\n",
    "df_diag2 = pd.read_csv(r'F:\\Projects\\Pfizer_mCRPC\\Data\\Raw_data\\Pfizer_mCRPC_DIAG2.csv')\n",
    "df_gpi = pd.read_csv(r'F:\\Projects\\Pfizer_mCRPC\\Data\\Raw_data\\Pfizer_mCRPC_GPI.csv')\n",
    "df_hcpcs = pd.read_csv(r'F:\\Projects\\Pfizer_mCRPC\\Data\\Raw_data\\Pfizer_mCRPC_HCPCS.csv')\n",
    "df_spec = pd.read_csv(r'F:\\Projects\\Pfizer_mCRPC\\Data\\Raw_data\\Pfizer_mCRPC_Specialty.csv')\n",
    "df_pat = pd.read_excel(r'F:\\Projects\\Pfizer_mCRPC\\Data\\Raw_data\\Pfizer_mCRPC_Patients.xlsx')"
   ]
  },
  {
   "cell_type": "code",
   "execution_count": 77,
   "metadata": {
    "collapsed": true
   },
   "outputs": [],
   "source": [
    "df_pat = df_pat.rename(columns = {'PATIENT_ID':'patient_id'})"
   ]
  },
  {
   "cell_type": "code",
   "execution_count": 78,
   "metadata": {
    "collapsed": true
   },
   "outputs": [],
   "source": [
    "dfs = [df_pat, df_cpt1, df_cpt2, df_diag1, df_diag2, df_gpi, df_hcpcs, df_spec]"
   ]
  },
  {
   "cell_type": "code",
   "execution_count": 79,
   "metadata": {
    "collapsed": true
   },
   "outputs": [],
   "source": [
    "pat_ids = set(df_pat['patient_id'])"
   ]
  },
  {
   "cell_type": "code",
   "execution_count": 80,
   "metadata": {},
   "outputs": [
    {
     "data": {
      "text/plain": [
       "[True, True, True, True, True, True, True]"
      ]
     },
     "execution_count": 80,
     "metadata": {},
     "output_type": "execute_result"
    },
    {
     "data": {
      "text/plain": [
       "[True, True, True, True, True, True, True, True]"
      ]
     },
     "execution_count": 80,
     "metadata": {},
     "output_type": "execute_result"
    }
   ],
   "source": [
    "# All dataframe have exactly the same patient ids\n",
    "[df['patient_id'].isin(pat_ids).all() for df in dfs[1:]]\n",
    "[df.shape[0] == len(pat_ids) for df in dfs]"
   ]
  },
  {
   "cell_type": "code",
   "execution_count": 84,
   "metadata": {
    "collapsed": true
   },
   "outputs": [],
   "source": [
    "df_pat[['INDEX_DATE', 'LOOKBACK_DATE']] = df_pat[['INDEX_DATE', 'LOOKBACK_DATE']].apply(lambda x: pd.to_datetime(x, format = '%Y-%m-%d'))"
   ]
  },
  {
   "cell_type": "code",
   "execution_count": 85,
   "metadata": {},
   "outputs": [
    {
     "data": {
      "text/html": [
       "<div>\n",
       "<table border=\"1\" class=\"dataframe\">\n",
       "  <thead>\n",
       "    <tr style=\"text-align: right;\">\n",
       "      <th></th>\n",
       "      <th>patient_id</th>\n",
       "      <th>PN_FLAG</th>\n",
       "      <th>AGE_INDEX</th>\n",
       "      <th>AGE_PC</th>\n",
       "      <th>INDEX_DATE</th>\n",
       "      <th>LOOKBACK_DATE</th>\n",
       "    </tr>\n",
       "  </thead>\n",
       "  <tbody>\n",
       "    <tr>\n",
       "      <th>0</th>\n",
       "      <td>377317624</td>\n",
       "      <td>N</td>\n",
       "      <td>85</td>\n",
       "      <td>85</td>\n",
       "      <td>2016-04-21</td>\n",
       "      <td>2014-04-22</td>\n",
       "    </tr>\n",
       "    <tr>\n",
       "      <th>1</th>\n",
       "      <td>73066609</td>\n",
       "      <td>N</td>\n",
       "      <td>80</td>\n",
       "      <td>78</td>\n",
       "      <td>2017-05-08</td>\n",
       "      <td>2015-05-09</td>\n",
       "    </tr>\n",
       "    <tr>\n",
       "      <th>2</th>\n",
       "      <td>70175556</td>\n",
       "      <td>N</td>\n",
       "      <td>50</td>\n",
       "      <td>50</td>\n",
       "      <td>2016-06-20</td>\n",
       "      <td>2014-06-21</td>\n",
       "    </tr>\n",
       "    <tr>\n",
       "      <th>3</th>\n",
       "      <td>713474282</td>\n",
       "      <td>N</td>\n",
       "      <td>83</td>\n",
       "      <td>81</td>\n",
       "      <td>2016-04-24</td>\n",
       "      <td>2014-04-25</td>\n",
       "    </tr>\n",
       "    <tr>\n",
       "      <th>4</th>\n",
       "      <td>1563563420</td>\n",
       "      <td>N</td>\n",
       "      <td>70</td>\n",
       "      <td>64</td>\n",
       "      <td>2014-05-14</td>\n",
       "      <td>2012-05-14</td>\n",
       "    </tr>\n",
       "  </tbody>\n",
       "</table>\n",
       "</div>"
      ],
      "text/plain": [
       "   patient_id PN_FLAG  AGE_INDEX  AGE_PC INDEX_DATE LOOKBACK_DATE\n",
       "0   377317624       N         85      85 2016-04-21    2014-04-22\n",
       "1    73066609       N         80      78 2017-05-08    2015-05-09\n",
       "2    70175556       N         50      50 2016-06-20    2014-06-21\n",
       "3   713474282       N         83      81 2016-04-24    2014-04-25\n",
       "4  1563563420       N         70      64 2014-05-14    2012-05-14"
      ]
     },
     "execution_count": 85,
     "metadata": {},
     "output_type": "execute_result"
    }
   ],
   "source": [
    "df_pat.head()"
   ]
  },
  {
   "cell_type": "code",
   "execution_count": 94,
   "metadata": {
    "collapsed": true
   },
   "outputs": [],
   "source": [
    "df_final = reduce(lambda left,right: pd.merge(left,right,on='patient_id', how='left'), dfs)"
   ]
  },
  {
   "cell_type": "code",
   "execution_count": 95,
   "metadata": {
    "collapsed": true
   },
   "outputs": [],
   "source": [
    "df_final.to_csv(r'F:\\Projects\\Pfizer_mCRPC\\Data\\Raw_data\\total.csv', date_format = '%m/%d/%Y', index=False)"
   ]
  },
  {
   "cell_type": "code",
   "execution_count": 96,
   "metadata": {
    "collapsed": true
   },
   "outputs": [],
   "source": [
    "df_final = pd.read_csv(r'F:\\Projects\\Pfizer_mCRPC\\Data\\Raw_data\\total.csv', nrows = 5)"
   ]
  },
  {
   "cell_type": "code",
   "execution_count": 97,
   "metadata": {},
   "outputs": [
    {
     "data": {
      "text/html": [
       "<div>\n",
       "<table border=\"1\" class=\"dataframe\">\n",
       "  <thead>\n",
       "    <tr style=\"text-align: right;\">\n",
       "      <th></th>\n",
       "      <th>patient_id</th>\n",
       "      <th>PN_FLAG</th>\n",
       "      <th>AGE_INDEX</th>\n",
       "      <th>AGE_PC</th>\n",
       "      <th>INDEX_DATE</th>\n",
       "      <th>LOOKBACK_DATE</th>\n",
       "      <th>C00142_FLAG</th>\n",
       "      <th>C00142_CLAIM_CNT</th>\n",
       "      <th>C00142_MIN_DT</th>\n",
       "      <th>C00142_MAX_DT</th>\n",
       "      <th>...</th>\n",
       "      <th>S61_MIN_DT</th>\n",
       "      <th>S61_MAX_DT</th>\n",
       "      <th>S62_FLAG</th>\n",
       "      <th>S62_CLAIM_CNT</th>\n",
       "      <th>S62_MIN_DT</th>\n",
       "      <th>S62_MAX_DT</th>\n",
       "      <th>S63_FLAG</th>\n",
       "      <th>S63_CLAIM_CNT</th>\n",
       "      <th>S63_MIN_DT</th>\n",
       "      <th>S63_MAX_DT</th>\n",
       "    </tr>\n",
       "  </thead>\n",
       "  <tbody>\n",
       "    <tr>\n",
       "      <th>0</th>\n",
       "      <td>377317624</td>\n",
       "      <td>N</td>\n",
       "      <td>85</td>\n",
       "      <td>85</td>\n",
       "      <td>04/21/2016</td>\n",
       "      <td>04/22/2014</td>\n",
       "      <td>0</td>\n",
       "      <td>0</td>\n",
       "      <td>NaN</td>\n",
       "      <td>NaN</td>\n",
       "      <td>...</td>\n",
       "      <td>07/22/2015</td>\n",
       "      <td>01/22/2016</td>\n",
       "      <td>0</td>\n",
       "      <td>0</td>\n",
       "      <td>NaN</td>\n",
       "      <td>NaN</td>\n",
       "      <td>0</td>\n",
       "      <td>0</td>\n",
       "      <td>NaN</td>\n",
       "      <td>NaN</td>\n",
       "    </tr>\n",
       "    <tr>\n",
       "      <th>1</th>\n",
       "      <td>73066609</td>\n",
       "      <td>N</td>\n",
       "      <td>80</td>\n",
       "      <td>78</td>\n",
       "      <td>05/08/2017</td>\n",
       "      <td>05/09/2015</td>\n",
       "      <td>0</td>\n",
       "      <td>0</td>\n",
       "      <td>NaN</td>\n",
       "      <td>NaN</td>\n",
       "      <td>...</td>\n",
       "      <td>NaN</td>\n",
       "      <td>NaN</td>\n",
       "      <td>0</td>\n",
       "      <td>0</td>\n",
       "      <td>NaN</td>\n",
       "      <td>NaN</td>\n",
       "      <td>0</td>\n",
       "      <td>0</td>\n",
       "      <td>NaN</td>\n",
       "      <td>NaN</td>\n",
       "    </tr>\n",
       "    <tr>\n",
       "      <th>2</th>\n",
       "      <td>70175556</td>\n",
       "      <td>N</td>\n",
       "      <td>50</td>\n",
       "      <td>50</td>\n",
       "      <td>06/20/2016</td>\n",
       "      <td>06/21/2014</td>\n",
       "      <td>0</td>\n",
       "      <td>0</td>\n",
       "      <td>NaN</td>\n",
       "      <td>NaN</td>\n",
       "      <td>...</td>\n",
       "      <td>05/02/2016</td>\n",
       "      <td>06/15/2016</td>\n",
       "      <td>0</td>\n",
       "      <td>0</td>\n",
       "      <td>NaN</td>\n",
       "      <td>NaN</td>\n",
       "      <td>0</td>\n",
       "      <td>0</td>\n",
       "      <td>NaN</td>\n",
       "      <td>NaN</td>\n",
       "    </tr>\n",
       "    <tr>\n",
       "      <th>3</th>\n",
       "      <td>713474282</td>\n",
       "      <td>N</td>\n",
       "      <td>83</td>\n",
       "      <td>81</td>\n",
       "      <td>04/24/2016</td>\n",
       "      <td>04/25/2014</td>\n",
       "      <td>0</td>\n",
       "      <td>0</td>\n",
       "      <td>NaN</td>\n",
       "      <td>NaN</td>\n",
       "      <td>...</td>\n",
       "      <td>05/07/2014</td>\n",
       "      <td>04/24/2016</td>\n",
       "      <td>1</td>\n",
       "      <td>1</td>\n",
       "      <td>02/18/2016</td>\n",
       "      <td>02/18/2016</td>\n",
       "      <td>1</td>\n",
       "      <td>2</td>\n",
       "      <td>02/12/2016</td>\n",
       "      <td>03/07/2016</td>\n",
       "    </tr>\n",
       "    <tr>\n",
       "      <th>4</th>\n",
       "      <td>1563563420</td>\n",
       "      <td>N</td>\n",
       "      <td>70</td>\n",
       "      <td>64</td>\n",
       "      <td>05/14/2014</td>\n",
       "      <td>05/14/2012</td>\n",
       "      <td>0</td>\n",
       "      <td>0</td>\n",
       "      <td>NaN</td>\n",
       "      <td>NaN</td>\n",
       "      <td>...</td>\n",
       "      <td>05/18/2012</td>\n",
       "      <td>05/06/2014</td>\n",
       "      <td>0</td>\n",
       "      <td>0</td>\n",
       "      <td>NaN</td>\n",
       "      <td>NaN</td>\n",
       "      <td>0</td>\n",
       "      <td>0</td>\n",
       "      <td>NaN</td>\n",
       "      <td>NaN</td>\n",
       "    </tr>\n",
       "  </tbody>\n",
       "</table>\n",
       "<p>5 rows × 3534 columns</p>\n",
       "</div>"
      ],
      "text/plain": [
       "   patient_id PN_FLAG  AGE_INDEX  AGE_PC  INDEX_DATE LOOKBACK_DATE  \\\n",
       "0   377317624       N         85      85  04/21/2016    04/22/2014   \n",
       "1    73066609       N         80      78  05/08/2017    05/09/2015   \n",
       "2    70175556       N         50      50  06/20/2016    06/21/2014   \n",
       "3   713474282       N         83      81  04/24/2016    04/25/2014   \n",
       "4  1563563420       N         70      64  05/14/2014    05/14/2012   \n",
       "\n",
       "   C00142_FLAG  C00142_CLAIM_CNT  C00142_MIN_DT  C00142_MAX_DT  \\\n",
       "0            0                 0            NaN            NaN   \n",
       "1            0                 0            NaN            NaN   \n",
       "2            0                 0            NaN            NaN   \n",
       "3            0                 0            NaN            NaN   \n",
       "4            0                 0            NaN            NaN   \n",
       "\n",
       "                                               ...                                               \\\n",
       "0                                              ...                                                \n",
       "1                                              ...                                                \n",
       "2                                              ...                                                \n",
       "3                                              ...                                                \n",
       "4                                              ...                                                \n",
       "\n",
       "   S61_MIN_DT  S61_MAX_DT  S62_FLAG  S62_CLAIM_CNT  S62_MIN_DT  S62_MAX_DT  \\\n",
       "0  07/22/2015  01/22/2016         0              0         NaN         NaN   \n",
       "1         NaN         NaN         0              0         NaN         NaN   \n",
       "2  05/02/2016  06/15/2016         0              0         NaN         NaN   \n",
       "3  05/07/2014  04/24/2016         1              1  02/18/2016  02/18/2016   \n",
       "4  05/18/2012  05/06/2014         0              0         NaN         NaN   \n",
       "\n",
       "  S63_FLAG S63_CLAIM_CNT  S63_MIN_DT  \\\n",
       "0        0             0         NaN   \n",
       "1        0             0         NaN   \n",
       "2        0             0         NaN   \n",
       "3        1             2  02/12/2016   \n",
       "4        0             0         NaN   \n",
       "\n",
       "   S63_MAX_DT                                                                                    \n",
       "0                                                NaN                                             \n",
       "1                                                NaN                                             \n",
       "2                                                NaN                                             \n",
       "3                                         03/07/2016                                             \n",
       "4                                                NaN                                             \n",
       "\n",
       "[5 rows x 3534 columns]"
      ]
     },
     "execution_count": 97,
     "metadata": {},
     "output_type": "execute_result"
    }
   ],
   "source": [
    "df_final.head()"
   ]
  },
  {
   "cell_type": "code",
   "execution_count": 17,
   "metadata": {},
   "outputs": [
    {
     "name": "stdout",
     "output_type": "stream",
     "text": [
      "Loading config file...\n",
      "Checking and parsing config file...\n",
      "Config file checked and parsed. Starting QC pipeline...\n"
     ]
    }
   ],
   "source": [
    "d = driver.Driver('general_config.yml')\n",
    "d.config_loader()"
   ]
  },
  {
   "cell_type": "code",
   "execution_count": 18,
   "metadata": {},
   "outputs": [
    {
     "name": "stdout",
     "output_type": "stream",
     "text": [
      "Loading config file...\n",
      "Checking and parsing config file...\n",
      "Config file checked and parsed. Starting QC pipeline...\n",
      "-------------------------------------------------------\n",
      "Starting QCs on input1, file path: F:/Projects/Pfizer_mCRPC/Data/Raw_data/total.csv\n"
     ]
    },
    {
     "name": "stderr",
     "output_type": "stream",
     "text": [
      "F:\\Frederik\\pfizer_mcrpc\\paqc\\paqc\\driver\\driver.py:108: DtypeWarning: Columns (205,405,1205,1421,1621,2221,3109) have mixed types. Specify dtype option on import or set low_memory=False.\n",
      "  self.do_qc(input_n, self.general[input_n], ls_qcs)\n"
     ]
    },
    {
     "name": "stdout",
     "output_type": "stream",
     "text": [
      "Executing test qc1 on input1: F:/Projects/Pfizer_mCRPC/Data/Raw_data/total.csv\n",
      "Executing test qc3 on input1: F:/Projects/Pfizer_mCRPC/Data/Raw_data/total.csv\n",
      "Executing test qc4 on input1: F:/Projects/Pfizer_mCRPC/Data/Raw_data/total.csv\n",
      "Executing test qc6 on input1: F:/Projects/Pfizer_mCRPC/Data/Raw_data/total.csv\n",
      "Executing test qc7 on input1: F:/Projects/Pfizer_mCRPC/Data/Raw_data/total.csv\n",
      "Executing test qc8 on input1: F:/Projects/Pfizer_mCRPC/Data/Raw_data/total.csv\n",
      "Executing test qc11 on input1: F:/Projects/Pfizer_mCRPC/Data/Raw_data/total.csv\n",
      "Executing test qc12 on input1: F:/Projects/Pfizer_mCRPC/Data/Raw_data/total.csv\n",
      "Executing test qc13 on input1: F:/Projects/Pfizer_mCRPC/Data/Raw_data/total.csv\n",
      "Executing test qc14 on input1: F:/Projects/Pfizer_mCRPC/Data/Raw_data/total.csv\n",
      "Executing test qc15 on input1: F:/Projects/Pfizer_mCRPC/Data/Raw_data/total.csv\n",
      "Executing test qc18 on input1: F:/Projects/Pfizer_mCRPC/Data/Raw_data/total.csv\n",
      "Executing test qc19 on input1: F:/Projects/Pfizer_mCRPC/Data/Raw_data/total.csv\n",
      "-------------------------------------------------------\n",
      "Generating HTML and CSV report...\n",
      "-------------------------------------------------------\n"
     ]
    },
    {
     "name": "stderr",
     "output_type": "stream",
     "text": [
      "C:\\Program Files\\Anaconda3\\lib\\site-packages\\pandas\\core\\indexing.py:477: SettingWithCopyWarning: \n",
      "A value is trying to be set on a copy of a slice from a DataFrame.\n",
      "Try using .loc[row_indexer,col_indexer] = value instead\n",
      "\n",
      "See the caveats in the documentation: http://pandas.pydata.org/pandas-docs/stable/indexing.html#indexing-view-versus-copy\n",
      "  self.obj[item] = s\n"
     ]
    },
    {
     "ename": "FileNotFoundError",
     "evalue": "[Errno 2] No such file or directory: 'paqc/report/report_template1.txt'",
     "output_type": "error",
     "traceback": [
      "\u001b[1;31m---------------------------------------------------------------------------\u001b[0m",
      "\u001b[1;31mFileNotFoundError\u001b[0m                         Traceback (most recent call last)",
      "\u001b[1;32m<ipython-input-18-518a64e37a24>\u001b[0m in \u001b[0;36m<module>\u001b[1;34m()\u001b[0m\n\u001b[1;32m----> 1\u001b[1;33m \u001b[0md\u001b[0m\u001b[1;33m.\u001b[0m\u001b[0mrun\u001b[0m\u001b[1;33m(\u001b[0m\u001b[1;33m)\u001b[0m\u001b[1;33m\u001b[0m\u001b[0m\n\u001b[0m",
      "\u001b[1;32mF:\\Frederik\\pfizer_mcrpc\\paqc\\paqc\\driver\\driver.py\u001b[0m in \u001b[0;36mrun\u001b[1;34m(self, generate_report)\u001b[0m\n\u001b[0;32m     54\u001b[0m         \u001b[1;32mif\u001b[0m \u001b[0mgenerate_report\u001b[0m\u001b[1;33m:\u001b[0m\u001b[1;33m\u001b[0m\u001b[0m\n\u001b[0;32m     55\u001b[0m             \u001b[0mself\u001b[0m\u001b[1;33m.\u001b[0m\u001b[0mprinter\u001b[0m\u001b[1;33m(\u001b[0m\u001b[1;34m\"Generating HTML and CSV report...\"\u001b[0m\u001b[1;33m,\u001b[0m \u001b[1;32mTrue\u001b[0m\u001b[1;33m,\u001b[0m \u001b[1;32mTrue\u001b[0m\u001b[1;33m)\u001b[0m\u001b[1;33m\u001b[0m\u001b[0m\n\u001b[1;32m---> 56\u001b[1;33m             \u001b[0mself\u001b[0m\u001b[1;33m.\u001b[0m\u001b[0mreport\u001b[0m\u001b[1;33m.\u001b[0m\u001b[0mgenerate_report\u001b[0m\u001b[1;33m(\u001b[0m\u001b[1;33m)\u001b[0m\u001b[1;33m\u001b[0m\u001b[0m\n\u001b[0m\u001b[0;32m     57\u001b[0m \u001b[1;33m\u001b[0m\u001b[0m\n\u001b[0;32m     58\u001b[0m     \u001b[1;32mdef\u001b[0m \u001b[0mconfig_loader\u001b[0m\u001b[1;33m(\u001b[0m\u001b[0mself\u001b[0m\u001b[1;33m)\u001b[0m\u001b[1;33m:\u001b[0m\u001b[1;33m\u001b[0m\u001b[0m\n",
      "\u001b[1;32mF:\\Frederik\\pfizer_mcrpc\\paqc\\paqc\\report\\report.py\u001b[0m in \u001b[0;36mgenerate_report\u001b[1;34m(self)\u001b[0m\n\u001b[0;32m    287\u001b[0m         \u001b[1;31m# the os.expanduser makes this it windows safe\u001b[0m\u001b[1;33m\u001b[0m\u001b[1;33m\u001b[0m\u001b[0m\n\u001b[0;32m    288\u001b[0m         \u001b[0mhtml_out\u001b[0m \u001b[1;33m=\u001b[0m \u001b[0mopen\u001b[0m\u001b[1;33m(\u001b[0m\u001b[0mos\u001b[0m\u001b[1;33m.\u001b[0m\u001b[0mpath\u001b[0m\u001b[1;33m.\u001b[0m\u001b[0mexpanduser\u001b[0m\u001b[1;33m(\u001b[0m\u001b[0mout_file\u001b[0m\u001b[1;33m)\u001b[0m\u001b[1;33m,\u001b[0m \u001b[1;34m'w'\u001b[0m\u001b[1;33m)\u001b[0m\u001b[1;33m\u001b[0m\u001b[0m\n\u001b[1;32m--> 289\u001b[1;33m         \u001b[0mdirname\u001b[0m \u001b[1;33m=\u001b[0m \u001b[0mos\u001b[0m\u001b[1;33m.\u001b[0m\u001b[0mpath\u001b[0m\u001b[1;33m.\u001b[0m\u001b[0mdirname\u001b[0m\u001b[1;33m(\u001b[0m\u001b[0mos\u001b[0m\u001b[1;33m.\u001b[0m\u001b[0mpath\u001b[0m\u001b[1;33m.\u001b[0m\u001b[0mabspath\u001b[0m\u001b[1;33m(\u001b[0m\u001b[0m__file__\u001b[0m\u001b[1;33m)\u001b[0m\u001b[1;33m)\u001b[0m\u001b[1;33m\u001b[0m\u001b[0m\n\u001b[0m\u001b[0;32m    290\u001b[0m         \u001b[0mpath_html1\u001b[0m \u001b[1;33m=\u001b[0m \u001b[0mos\u001b[0m\u001b[1;33m.\u001b[0m\u001b[0mpath\u001b[0m\u001b[1;33m.\u001b[0m\u001b[0mjoin\u001b[0m\u001b[1;33m(\u001b[0m\u001b[0mdirname\u001b[0m\u001b[1;33m,\u001b[0m \u001b[1;34m'report_template1.txt'\u001b[0m\u001b[1;33m)\u001b[0m\u001b[1;33m\u001b[0m\u001b[0m\n\u001b[0;32m    291\u001b[0m         \u001b[0mpath_html2\u001b[0m \u001b[1;33m=\u001b[0m \u001b[0mos\u001b[0m\u001b[1;33m.\u001b[0m\u001b[0mpath\u001b[0m\u001b[1;33m.\u001b[0m\u001b[0mjoin\u001b[0m\u001b[1;33m(\u001b[0m\u001b[0mdirname\u001b[0m\u001b[1;33m,\u001b[0m \u001b[1;34m'report_template2.txt'\u001b[0m\u001b[1;33m)\u001b[0m\u001b[1;33m\u001b[0m\u001b[0m\n",
      "\u001b[1;31mFileNotFoundError\u001b[0m: [Errno 2] No such file or directory: 'paqc/report/report_template1.txt'"
     ]
    }
   ],
   "source": [
    "d.run()"
   ]
  },
  {
   "cell_type": "code",
   "execution_count": null,
   "metadata": {
    "collapsed": true
   },
   "outputs": [],
   "source": []
  }
 ],
 "metadata": {
  "kernelspec": {
   "display_name": "Python 3",
   "language": "python",
   "name": "python3"
  },
  "language_info": {
   "codemirror_mode": {
    "name": "ipython",
    "version": 3
   },
   "file_extension": ".py",
   "mimetype": "text/x-python",
   "name": "python",
   "nbconvert_exporter": "python",
   "pygments_lexer": "ipython3",
   "version": "3.4.5"
  }
 },
 "nbformat": 4,
 "nbformat_minor": 2
}

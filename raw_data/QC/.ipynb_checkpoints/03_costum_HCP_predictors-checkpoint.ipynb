{
 "cells": [
  {
   "cell_type": "code",
   "execution_count": 1,
   "metadata": {},
   "outputs": [],
   "source": [
    "import os\n",
    "import sys\n",
    "import pandas as pd\n",
    "import re"
   ]
  },
  {
   "cell_type": "code",
   "execution_count": 17,
   "metadata": {},
   "outputs": [],
   "source": [
    "from IPython.core.interactiveshell import InteractiveShell\n",
    "InteractiveShell.ast_node_interactivity = \"all\""
   ]
  },
  {
   "cell_type": "markdown",
   "metadata": {},
   "source": [
    "# QC the custom HCP predictors "
   ]
  },
  {
   "cell_type": "code",
   "execution_count": 3,
   "metadata": {},
   "outputs": [],
   "source": [
    "df_HCP = pd.read_excel(r'F:\\Projects\\Pfizer_mCRPC\\Data\\Raw_data\\Pfizer_mCRPC_HCPHCOS.xlsx')"
   ]
  },
  {
   "cell_type": "code",
   "execution_count": 4,
   "metadata": {},
   "outputs": [
    {
     "data": {
      "text/html": [
       "<div>\n",
       "<style scoped>\n",
       "    .dataframe tbody tr th:only-of-type {\n",
       "        vertical-align: middle;\n",
       "    }\n",
       "\n",
       "    .dataframe tbody tr th {\n",
       "        vertical-align: top;\n",
       "    }\n",
       "\n",
       "    .dataframe thead th {\n",
       "        text-align: right;\n",
       "    }\n",
       "</style>\n",
       "<table border=\"1\" class=\"dataframe\">\n",
       "  <thead>\n",
       "    <tr style=\"text-align: right;\">\n",
       "      <th></th>\n",
       "      <th>PATIENT_ID</th>\n",
       "      <th>PROVIDER_ID</th>\n",
       "      <th>PN_FLAG</th>\n",
       "      <th>PRI_SPCL_DESC</th>\n",
       "      <th>IMS_ORG_ID</th>\n",
       "      <th>BUSINESS_NAME</th>\n",
       "      <th>COT_CLASSIFICATION</th>\n",
       "      <th>COT_FACILITY_TYPE</th>\n",
       "      <th>HCOS_MCRPC_DECILE</th>\n",
       "      <th>HCP_ZX_DECILE</th>\n",
       "      <th>HCP_MCRPC_DECILE</th>\n",
       "      <th>HCP_AGONIST_PAT_CNT</th>\n",
       "      <th>HCP_ANTAGONIST_PAT_CNT</th>\n",
       "      <th>HCP_ADT_SCORE</th>\n",
       "      <th>HCP_REGION</th>\n",
       "      <th>HHI</th>\n",
       "    </tr>\n",
       "  </thead>\n",
       "  <tbody>\n",
       "    <tr>\n",
       "      <th>0</th>\n",
       "      <td>839544914</td>\n",
       "      <td>6804099</td>\n",
       "      <td>N</td>\n",
       "      <td>MEDICAL ONCOLOGY</td>\n",
       "      <td>INS00052246</td>\n",
       "      <td>Comprehensive Cancer Centers of Nevada Central...</td>\n",
       "      <td>Outpatient Center</td>\n",
       "      <td>Medical Group</td>\n",
       "      <td>10.0</td>\n",
       "      <td>10.0</td>\n",
       "      <td>10</td>\n",
       "      <td>61.0</td>\n",
       "      <td>20.0</td>\n",
       "      <td>0.506173</td>\n",
       "      <td>WEST</td>\n",
       "      <td>0.528096</td>\n",
       "    </tr>\n",
       "    <tr>\n",
       "      <th>1</th>\n",
       "      <td>582866916</td>\n",
       "      <td>6805982</td>\n",
       "      <td>N</td>\n",
       "      <td>UROLOGY</td>\n",
       "      <td>NaN</td>\n",
       "      <td>NaN</td>\n",
       "      <td>NaN</td>\n",
       "      <td>NaN</td>\n",
       "      <td>NaN</td>\n",
       "      <td>NaN</td>\n",
       "      <td>7</td>\n",
       "      <td>6.0</td>\n",
       "      <td>NaN</td>\n",
       "      <td>1.000000</td>\n",
       "      <td>WEST</td>\n",
       "      <td>0.781250</td>\n",
       "    </tr>\n",
       "    <tr>\n",
       "      <th>2</th>\n",
       "      <td>171011889</td>\n",
       "      <td>6814767</td>\n",
       "      <td>N</td>\n",
       "      <td>UROLOGY</td>\n",
       "      <td>INS00120362</td>\n",
       "      <td>Michigan Institute of Urology, PC</td>\n",
       "      <td>Outpatient Center</td>\n",
       "      <td>Medical Group</td>\n",
       "      <td>10.0</td>\n",
       "      <td>NaN</td>\n",
       "      <td>3</td>\n",
       "      <td>1.0</td>\n",
       "      <td>NaN</td>\n",
       "      <td>1.000000</td>\n",
       "      <td>MIDWEST</td>\n",
       "      <td>1.000000</td>\n",
       "    </tr>\n",
       "    <tr>\n",
       "      <th>3</th>\n",
       "      <td>645101969</td>\n",
       "      <td>6839361</td>\n",
       "      <td>N</td>\n",
       "      <td>HEMATOLOGY/ONCOLOGY</td>\n",
       "      <td>INS00115109</td>\n",
       "      <td>Saint Lukes Mountain States Tumor Institute</td>\n",
       "      <td>Outpatient Center</td>\n",
       "      <td>Medical Group</td>\n",
       "      <td>4.0</td>\n",
       "      <td>1.0</td>\n",
       "      <td>3</td>\n",
       "      <td>NaN</td>\n",
       "      <td>NaN</td>\n",
       "      <td>NaN</td>\n",
       "      <td>WEST</td>\n",
       "      <td>1.000000</td>\n",
       "    </tr>\n",
       "    <tr>\n",
       "      <th>4</th>\n",
       "      <td>152961559</td>\n",
       "      <td>6841478</td>\n",
       "      <td>N</td>\n",
       "      <td>HEMATOLOGY/ONCOLOGY</td>\n",
       "      <td>INS00041246</td>\n",
       "      <td>Medical Group of the Carolinas Hematology Onco...</td>\n",
       "      <td>Outpatient Center</td>\n",
       "      <td>Medical Group</td>\n",
       "      <td>7.0</td>\n",
       "      <td>1.0</td>\n",
       "      <td>5</td>\n",
       "      <td>1.0</td>\n",
       "      <td>NaN</td>\n",
       "      <td>1.000000</td>\n",
       "      <td>SOUTH</td>\n",
       "      <td>0.520000</td>\n",
       "    </tr>\n",
       "  </tbody>\n",
       "</table>\n",
       "</div>"
      ],
      "text/plain": [
       "   PATIENT_ID  PROVIDER_ID PN_FLAG        PRI_SPCL_DESC   IMS_ORG_ID  \\\n",
       "0   839544914      6804099       N     MEDICAL ONCOLOGY  INS00052246   \n",
       "1   582866916      6805982       N              UROLOGY          NaN   \n",
       "2   171011889      6814767       N              UROLOGY  INS00120362   \n",
       "3   645101969      6839361       N  HEMATOLOGY/ONCOLOGY  INS00115109   \n",
       "4   152961559      6841478       N  HEMATOLOGY/ONCOLOGY  INS00041246   \n",
       "\n",
       "                                       BUSINESS_NAME COT_CLASSIFICATION  \\\n",
       "0  Comprehensive Cancer Centers of Nevada Central...  Outpatient Center   \n",
       "1                                                NaN                NaN   \n",
       "2                  Michigan Institute of Urology, PC  Outpatient Center   \n",
       "3        Saint Lukes Mountain States Tumor Institute  Outpatient Center   \n",
       "4  Medical Group of the Carolinas Hematology Onco...  Outpatient Center   \n",
       "\n",
       "  COT_FACILITY_TYPE  HCOS_MCRPC_DECILE  HCP_ZX_DECILE  HCP_MCRPC_DECILE  \\\n",
       "0     Medical Group               10.0           10.0                10   \n",
       "1               NaN                NaN            NaN                 7   \n",
       "2     Medical Group               10.0            NaN                 3   \n",
       "3     Medical Group                4.0            1.0                 3   \n",
       "4     Medical Group                7.0            1.0                 5   \n",
       "\n",
       "   HCP_AGONIST_PAT_CNT  HCP_ANTAGONIST_PAT_CNT  HCP_ADT_SCORE HCP_REGION  \\\n",
       "0                 61.0                    20.0       0.506173       WEST   \n",
       "1                  6.0                     NaN       1.000000       WEST   \n",
       "2                  1.0                     NaN       1.000000    MIDWEST   \n",
       "3                  NaN                     NaN            NaN       WEST   \n",
       "4                  1.0                     NaN       1.000000      SOUTH   \n",
       "\n",
       "        HHI  \n",
       "0  0.528096  \n",
       "1  0.781250  \n",
       "2  1.000000  \n",
       "3  1.000000  \n",
       "4  0.520000  "
      ]
     },
     "execution_count": 4,
     "metadata": {},
     "output_type": "execute_result"
    }
   ],
   "source": [
    "df_HCP.head()"
   ]
  },
  {
   "cell_type": "markdown",
   "metadata": {},
   "source": [
    "### Check if numeric columns have negative values"
   ]
  },
  {
   "cell_type": "code",
   "execution_count": 47,
   "metadata": {},
   "outputs": [
    {
     "data": {
      "text/plain": [
       "PATIENT_ID                False\n",
       "PROVIDER_ID               False\n",
       "HCOS_MCRPC_DECILE         False\n",
       "HCP_ZX_DECILE             False\n",
       "HCP_MCRPC_DECILE          False\n",
       "HCP_AGONIST_PAT_CNT       False\n",
       "HCP_ANTAGONIST_PAT_CNT    False\n",
       "HCP_ADT_SCORE              True\n",
       "HHI                       False\n",
       "dtype: bool"
      ]
     },
     "execution_count": 47,
     "metadata": {},
     "output_type": "execute_result"
    }
   ],
   "source": [
    "# See if any numeric column has negative values\n",
    "(df_HCP.loc[:,df_HCP.apply(pd.api.types.is_numeric_dtype, reduce=False)] < 0).any()"
   ]
  },
  {
   "cell_type": "code",
   "execution_count": 52,
   "metadata": {},
   "outputs": [
    {
     "name": "stderr",
     "output_type": "stream",
     "text": [
      "C:\\ProgramData\\Anaconda3\\lib\\site-packages\\ipykernel_launcher.py:3: RuntimeWarning: invalid value encountered in greater_equal\n",
      "  This is separate from the ipykernel package so we can avoid doing imports until\n",
      "C:\\ProgramData\\Anaconda3\\lib\\site-packages\\ipykernel_launcher.py:3: RuntimeWarning: invalid value encountered in less_equal\n",
      "  This is separate from the ipykernel package so we can avoid doing imports until\n"
     ]
    },
    {
     "data": {
      "text/plain": [
       "array([ True,  True, False,  True,  True,  True,  True,  True,  True,\n",
       "        True,  True,  True,  True,  True,  True,  True,  True,  True,\n",
       "        True,  True,  True,  True,  True,  True,  True,  True,  True,\n",
       "        True,  True,  True,  True,  True,  True,  True,  True,  True,\n",
       "        True,  True,  True,  True,  True,  True,  True,  True,  True,\n",
       "        True,  True,  True,  True,  True,  True,  True,  True,  True,\n",
       "        True,  True,  True,  True,  True,  True,  True,  True,  True,\n",
       "        True,  True,  True,  True,  True,  True,  True,  True,  True,\n",
       "        True,  True,  True,  True,  True,  True,  True,  True,  True,\n",
       "        True,  True,  True,  True,  True,  True,  True,  True,  True,\n",
       "        True,  True,  True,  True,  True,  True,  True,  True,  True,\n",
       "        True,  True,  True], dtype=bool)"
      ]
     },
     "execution_count": 52,
     "metadata": {},
     "output_type": "execute_result"
    }
   ],
   "source": [
    "# ADT Preference score is a score ranging from -1.0 to +1.0, indicating preference for \n",
    "# ADT agonist or antagonist after initial diagnosis.  It is calculated in the following manner:\n",
    "(df_HCP['HCP_ADT_SCORE'].unique() >=-1) & (df_HCP['HCP_ADT_SCORE'].unique() <= 1)"
   ]
  },
  {
   "cell_type": "markdown",
   "metadata": {},
   "source": [
    "### Check number of unique values for each categorical column "
   ]
  },
  {
   "cell_type": "code",
   "execution_count": 24,
   "metadata": {},
   "outputs": [
    {
     "data": {
      "text/plain": [
       "PROVIDER_ID           27056\n",
       "PRI_SPCL_DESC           140\n",
       "IMS_ORG_ID            12389\n",
       "BUSINESS_NAME         11258\n",
       "COT_CLASSIFICATION       12\n",
       "COT_FACILITY_TYPE        27\n",
       "HCP_REGION                4\n",
       "dtype: int64"
      ]
     },
     "execution_count": 24,
     "metadata": {},
     "output_type": "execute_result"
    }
   ],
   "source": [
    "# We need to know the number of unique values for the following columns to decide on making dummy variables\n",
    "ls_object_columns = ['PROVIDER_ID', 'PRI_SPCL_DESC', 'IMS_ORG_ID', 'BUSINESS_NAME', 'COT_CLASSIFICATION', 'COT_FACILITY_TYPE', 'HCP_REGION']\n",
    "df_HCP[ls_object_columns].nunique()"
   ]
  },
  {
   "cell_type": "code",
   "execution_count": 18,
   "metadata": {},
   "outputs": [
    {
     "data": {
      "text/plain": [
       "array(['Outpatient Center', nan, 'Hospital', 'Residential', 'Insurance',\n",
       "       'Academic', 'Laboratory', 'Research', 'Miscellaneous', 'Pharmacy',\n",
       "       'Emergency', 'Elder Care', 'Veterinary Medicine'], dtype=object)"
      ]
     },
     "execution_count": 18,
     "metadata": {},
     "output_type": "execute_result"
    },
    {
     "data": {
      "text/plain": [
       "array(['Medical Group', nan, 'Independent Physician Practice',\n",
       "       'Acute Care Hospital', 'Imaging Center', 'Home Health',\n",
       "       'Managed Care', 'Outpatient Surgi Center', 'Nursing Homes',\n",
       "       'Medical School', 'Clinic', 'Clinical Laboratory',\n",
       "       'Other Laboratory', 'Research Institute', 'Rehabilitation Hospital',\n",
       "       'Physical Medicine and Rehabilitation', 'Non-health Delivery',\n",
       "       'Psychiatric Hospital', 'Assisted Living', 'Blood Bank',\n",
       "       'Closed-door', 'Health Department', 'Outpatient Pharmacy', 'Rescue',\n",
       "       'Adult Day Care', 'Hospital/Clinic', 'Ambulance',\n",
       "       'Research Laboratory'], dtype=object)"
      ]
     },
     "execution_count": 18,
     "metadata": {},
     "output_type": "execute_result"
    }
   ],
   "source": [
    "df_HCP['COT_CLASSIFICATION'].unique()\n",
    "df_HCP['COT_FACILITY_TYPE'].unique()"
   ]
  },
  {
   "cell_type": "markdown",
   "metadata": {},
   "source": [
    "### Check if patient ids map correctly"
   ]
  },
  {
   "cell_type": "code",
   "execution_count": 19,
   "metadata": {},
   "outputs": [
    {
     "data": {
      "text/plain": [
       "(70883, 16)"
      ]
     },
     "execution_count": 19,
     "metadata": {},
     "output_type": "execute_result"
    }
   ],
   "source": [
    "df_HCP.shape"
   ]
  },
  {
   "cell_type": "code",
   "execution_count": 20,
   "metadata": {},
   "outputs": [],
   "source": [
    "df_patient_id = pd.read_excel(r'F:\\Projects\\Pfizer_mCRPC\\Data\\Raw_data\\Pfizer_mCRPC_Patients.xlsx')"
   ]
  },
  {
   "cell_type": "code",
   "execution_count": 32,
   "metadata": {},
   "outputs": [
    {
     "data": {
      "text/plain": [
       "70883"
      ]
     },
     "execution_count": 32,
     "metadata": {},
     "output_type": "execute_result"
    },
    {
     "data": {
      "text/plain": [
       "True"
      ]
     },
     "execution_count": 32,
     "metadata": {},
     "output_type": "execute_result"
    }
   ],
   "source": [
    "# Patient IDs map perfectly\n",
    "df_HCP['PATIENT_ID'].nunique()\n",
    "set_patient_ids = set(df_patient_id['PATIENT_ID'])\n",
    "df_HCP['PATIENT_ID'].isin(set_patient_ids).all()"
   ]
  },
  {
   "cell_type": "code",
   "execution_count": 37,
   "metadata": {},
   "outputs": [
    {
     "data": {
      "text/plain": [
       "True"
      ]
     },
     "execution_count": 37,
     "metadata": {},
     "output_type": "execute_result"
    }
   ],
   "source": [
    "# And the labels are consistent\n",
    "df_merged = df_patient_id[['PATIENT_ID', 'PN_FLAG']].merge(df_HCP[['PATIENT_ID', 'PN_FLAG']], how = 'inner', on = 'PATIENT_ID')\n",
    "(df_merged['PN_FLAG_x'] == df_merged['PN_FLAG_y']).all()"
   ]
  },
  {
   "cell_type": "markdown",
   "metadata": {},
   "source": [
    "# Create dummy variables"
   ]
  },
  {
   "cell_type": "code",
   "execution_count": 53,
   "metadata": {},
   "outputs": [],
   "source": [
    "ls_cat_columns = ['PRI_SPCL_DESC', 'COT_CLASSIFICATION', 'COT_FACILITY_TYPE', 'HCP_REGION']\n",
    "df_cat = df_HCP[ls_cat_columns]"
   ]
  },
  {
   "cell_type": "code",
   "execution_count": 59,
   "metadata": {},
   "outputs": [],
   "source": [
    "df_dummies = pd.get_dummies(df_cat)"
   ]
  },
  {
   "cell_type": "markdown",
   "metadata": {},
   "source": [
    "### Clean up column names (no spaces, lower case)"
   ]
  },
  {
   "cell_type": "code",
   "execution_count": 61,
   "metadata": {},
   "outputs": [],
   "source": [
    "ls_colnames = df_dummies.columns.tolist()"
   ]
  },
  {
   "cell_type": "code",
   "execution_count": 62,
   "metadata": {},
   "outputs": [],
   "source": [
    "sys.path.append('F:\\Frederik\\pfizer_mcrpc\\paqc')\n",
    "from paqc.utils import utils"
   ]
  },
  {
   "cell_type": "code",
   "execution_count": 66,
   "metadata": {},
   "outputs": [],
   "source": [
    "ls_colnames_clean = [utils.clean_string(colname) for colname in ls_colnames]\n",
    "df_dummies.columns = ls_colnames_clean"
   ]
  },
  {
   "cell_type": "markdown",
   "metadata": {},
   "source": [
    "### Merge with the original dataframe"
   ]
  },
  {
   "cell_type": "code",
   "execution_count": 74,
   "metadata": {},
   "outputs": [
    {
     "data": {
      "text/plain": [
       "(70883, 8)"
      ]
     },
     "execution_count": 74,
     "metadata": {},
     "output_type": "execute_result"
    }
   ],
   "source": [
    "# Drop the unused columns (the ones changed into dummies and the ones that we don't use)\n",
    "ls_deleted_columns = ['PROVIDER_ID', 'PN_FLAG', 'IMS_ORG_ID', 'BUSINESS_NAME', 'PRI_SPCL_DESC', \n",
    "                      'COT_CLASSIFICATION', 'COT_FACILITY_TYPE', 'HCP_REGION']\n",
    "df_HCP = df_HCP.drop(ls_deleted_columns, axis=1)\n",
    "df_HCP.shape"
   ]
  },
  {
   "cell_type": "code",
   "execution_count": 81,
   "metadata": {},
   "outputs": [
    {
     "data": {
      "text/plain": [
       "(70883, 191)"
      ]
     },
     "execution_count": 81,
     "metadata": {},
     "output_type": "execute_result"
    }
   ],
   "source": [
    "# Done\n",
    "df_total = pd.concat([df_HCP, df_dummies], axis=1)\n",
    "df_total.shape"
   ]
  },
  {
   "cell_type": "markdown",
   "metadata": {},
   "source": [
    "# Export to csv"
   ]
  },
  {
   "cell_type": "code",
   "execution_count": 82,
   "metadata": {},
   "outputs": [],
   "source": [
    "df_total.to_csv(r'F:\\Projects\\Pfizer_mCRPC\\Data\\Raw_data\\Pfizer_mCRPC_HCPHCOS_WITH_DUMMIES.csv')"
   ]
  },
  {
   "cell_type": "code",
   "execution_count": null,
   "metadata": {},
   "outputs": [],
   "source": []
  }
 ],
 "metadata": {
  "kernelspec": {
   "display_name": "Python 3",
   "language": "python",
   "name": "python3"
  },
  "language_info": {
   "codemirror_mode": {
    "name": "ipython",
    "version": 3
   },
   "file_extension": ".py",
   "mimetype": "text/x-python",
   "name": "python",
   "nbconvert_exporter": "python",
   "pygments_lexer": "ipython3",
   "version": "3.6.3"
  }
 },
 "nbformat": 4,
 "nbformat_minor": 2
}

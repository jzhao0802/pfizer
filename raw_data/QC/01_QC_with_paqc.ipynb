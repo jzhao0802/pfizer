{
 "cells": [
  {
   "cell_type": "code",
   "execution_count": 9,
   "metadata": {},
   "outputs": [],
   "source": [
    "import os\n",
    "import sys\n",
    "import pandas as pd\n",
    "import re"
   ]
  },
  {
   "cell_type": "code",
   "execution_count": 2,
   "metadata": {},
   "outputs": [],
   "source": [
    "sys.path.append('F:\\Frederik\\pfizer_mcrpc\\paqc')"
   ]
  },
  {
   "cell_type": "code",
   "execution_count": 3,
   "metadata": {},
   "outputs": [],
   "source": [
    "from paqc.report import report\n",
    "from paqc.connectors import csv\n",
    "from paqc.driver import driver\n",
    "from paqc.utils import config_utils"
   ]
  },
  {
   "cell_type": "code",
   "execution_count": 75,
   "metadata": {},
   "outputs": [],
   "source": [
    "from IPython.core.interactiveshell import InteractiveShell\n",
    "InteractiveShell.ast_node_interactivity = \"all\""
   ]
  },
  {
   "cell_type": "code",
   "execution_count": 5,
   "metadata": {},
   "outputs": [
    {
     "name": "stderr",
     "output_type": "stream",
     "text": [
      "C:\\Program Files\\Anaconda3\\lib\\site-packages\\IPython\\core\\interactiveshell.py:2717: DtypeWarning: Columns (8,9,20,21,24,25,28,29,40,41,44,45,48,49,64,65,76,77,80,81,92,93,100,101,108,109,120,121,124,125,128,129,136,137,164,165,184,185,188,189,192,193,200,201,204,205,220,221,236,237,252,253,256,257,272,273,276,277,284,285,304,305,308,309,316,317,324,325,328,329,332,333,340,341,348,349,352,353,368,369,388,389,396,397,404,405,452,453,460,461,468,469,492,493,524,525,532,533,536,537,540,541,544,545,548,549,556,557,592,593,600,601,628,629,640,641,652,653,664,665,668,669,672,673,680,681,712,713,716,717,720,721,748,749,752,753,768,769,792,793,800,801,816,817,820,821,824,825,828,829,844,845,852,853,896,897,912,913,920,921,940,941,944,945,948,949,956,957,964,965,988,989,1000,1001,1012,1013,1028,1029,1040,1041,1060,1061,1064,1065,1068,1069,1076,1077,1080,1081,1084,1085,1128,1129,1180,1181,1204,1205,1208,1209,1212,1213,1244,1245,1260,1261,1280,1281,1284,1285,1304,1305,1312,1313,1344,1345,1408,1409,1412,1413,1416,1417,1420,1421,1444,1445,1468,1469,1480,1481,1488,1489,1492,1493,1496,1497,1504,1505,1508,1509,1512,1513,1524,1525,1528,1529,1536,1537,1544,1545,1552,1553,1568,1569,1596,1597,1600,1601,1608,1609,1620,1621,1632,1633,1644,1645,1652,1653,1660,1661,1708,1709,1712,1713,1720,1721,1724,1725,1732,1733,1748,1749,1768,1769,1776,1777,1780,1781,1788,1789,1796,1797,1804,1805,1828,1829,1832,1833,1836,1837,1844,1845,1848,1849,1852,1853,1868,1869,1872,1873,1876,1877,1884,1885,1896,1897,1932,1933,1940,1941,1960,1961,1964,1965,1988,1989,1996,1997,2000,2001,2004,2005,2012,2013,2048,2049,2064,2065,2076,2077,2096,2097,2108,2109,2136,2137,2176,2177,2180,2181,2188,2189,2192,2193,2200,2201,2220,2221,2236,2237,2252,2253,2268,2269,2284,2285,2288,2289,2296,2297,2320,2321,2360,2361,2384,2385,2408,2409,2428,2429,2452,2453,2468,2469,2476,2477,2512,2513,2516,2517,2540,2541,2560,2561,2564,2565,2584,2585,2604,2605,2628,2629,2640,2641,2652,2653,2664,2665,2688,2689,2708,2709,2716,2717,2732,2733,2772,2773,2788,2789,2792,2793,2796,2797,2804,2805,2824,2825,2828,2829,2844,2845,2852,2853,2856,2857,2868,2869,2888,2889,2896,2897,2920,2921,2928,2929,2944,2945,2948,2949,2960,2961,2976,2977,2980,2981,2984,2985,2988,2989,2992,2993,2996,2997,3000,3001,3004,3005,3028,3029,3036,3037,3056,3057,3064,3065,3068,3069,3080,3081,3084,3085,3088,3089,3096,3097,3100,3101,3104,3105,3108,3109,3128,3129,3140,3141,3152,3153,3164,3165,3176,3177,3184,3185,3192,3193,3224,3225,3228,3229,3232,3233,3240,3241,3244,3245,3256,3257,3272,3273,3284,3285,3296,3297,3316,3317,3364,3365,3420,3421,3428,3429,3440,3441,3452,3453,3456,3457,3460,3461,3468,3469,3512,3513) have mixed types. Specify dtype option on import or set low_memory=False.\n",
      "  interactivity=interactivity, compiler=compiler, result=result)\n"
     ]
    }
   ],
   "source": [
    "# Make a subset of around 700 to be able to test things\n",
    "df = pd.read_csv(r'F:\\Projects\\Pfizer_mCRPC\\Data\\Raw_data\\total.csv')\n",
    "df = df.iloc[::100, :]\n",
    "df.to_csv(r'F:\\Projects\\Pfizer_mCRPC\\Data\\Raw_data\\subset_1000.csv', index=False)"
   ]
  },
  {
   "cell_type": "code",
   "execution_count": 8,
   "metadata": {},
   "outputs": [],
   "source": [
    "dict_config = config_utils.config_open(r'F:\\Frederik\\pfizer_mcrpc\\pfizer_mcrpc\\raw_data\\QC\\general_config.yml')[1]"
   ]
  },
  {
   "cell_type": "markdown",
   "metadata": {},
   "source": [
    "<h1> First QC run </h1>"
   ]
  },
  {
   "cell_type": "code",
   "execution_count": 8,
   "metadata": {
    "collapsed": true
   },
   "outputs": [],
   "source": [
    "# Viewing from the htmls, we can go through the qcs that didn't pass, qc19:\n",
    "idx_wrong = [794, 9195, 13271, 24971, 55398, 57644, 68542]\n",
    "df_index = pd.read_csv(r'F:\\Projects\\Pfizer_mCRPC\\Data\\Raw_data\\total.csv', usecols=['INDEX_DATE'])"
   ]
  },
  {
   "cell_type": "code",
   "execution_count": 11,
   "metadata": {},
   "outputs": [
    {
     "data": {
      "text/html": [
       "<div>\n",
       "<table border=\"1\" class=\"dataframe\">\n",
       "  <thead>\n",
       "    <tr style=\"text-align: right;\">\n",
       "      <th></th>\n",
       "      <th>INDEX_DATE</th>\n",
       "    </tr>\n",
       "  </thead>\n",
       "  <tbody>\n",
       "    <tr>\n",
       "      <th>794</th>\n",
       "      <td>01/01/2014</td>\n",
       "    </tr>\n",
       "    <tr>\n",
       "      <th>9195</th>\n",
       "      <td>01/01/2014</td>\n",
       "    </tr>\n",
       "    <tr>\n",
       "      <th>13271</th>\n",
       "      <td>01/01/2014</td>\n",
       "    </tr>\n",
       "    <tr>\n",
       "      <th>24971</th>\n",
       "      <td>01/01/2014</td>\n",
       "    </tr>\n",
       "    <tr>\n",
       "      <th>55398</th>\n",
       "      <td>01/01/2014</td>\n",
       "    </tr>\n",
       "    <tr>\n",
       "      <th>57644</th>\n",
       "      <td>01/01/2014</td>\n",
       "    </tr>\n",
       "    <tr>\n",
       "      <th>68542</th>\n",
       "      <td>01/01/2014</td>\n",
       "    </tr>\n",
       "  </tbody>\n",
       "</table>\n",
       "</div>"
      ],
      "text/plain": [
       "       INDEX_DATE\n",
       "794    01/01/2014\n",
       "9195   01/01/2014\n",
       "13271  01/01/2014\n",
       "24971  01/01/2014\n",
       "55398  01/01/2014\n",
       "57644  01/01/2014\n",
       "68542  01/01/2014"
      ]
     },
     "execution_count": 11,
     "metadata": {},
     "output_type": "execute_result"
    }
   ],
   "source": [
    "# Data is fine, qc19 changed so that it's bigger or equal, instead of bigger\n",
    "df_index.loc[idx_wrong]"
   ]
  },
  {
   "cell_type": "code",
   "execution_count": 21,
   "metadata": {},
   "outputs": [],
   "source": [
    "# qc1, some column names have trailing spaces\n",
    "faulty_colnames = pd.read_csv('report/extra3_2017-12-11_18_32_10.csv', header=None)[0].tolist()\n",
    "improved_colnames = [faulty_colname.strip() for faulty_colname in faulty_colnames]\n",
    "mapping_colnames = {old: new for old, new in zip(faulty_colnames, improved_colnames)}"
   ]
  },
  {
   "cell_type": "code",
   "execution_count": 29,
   "metadata": {},
   "outputs": [],
   "source": [
    "df = df.rename(columns = mapping_colnames)"
   ]
  },
  {
   "cell_type": "code",
   "execution_count": 30,
   "metadata": {
    "collapsed": true
   },
   "outputs": [],
   "source": [
    "# qc15, PN_FLAG is the label and has values N and P, but is expected to be numeric, so problem\n",
    "df['PN_FLAG'] = df['PN_FLAG'].map({'N':0, 'P': 1})"
   ]
  },
  {
   "cell_type": "code",
   "execution_count": 36,
   "metadata": {
    "collapsed": true
   },
   "outputs": [],
   "source": [
    "# Export to CSV, every of these QCs should pass now\n",
    "df.to_csv(r'F:\\Projects\\Pfizer_mCRPC\\Data\\Raw_data\\total.csv', index=False)"
   ]
  },
  {
   "cell_type": "markdown",
   "metadata": {},
   "source": [
    "<h1> Second QC run </h1>"
   ]
  },
  {
   "cell_type": "code",
   "execution_count": 125,
   "metadata": {},
   "outputs": [
    {
     "name": "stdout",
     "output_type": "stream",
     "text": [
      "Loading config file...\n",
      "Checking and parsing config file...\n",
      "Config file checked and parsed. Starting QC pipeline...\n",
      "-------------------------------------------------------\n",
      "Starting QCs on input1, file path: F:/Projects/Pfizer_mCRPC/Data/Raw_data/total.csv\n",
      "Executing test qc9 on input1: F:/Projects/Pfizer_mCRPC/Data/Raw_data/total.csv\n",
      "Executing test qc9 on input1: F:/Projects/Pfizer_mCRPC/Data/Raw_data/total.csv\n",
      "Executing test qc1 on input1: F:/Projects/Pfizer_mCRPC/Data/Raw_data/total.csv\n",
      "Executing test qc3 on input1: F:/Projects/Pfizer_mCRPC/Data/Raw_data/total.csv\n",
      "Executing test qc4 on input1: F:/Projects/Pfizer_mCRPC/Data/Raw_data/total.csv\n",
      "Executing test qc6 on input1: F:/Projects/Pfizer_mCRPC/Data/Raw_data/total.csv\n",
      "Executing test qc7 on input1: F:/Projects/Pfizer_mCRPC/Data/Raw_data/total.csv\n",
      "Executing test qc8 on input1: F:/Projects/Pfizer_mCRPC/Data/Raw_data/total.csv\n",
      "Executing test qc11 on input1: F:/Projects/Pfizer_mCRPC/Data/Raw_data/total.csv\n",
      "Executing test qc12 on input1: F:/Projects/Pfizer_mCRPC/Data/Raw_data/total.csv\n",
      "Executing test qc13 on input1: F:/Projects/Pfizer_mCRPC/Data/Raw_data/total.csv\n",
      "Executing test qc14 on input1: F:/Projects/Pfizer_mCRPC/Data/Raw_data/total.csv\n",
      "Executing test qc15 on input1: F:/Projects/Pfizer_mCRPC/Data/Raw_data/total.csv\n",
      "Executing test qc16 on input1: F:/Projects/Pfizer_mCRPC/Data/Raw_data/total.csv\n",
      "Executing test qc16 on input1: F:/Projects/Pfizer_mCRPC/Data/Raw_data/total.csv\n",
      "Executing test qc16 on input1: F:/Projects/Pfizer_mCRPC/Data/Raw_data/total.csv\n",
      "Executing test qc16 on input1: F:/Projects/Pfizer_mCRPC/Data/Raw_data/total.csv\n",
      "Executing test qc16 on input1: F:/Projects/Pfizer_mCRPC/Data/Raw_data/total.csv\n",
      "Executing test qc18 on input1: F:/Projects/Pfizer_mCRPC/Data/Raw_data/total.csv\n",
      "Executing test qc19 on input1: F:/Projects/Pfizer_mCRPC/Data/Raw_data/total.csv\n",
      "-------------------------------------------------------\n",
      "Generating HTML and CSV report...\n",
      "-------------------------------------------------------\n"
     ]
    },
    {
     "name": "stderr",
     "output_type": "stream",
     "text": [
      "C:\\ProgramData\\Anaconda3\\lib\\site-packages\\pandas\\core\\indexing.py:537: SettingWithCopyWarning: \n",
      "A value is trying to be set on a copy of a slice from a DataFrame.\n",
      "Try using .loc[row_indexer,col_indexer] = value instead\n",
      "\n",
      "See the caveats in the documentation: http://pandas.pydata.org/pandas-docs/stable/indexing.html#indexing-view-versus-copy\n",
      "  self.obj[item] = s\n"
     ]
    }
   ],
   "source": [
    "# Run the qcs again, with some extras\n",
    "d = driver.Driver(r'F:\\Frederik\\pfizer_mcrpc\\pfizer_mcrpc\\raw_data\\QC\\general_config.yml')\n",
    "d.run()"
   ]
  },
  {
   "cell_type": "code",
   "execution_count": null,
   "metadata": {},
   "outputs": [],
   "source": [
    "df = pd.read_csv(r'F:\\Projects\\Pfizer_mCRPC\\Data\\Raw_data\\total.csv')"
   ]
  },
  {
   "cell_type": "code",
   "execution_count": 5,
   "metadata": {},
   "outputs": [],
   "source": [
    "# Most columns have dates on the index, never after. But on is still a problem\n",
    "late_cols = pd.read_csv('report/extra2_2017-12-11_18_32_10.csv')\n",
    "late_cols = late_cols.values.tolist()\n",
    "late_cols = [late_col[0] for late_col in late_cols]\n",
    "late_cols.insert(0, 'INDEX_DATE')"
   ]
  },
  {
   "cell_type": "code",
   "execution_count": 6,
   "metadata": {},
   "outputs": [],
   "source": [
    "df_prob =  df[late_cols].apply(lambda x: pd.to_datetime(x, format = '%m/%d/%Y'))"
   ]
  },
  {
   "cell_type": "code",
   "execution_count": 7,
   "metadata": {},
   "outputs": [],
   "source": [
    "# To give an idea of how many rows are not null for each feature\n",
    "ss_notnull = (~df_prob.isnull()).sum()"
   ]
  },
  {
   "cell_type": "code",
   "execution_count": 8,
   "metadata": {},
   "outputs": [
    {
     "data": {
      "text/plain": [
       "0"
      ]
     },
     "execution_count": 8,
     "metadata": {},
     "output_type": "execute_result"
    }
   ],
   "source": [
    "# No value is after it's index date\n",
    "df_prob.apply(lambda x: x > df_prob['INDEX_DATE']).sum().sum()"
   ]
  },
  {
   "cell_type": "code",
   "execution_count": 9,
   "metadata": {},
   "outputs": [],
   "source": [
    "# But plenty are on the index date\n",
    "ss_onindex = df_prob.apply(lambda x: x >= df_prob['INDEX_DATE']).sum()"
   ]
  },
  {
   "cell_type": "code",
   "execution_count": 15,
   "metadata": {},
   "outputs": [],
   "source": [
    "df_onindex = pd.DataFrame({'OnIndex':(ss_onindex/ss_notnull), 'NotNull': ss_notnull})"
   ]
  },
  {
   "cell_type": "markdown",
   "metadata": {},
   "source": [
    "<h1> Check if X/Z prescription is strictly after index date </h1>"
   ]
  },
  {
   "cell_type": "code",
   "execution_count": 91,
   "metadata": {},
   "outputs": [],
   "source": [
    "df_flatfile = pd.read_csv(r'F:\\Projects\\Pfizer_mCRPC\\Data\\Raw_data\\PFA\\Pfizer_mCRPC_IDP_v2.csv')"
   ]
  },
  {
   "cell_type": "code",
   "execution_count": 92,
   "metadata": {},
   "outputs": [],
   "source": [
    "x_z_colnames = ['ENZALUTAMIDE_1ST_RX_DT_OVERALL', 'ENZALUTAMIDE_FIRST_RX_DT_POST', \n",
    "                'ABIRATERONE_1ST_RX_DT_OVERALL', 'ABIRATERONE_FIRST_RX_DT_POST']"
   ]
  },
  {
   "cell_type": "code",
   "execution_count": 93,
   "metadata": {},
   "outputs": [],
   "source": [
    "df_xz = df_flatfile[x_z_colnames]"
   ]
  },
  {
   "cell_type": "code",
   "execution_count": 94,
   "metadata": {},
   "outputs": [],
   "source": [
    "df_xz=  df_xz.apply(lambda x: pd.to_datetime(x, format = '%m/%d/%Y'))"
   ]
  },
  {
   "cell_type": "code",
   "execution_count": 95,
   "metadata": {},
   "outputs": [],
   "source": [
    "df_xz['PATIENT_ID'] = df_flatfile['PATIENT_ID']"
   ]
  },
  {
   "cell_type": "code",
   "execution_count": 96,
   "metadata": {},
   "outputs": [
    {
     "data": {
      "text/html": [
       "<div>\n",
       "<style scoped>\n",
       "    .dataframe tbody tr th:only-of-type {\n",
       "        vertical-align: middle;\n",
       "    }\n",
       "\n",
       "    .dataframe tbody tr th {\n",
       "        vertical-align: top;\n",
       "    }\n",
       "\n",
       "    .dataframe thead th {\n",
       "        text-align: right;\n",
       "    }\n",
       "</style>\n",
       "<table border=\"1\" class=\"dataframe\">\n",
       "  <thead>\n",
       "    <tr style=\"text-align: right;\">\n",
       "      <th></th>\n",
       "      <th>ENZALUTAMIDE_1ST_RX_DT_OVERALL</th>\n",
       "      <th>ENZALUTAMIDE_FIRST_RX_DT_POST</th>\n",
       "      <th>ABIRATERONE_1ST_RX_DT_OVERALL</th>\n",
       "      <th>ABIRATERONE_FIRST_RX_DT_POST</th>\n",
       "      <th>PATIENT_ID</th>\n",
       "    </tr>\n",
       "  </thead>\n",
       "  <tbody>\n",
       "    <tr>\n",
       "      <th>0</th>\n",
       "      <td>NaT</td>\n",
       "      <td>NaT</td>\n",
       "      <td>NaT</td>\n",
       "      <td>NaT</td>\n",
       "      <td>52378448</td>\n",
       "    </tr>\n",
       "    <tr>\n",
       "      <th>1</th>\n",
       "      <td>NaT</td>\n",
       "      <td>NaT</td>\n",
       "      <td>NaT</td>\n",
       "      <td>NaT</td>\n",
       "      <td>268555353</td>\n",
       "    </tr>\n",
       "    <tr>\n",
       "      <th>2</th>\n",
       "      <td>NaT</td>\n",
       "      <td>NaT</td>\n",
       "      <td>NaT</td>\n",
       "      <td>NaT</td>\n",
       "      <td>61671419</td>\n",
       "    </tr>\n",
       "    <tr>\n",
       "      <th>3</th>\n",
       "      <td>NaT</td>\n",
       "      <td>NaT</td>\n",
       "      <td>NaT</td>\n",
       "      <td>NaT</td>\n",
       "      <td>1320563705</td>\n",
       "    </tr>\n",
       "    <tr>\n",
       "      <th>4</th>\n",
       "      <td>NaT</td>\n",
       "      <td>NaT</td>\n",
       "      <td>NaT</td>\n",
       "      <td>NaT</td>\n",
       "      <td>861053886</td>\n",
       "    </tr>\n",
       "  </tbody>\n",
       "</table>\n",
       "</div>"
      ],
      "text/plain": [
       "  ENZALUTAMIDE_1ST_RX_DT_OVERALL ENZALUTAMIDE_FIRST_RX_DT_POST  \\\n",
       "0                            NaT                           NaT   \n",
       "1                            NaT                           NaT   \n",
       "2                            NaT                           NaT   \n",
       "3                            NaT                           NaT   \n",
       "4                            NaT                           NaT   \n",
       "\n",
       "  ABIRATERONE_1ST_RX_DT_OVERALL ABIRATERONE_FIRST_RX_DT_POST  PATIENT_ID  \n",
       "0                           NaT                          NaT    52378448  \n",
       "1                           NaT                          NaT   268555353  \n",
       "2                           NaT                          NaT    61671419  \n",
       "3                           NaT                          NaT  1320563705  \n",
       "4                           NaT                          NaT   861053886  "
      ]
     },
     "execution_count": 96,
     "metadata": {},
     "output_type": "execute_result"
    }
   ],
   "source": [
    "df_xz.head()"
   ]
  },
  {
   "cell_type": "code",
   "execution_count": 97,
   "metadata": {},
   "outputs": [],
   "source": [
    "df_index = pd.read_excel(r'F:\\Projects\\Pfizer_mCRPC\\Data\\Raw_data\\Pfizer_mCRPC_Patients.xlsx')\n",
    "df_index = df_index[['PATIENT_ID', 'PN_FLAG', 'INDEX_DATE']]"
   ]
  },
  {
   "cell_type": "code",
   "execution_count": 98,
   "metadata": {},
   "outputs": [],
   "source": [
    "df_index['INDEX_DATE'] = pd.to_datetime(df_index['INDEX_DATE'], format = '%m/%d/%Y')"
   ]
  },
  {
   "cell_type": "code",
   "execution_count": 99,
   "metadata": {},
   "outputs": [
    {
     "data": {
      "text/html": [
       "<div>\n",
       "<style scoped>\n",
       "    .dataframe tbody tr th:only-of-type {\n",
       "        vertical-align: middle;\n",
       "    }\n",
       "\n",
       "    .dataframe tbody tr th {\n",
       "        vertical-align: top;\n",
       "    }\n",
       "\n",
       "    .dataframe thead th {\n",
       "        text-align: right;\n",
       "    }\n",
       "</style>\n",
       "<table border=\"1\" class=\"dataframe\">\n",
       "  <thead>\n",
       "    <tr style=\"text-align: right;\">\n",
       "      <th></th>\n",
       "      <th>PATIENT_ID</th>\n",
       "      <th>PN_FLAG</th>\n",
       "      <th>INDEX_DATE</th>\n",
       "    </tr>\n",
       "  </thead>\n",
       "  <tbody>\n",
       "    <tr>\n",
       "      <th>0</th>\n",
       "      <td>377317624</td>\n",
       "      <td>N</td>\n",
       "      <td>2016-04-21</td>\n",
       "    </tr>\n",
       "    <tr>\n",
       "      <th>1</th>\n",
       "      <td>73066609</td>\n",
       "      <td>N</td>\n",
       "      <td>2017-05-08</td>\n",
       "    </tr>\n",
       "    <tr>\n",
       "      <th>2</th>\n",
       "      <td>70175556</td>\n",
       "      <td>N</td>\n",
       "      <td>2016-06-20</td>\n",
       "    </tr>\n",
       "    <tr>\n",
       "      <th>3</th>\n",
       "      <td>713474282</td>\n",
       "      <td>N</td>\n",
       "      <td>2016-04-24</td>\n",
       "    </tr>\n",
       "    <tr>\n",
       "      <th>4</th>\n",
       "      <td>1563563420</td>\n",
       "      <td>N</td>\n",
       "      <td>2014-05-14</td>\n",
       "    </tr>\n",
       "  </tbody>\n",
       "</table>\n",
       "</div>"
      ],
      "text/plain": [
       "   PATIENT_ID PN_FLAG INDEX_DATE\n",
       "0   377317624       N 2016-04-21\n",
       "1    73066609       N 2017-05-08\n",
       "2    70175556       N 2016-06-20\n",
       "3   713474282       N 2016-04-24\n",
       "4  1563563420       N 2014-05-14"
      ]
     },
     "execution_count": 99,
     "metadata": {},
     "output_type": "execute_result"
    }
   ],
   "source": [
    "df_index.head()"
   ]
  },
  {
   "cell_type": "code",
   "execution_count": 100,
   "metadata": {},
   "outputs": [],
   "source": [
    "df = df_index.merge(df_xz, on='PATIENT_ID', how='left')"
   ]
  },
  {
   "cell_type": "code",
   "execution_count": 101,
   "metadata": {},
   "outputs": [
    {
     "data": {
      "text/html": [
       "<div>\n",
       "<style scoped>\n",
       "    .dataframe tbody tr th:only-of-type {\n",
       "        vertical-align: middle;\n",
       "    }\n",
       "\n",
       "    .dataframe tbody tr th {\n",
       "        vertical-align: top;\n",
       "    }\n",
       "\n",
       "    .dataframe thead th {\n",
       "        text-align: right;\n",
       "    }\n",
       "</style>\n",
       "<table border=\"1\" class=\"dataframe\">\n",
       "  <thead>\n",
       "    <tr style=\"text-align: right;\">\n",
       "      <th></th>\n",
       "      <th>PATIENT_ID</th>\n",
       "      <th>PN_FLAG</th>\n",
       "      <th>INDEX_DATE</th>\n",
       "      <th>ENZALUTAMIDE_1ST_RX_DT_OVERALL</th>\n",
       "      <th>ENZALUTAMIDE_FIRST_RX_DT_POST</th>\n",
       "      <th>ABIRATERONE_1ST_RX_DT_OVERALL</th>\n",
       "      <th>ABIRATERONE_FIRST_RX_DT_POST</th>\n",
       "    </tr>\n",
       "  </thead>\n",
       "  <tbody>\n",
       "    <tr>\n",
       "      <th>0</th>\n",
       "      <td>377317624</td>\n",
       "      <td>N</td>\n",
       "      <td>2016-04-21</td>\n",
       "      <td>NaT</td>\n",
       "      <td>NaT</td>\n",
       "      <td>NaT</td>\n",
       "      <td>NaT</td>\n",
       "    </tr>\n",
       "    <tr>\n",
       "      <th>1</th>\n",
       "      <td>73066609</td>\n",
       "      <td>N</td>\n",
       "      <td>2017-05-08</td>\n",
       "      <td>NaT</td>\n",
       "      <td>NaT</td>\n",
       "      <td>NaT</td>\n",
       "      <td>NaT</td>\n",
       "    </tr>\n",
       "    <tr>\n",
       "      <th>2</th>\n",
       "      <td>70175556</td>\n",
       "      <td>N</td>\n",
       "      <td>2016-06-20</td>\n",
       "      <td>NaT</td>\n",
       "      <td>NaT</td>\n",
       "      <td>NaT</td>\n",
       "      <td>NaT</td>\n",
       "    </tr>\n",
       "    <tr>\n",
       "      <th>3</th>\n",
       "      <td>713474282</td>\n",
       "      <td>N</td>\n",
       "      <td>2016-04-24</td>\n",
       "      <td>NaT</td>\n",
       "      <td>NaT</td>\n",
       "      <td>NaT</td>\n",
       "      <td>NaT</td>\n",
       "    </tr>\n",
       "    <tr>\n",
       "      <th>4</th>\n",
       "      <td>1563563420</td>\n",
       "      <td>N</td>\n",
       "      <td>2014-05-14</td>\n",
       "      <td>2016-07-18</td>\n",
       "      <td>2016-07-18</td>\n",
       "      <td>NaT</td>\n",
       "      <td>NaT</td>\n",
       "    </tr>\n",
       "  </tbody>\n",
       "</table>\n",
       "</div>"
      ],
      "text/plain": [
       "   PATIENT_ID PN_FLAG INDEX_DATE ENZALUTAMIDE_1ST_RX_DT_OVERALL  \\\n",
       "0   377317624       N 2016-04-21                            NaT   \n",
       "1    73066609       N 2017-05-08                            NaT   \n",
       "2    70175556       N 2016-06-20                            NaT   \n",
       "3   713474282       N 2016-04-24                            NaT   \n",
       "4  1563563420       N 2014-05-14                     2016-07-18   \n",
       "\n",
       "  ENZALUTAMIDE_FIRST_RX_DT_POST ABIRATERONE_1ST_RX_DT_OVERALL  \\\n",
       "0                           NaT                           NaT   \n",
       "1                           NaT                           NaT   \n",
       "2                           NaT                           NaT   \n",
       "3                           NaT                           NaT   \n",
       "4                    2016-07-18                           NaT   \n",
       "\n",
       "  ABIRATERONE_FIRST_RX_DT_POST  \n",
       "0                          NaT  \n",
       "1                          NaT  \n",
       "2                          NaT  \n",
       "3                          NaT  \n",
       "4                          NaT  "
      ]
     },
     "execution_count": 101,
     "metadata": {},
     "output_type": "execute_result"
    }
   ],
   "source": [
    "df.head()"
   ]
  },
  {
   "cell_type": "code",
   "execution_count": 102,
   "metadata": {},
   "outputs": [
    {
     "data": {
      "text/plain": [
       "ENZALUTAMIDE_1ST_RX_DT_OVERALL    0\n",
       "ENZALUTAMIDE_FIRST_RX_DT_POST     0\n",
       "ABIRATERONE_1ST_RX_DT_OVERALL     0\n",
       "ABIRATERONE_FIRST_RX_DT_POST      0\n",
       "dtype: int64"
      ]
     },
     "execution_count": 102,
     "metadata": {},
     "output_type": "execute_result"
    }
   ],
   "source": [
    "# No patient ever had X or Z before index date\n",
    "df[x_z_colnames].apply(lambda x: x < df['INDEX_DATE']).sum()"
   ]
  },
  {
   "cell_type": "code",
   "execution_count": 103,
   "metadata": {},
   "outputs": [
    {
     "data": {
      "text/plain": [
       "ENZALUTAMIDE_1ST_RX_DT_OVERALL    59\n",
       "ENZALUTAMIDE_FIRST_RX_DT_POST     59\n",
       "ABIRATERONE_1ST_RX_DT_OVERALL     80\n",
       "ABIRATERONE_FIRST_RX_DT_POST      80\n",
       "dtype: int64"
      ]
     },
     "execution_count": 103,
     "metadata": {},
     "output_type": "execute_result"
    }
   ],
   "source": [
    "# A (small) amount of patients was prescribed on the index date\n",
    "df[x_z_colnames].apply(lambda x: x == df['INDEX_DATE']).sum()"
   ]
  },
  {
   "cell_type": "code",
   "execution_count": 104,
   "metadata": {},
   "outputs": [
    {
     "data": {
      "text/plain": [
       "ENZALUTAMIDE_1ST_RX_DT_OVERALL    59\n",
       "ENZALUTAMIDE_FIRST_RX_DT_POST     59\n",
       "ABIRATERONE_1ST_RX_DT_OVERALL     80\n",
       "ABIRATERONE_FIRST_RX_DT_POST      80\n",
       "dtype: int64"
      ]
     },
     "execution_count": 104,
     "metadata": {},
     "output_type": "execute_result"
    }
   ],
   "source": [
    "# All of which belong to the positive class\n",
    "df.loc[df['PN_FLAG'] == 'P', x_z_colnames].apply(lambda x: x == df.loc[df['PN_FLAG'] == 'P', 'INDEX_DATE']).sum()"
   ]
  },
  {
   "cell_type": "code",
   "execution_count": 105,
   "metadata": {},
   "outputs": [
    {
     "data": {
      "text/plain": [
       "139"
      ]
     },
     "execution_count": 105,
     "metadata": {},
     "output_type": "execute_result"
    }
   ],
   "source": [
    "# Check how many in total (X or Z)\n",
    "df[x_z_colnames].apply(lambda x: x == df['INDEX_DATE']).any(axis=1).sum()"
   ]
  },
  {
   "cell_type": "code",
   "execution_count": 108,
   "metadata": {},
   "outputs": [],
   "source": [
    "# List those patients\n",
    "df_xz_on_index = df[df[x_z_colnames].apply(lambda x: x == df['INDEX_DATE']).any(axis=1)]"
   ]
  },
  {
   "cell_type": "code",
   "execution_count": 110,
   "metadata": {},
   "outputs": [],
   "source": [
    "df_xz_on_index.to_csv(r'F:\\Projects\\Pfizer_mCRPC\\Data\\Raw_data\\Patients_XZ_on_index.csv', index=False)"
   ]
  },
  {
   "cell_type": "markdown",
   "metadata": {},
   "source": [
    "<h1> Check how many of patients with X/Z on index date are in the EMR data </h1>"
   ]
  },
  {
   "cell_type": "code",
   "execution_count": 111,
   "metadata": {},
   "outputs": [],
   "source": [
    "df_xz_on_index = pd.read_csv(r'F:\\Projects\\Pfizer_mCRPC\\Data\\Raw_data\\Patients_XZ_on_index.csv')"
   ]
  },
  {
   "cell_type": "code",
   "execution_count": 113,
   "metadata": {},
   "outputs": [],
   "source": [
    "df_onc_emr = pd.read_excel(r'F:\\Projects\\Pfizer_mCRPC\\Data\\Raw_data\\patients_link_OncEMR.xlsx')"
   ]
  },
  {
   "cell_type": "code",
   "execution_count": 121,
   "metadata": {},
   "outputs": [],
   "source": [
    "pat_id_xz_on_index = set(df_xz_on_index['PATIENT_ID'].tolist())"
   ]
  },
  {
   "cell_type": "code",
   "execution_count": 124,
   "metadata": {},
   "outputs": [
    {
     "data": {
      "text/plain": [
       "10"
      ]
     },
     "execution_count": 124,
     "metadata": {},
     "output_type": "execute_result"
    }
   ],
   "source": [
    "# Number of the 139 patients with X/Z on index date that are also in the oncology EMR dataset\n",
    "df_onc_emr['PATIENT_ID'].isin(pat_id_xz_on_index).sum()"
   ]
  },
  {
   "cell_type": "markdown",
   "metadata": {},
   "source": [
    "<h1> Check if x or z is within 90 days for positive cohort </h1>"
   ]
  },
  {
   "cell_type": "code",
   "execution_count": 54,
   "metadata": {},
   "outputs": [],
   "source": [
    "df_pos = df[df['PN_FLAG'] == 'P']\n",
    "df_neg = df[df['PN_FLAG'] == 'N']"
   ]
  },
  {
   "cell_type": "code",
   "execution_count": 59,
   "metadata": {},
   "outputs": [
    {
     "data": {
      "text/plain": [
       "Timedelta('90 days 00:00:00')"
      ]
     },
     "execution_count": 59,
     "metadata": {},
     "output_type": "execute_result"
    }
   ],
   "source": [
    "(df_pos[x_z_colnames].min(axis = 1) - df_pos['INDEX_DATE']).max()"
   ]
  },
  {
   "cell_type": "code",
   "execution_count": 61,
   "metadata": {},
   "outputs": [
    {
     "data": {
      "text/plain": [
       "Timedelta('91 days 00:00:00')"
      ]
     },
     "execution_count": 61,
     "metadata": {},
     "output_type": "execute_result"
    }
   ],
   "source": [
    "(df_neg[x_z_colnames].min(axis = 1) - df_neg['INDEX_DATE']).min()"
   ]
  },
  {
   "cell_type": "markdown",
   "metadata": {},
   "source": [
    "<h1> Check number of each group of predictors </h1>"
   ]
  },
  {
   "cell_type": "code",
   "execution_count": 33,
   "metadata": {},
   "outputs": [
    {
     "name": "stderr",
     "output_type": "stream",
     "text": [
      "C:\\ProgramData\\Anaconda3\\lib\\site-packages\\IPython\\core\\interactiveshell.py:2728: DtypeWarning: Columns (8,9,20,21,24,25,28,29,40,41,44,45,48,49,64,65,76,77,80,81,92,93,100,101,108,109,120,121,124,125,128,129,136,137,164,165,184,185,188,189,192,193,200,201,204,205,220,221,236,237,252,253,256,257,272,273,276,277,284,285,304,305,308,309,316,317,324,325,328,329,332,333,340,341,348,349,352,353,368,369,388,389,396,397,404,405,452,453,460,461,468,469,492,493,524,525,532,533,536,537,540,541,544,545,548,549,556,557,592,593,600,601,628,629,640,641,652,653,664,665,668,669,672,673,680,681,712,713,716,717,720,721,748,749,752,753,768,769,792,793,800,801,816,817,820,821,824,825,828,829,844,845,852,853,896,897,912,913,920,921,940,941,944,945,948,949,956,957,964,965,988,989,1000,1001,1012,1013,1028,1029,1040,1041,1060,1061,1064,1065,1068,1069,1076,1077,1080,1081,1084,1085,1128,1129,1180,1181,1204,1205,1208,1209,1212,1213,1244,1245,1260,1261,1280,1281,1284,1285,1304,1305,1312,1313,1344,1345,1408,1409,1412,1413,1416,1417,1420,1421,1444,1445,1468,1469,1480,1481,1488,1489,1492,1493,1496,1497,1504,1505,1508,1509,1512,1513,1524,1525,1528,1529,1536,1537,1544,1545,1552,1553,1568,1569,1596,1597,1600,1601,1608,1609,1620,1621,1632,1633,1644,1645,1652,1653,1660,1661,1708,1709,1712,1713,1720,1721,1724,1725,1732,1733,1748,1749,1768,1769,1776,1777,1780,1781,1788,1789,1796,1797,1804,1805,1828,1829,1832,1833,1836,1837,1844,1845,1848,1849,1852,1853,1868,1869,1872,1873,1876,1877,1884,1885,1896,1897,1932,1933,1940,1941,1960,1961,1964,1965,1988,1989,1996,1997,2000,2001,2004,2005,2012,2013,2048,2049,2064,2065,2076,2077,2096,2097,2108,2109,2136,2137,2176,2177,2180,2181,2188,2189,2192,2193,2200,2201,2220,2221,2236,2237,2252,2253,2268,2269,2284,2285,2288,2289,2296,2297,2320,2321,2360,2361,2384,2385,2408,2409,2428,2429,2452,2453,2468,2469,2476,2477,2512,2513,2516,2517,2540,2541,2560,2561,2564,2565,2584,2585,2604,2605,2628,2629,2640,2641,2652,2653,2664,2665,2688,2689,2708,2709,2716,2717,2732,2733,2772,2773,2788,2789,2792,2793,2796,2797,2804,2805,2824,2825,2828,2829,2844,2845,2852,2853,2856,2857,2868,2869,2888,2889,2896,2897,2920,2921,2928,2929,2944,2945,2948,2949,2960,2961,2976,2977,2980,2981,2984,2985,2988,2989,2992,2993,2996,2997,3000,3001,3004,3005,3028,3029,3036,3037,3056,3057,3064,3065,3068,3069,3080,3081,3084,3085,3088,3089,3096,3097,3100,3101,3104,3105,3108,3109,3128,3129,3140,3141,3152,3153,3164,3165,3176,3177,3184,3185,3192,3193,3224,3225,3228,3229,3232,3233,3240,3241,3244,3245,3256,3257,3272,3273,3284,3285,3296,3297,3316,3317,3364,3365,3420,3421,3428,3429,3440,3441,3452,3453,3456,3457,3460,3461,3468,3469,3512,3513) have mixed types. Specify dtype option on import or set low_memory=False.\n",
      "  interactivity=interactivity, compiler=compiler, result=result)\n"
     ]
    }
   ],
   "source": [
    "df_total = pd.read_csv(r'F:\\Projects\\Pfizer_mCRPC\\Data\\Raw_data\\total.csv')"
   ]
  },
  {
   "cell_type": "code",
   "execution_count": 57,
   "metadata": {},
   "outputs": [],
   "source": [
    "colnames = df_total.columns\n",
    "set_prefixes = set([colname.split('_')[0] for colname in colnames])"
   ]
  },
  {
   "cell_type": "code",
   "execution_count": 71,
   "metadata": {},
   "outputs": [],
   "source": [
    "# Number of CPT predictors\n",
    "prog = re.compile(r'^C')\n",
    "cpt = [prog.match(prefix).string for prefix in set_prefixes if prog.match(prefix)]\n",
    "\n",
    "# Number of GPI-6 predictors\n",
    "prog = re.compile(r'^G')\n",
    "gpi = [prog.match(prefix).string for prefix in set_prefixes if prog.match(prefix)]\n",
    "\n",
    "# Number of ICD predictors\n",
    "prog = re.compile(r'^D')\n",
    "icd = [prog.match(prefix).string for prefix in set_prefixes if prog.match(prefix)]\n",
    "\n",
    "# Number of HCPCS predictors\n",
    "prog = re.compile(r'^H')\n",
    "hcpcs = [prog.match(prefix).string for prefix in set_prefixes if prog.match(prefix)]\n",
    "\n",
    "# Number of Specialty predictors\n",
    "prog = re.compile(r'^S')\n",
    "specialty = [prog.match(prefix).string for prefix in set_prefixes if prog.match(prefix)]"
   ]
  },
  {
   "cell_type": "code",
   "execution_count": 72,
   "metadata": {},
   "outputs": [
    {
     "data": {
      "text/plain": [
       "882"
      ]
     },
     "execution_count": 72,
     "metadata": {},
     "output_type": "execute_result"
    }
   ],
   "source": [
    "# Total is not 886\n",
    "len(cpt + gpi + icd + hcpcs + specialty)"
   ]
  },
  {
   "cell_type": "code",
   "execution_count": 76,
   "metadata": {},
   "outputs": [
    {
     "data": {
      "text/plain": [
       "277"
      ]
     },
     "execution_count": 76,
     "metadata": {},
     "output_type": "execute_result"
    },
    {
     "data": {
      "text/plain": [
       "304"
      ]
     },
     "execution_count": 76,
     "metadata": {},
     "output_type": "execute_result"
    },
    {
     "data": {
      "text/plain": [
       "93"
      ]
     },
     "execution_count": 76,
     "metadata": {},
     "output_type": "execute_result"
    },
    {
     "data": {
      "text/plain": [
       "145"
      ]
     },
     "execution_count": 76,
     "metadata": {},
     "output_type": "execute_result"
    },
    {
     "data": {
      "text/plain": [
       "63"
      ]
     },
     "execution_count": 76,
     "metadata": {},
     "output_type": "execute_result"
    }
   ],
   "source": [
    "len(icd)\n",
    "len(cpt)\n",
    "len(hcpcs)\n",
    "len(gpi)\n",
    "len(specialty)"
   ]
  },
  {
   "cell_type": "code",
   "execution_count": 77,
   "metadata": {},
   "outputs": [
    {
     "name": "stderr",
     "output_type": "stream",
     "text": [
      "C:\\ProgramData\\Anaconda3\\lib\\site-packages\\IPython\\core\\interactiveshell.py:2728: DtypeWarning: Columns (19,20,75,76,123,124,139,140,299,300,531,532) have mixed types. Specify dtype option on import or set low_memory=False.\n",
      "  interactivity=interactivity, compiler=compiler, result=result)\n"
     ]
    }
   ],
   "source": [
    "# Check the raw cpt data, as it's the only one that doesn't match Suyin's expectation (304 here instead of 308)\n",
    "df_cpt1 = pd.read_csv(r'F:\\Projects\\Pfizer_mCRPC\\Data\\Raw_data\\Pfizer_mCRPC_CPT1.csv')\n",
    "df_cpt2 = pd.read_csv(r'F:\\Projects\\Pfizer_mCRPC\\Data\\Raw_data\\Pfizer_mCRPC_CPT2.csv')"
   ]
  },
  {
   "cell_type": "code",
   "execution_count": 82,
   "metadata": {},
   "outputs": [],
   "source": [
    "# Number of CPT predictors\n",
    "prog = re.compile(r'^C')\n",
    "colnames_cpt1 = df_cpt1.columns\n",
    "set_prefixes_cpt1 = set([colname.split('_')[0] for colname in colnames_cpt1])\n",
    "colnames_cpt2 = df_cpt2.columns\n",
    "set_prefixes_cpt2 = set([colname.split('_')[0] for colname in colnames_cpt2])\n",
    "\n",
    "cpt1 = [prog.match(prefix).string for prefix in set_prefixes_cpt1 if prog.match(prefix)]\n",
    "cpt2 = [prog.match(prefix).string for prefix in set_prefixes_cpt2 if prog.match(prefix)]"
   ]
  },
  {
   "cell_type": "code",
   "execution_count": 85,
   "metadata": {},
   "outputs": [
    {
     "data": {
      "text/plain": [
       "304"
      ]
     },
     "execution_count": 85,
     "metadata": {},
     "output_type": "execute_result"
    }
   ],
   "source": [
    "# Only 304 CPT predictors\n",
    "len(cpt2) + len(cpt1)"
   ]
  },
  {
   "cell_type": "code",
   "execution_count": 90,
   "metadata": {},
   "outputs": [
    {
     "data": {
      "text/plain": [
       "304.0"
      ]
     },
     "execution_count": 90,
     "metadata": {},
     "output_type": "execute_result"
    }
   ],
   "source": [
    "# Quick calculation with shape shows the same results\n",
    "(df_cpt1.shape[1] - 1 + df_cpt2.shape[1] - 1)/4"
   ]
  },
  {
   "cell_type": "code",
   "execution_count": null,
   "metadata": {},
   "outputs": [],
   "source": []
  }
 ],
 "metadata": {
  "kernelspec": {
   "display_name": "Python 3",
   "language": "python",
   "name": "python3"
  },
  "language_info": {
   "codemirror_mode": {
    "name": "ipython",
    "version": 3
   },
   "file_extension": ".py",
   "mimetype": "text/x-python",
   "name": "python",
   "nbconvert_exporter": "python",
   "pygments_lexer": "ipython3",
   "version": "3.6.3"
  }
 },
 "nbformat": 4,
 "nbformat_minor": 2
}

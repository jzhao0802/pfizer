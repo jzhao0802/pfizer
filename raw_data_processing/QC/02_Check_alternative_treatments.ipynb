{
 "cells": [
  {
   "cell_type": "code",
   "execution_count": 1,
   "metadata": {},
   "outputs": [],
   "source": [
    "import os\n",
    "import sys\n",
    "import pandas as pd\n",
    "import re"
   ]
  },
  {
   "cell_type": "code",
   "execution_count": 2,
   "metadata": {},
   "outputs": [],
   "source": [
    "from IPython.core.interactiveshell import InteractiveShell\n",
    "InteractiveShell.ast_node_interactivity = \"all\""
   ]
  },
  {
   "cell_type": "markdown",
   "metadata": {},
   "source": [
    "We want to investigate if alternative treatments (9 listed by Suyin) to Xandi/Zytiga are strongly correlated with the class label. This is important as these are predictors in the dataset."
   ]
  },
  {
   "cell_type": "code",
   "execution_count": 3,
   "metadata": {},
   "outputs": [],
   "source": [
    "# Load in the flatfile (with the 450 000 patients) and the patient list of the final negative and positive cohort\n",
    "df = pd.read_csv(r'F:\\Projects\\Pfizer_mCRPC\\Data\\Raw_data\\PFA\\Pfizer_mCRPC_IDP_v2.csv')\n",
    "df_label = pd.read_excel(r'F:\\Projects\\Pfizer_mCRPC\\Data\\Raw_data\\Pfizer_mCRPC_Patients.xlsx')"
   ]
  },
  {
   "cell_type": "code",
   "execution_count": 28,
   "metadata": {},
   "outputs": [],
   "source": [
    "# List of alternative treatments given by Suyin, first two are Xtandi and Zytagi. We care about the _1ST_DT_OVERALL\n",
    "ls_alt_treatment = ['ENZALUTAMIDE_1ST_RX_DT_OVERALL', 'ABIRATERONE_1ST_RX_DT_OVERALL', 'OTHER_ADT_1ST_RX_DT_OVERALL',\n",
    "                    'RADIOCHEMO_1ST_RX_DT_OVERALL', 'CHEMO_1ST_RX_DT_OVERALL', 'IMMUNO_1ST_RX_DT_OVERALL', \n",
    "                    'PROSTATECTOMY_1ST_DX_DT', 'ORIECHTOMY_1ST_DX_DT_OVERALL', 'EBRT_1ST_DX_DT_OVERALL']"
   ]
  },
  {
   "cell_type": "code",
   "execution_count": 16,
   "metadata": {},
   "outputs": [],
   "source": [
    "# Creating a subset of the flatfile with only the final patients. This merge also includes the index and lookback date\n",
    "ls_alt_treat_with_id = ['PATIENT_ID'] + ls_alt_treatment\n",
    "df_alt = df[ls_alt_treat_with_id]\n",
    "df_merged = df_label.merge(df_alt, on='PATIENT_ID', how='left')"
   ]
  },
  {
   "cell_type": "code",
   "execution_count": 18,
   "metadata": {},
   "outputs": [],
   "source": [
    "# Convert the relevant columns to date time objects\n",
    "ls_datecols = df_merged.columns[4:]\n",
    "df_merged[ls_datecols] = df_merged[ls_datecols].apply(lambda x: pd.to_datetime(x, format='%m/%d/%Y'))"
   ]
  },
  {
   "cell_type": "code",
   "execution_count": 19,
   "metadata": {},
   "outputs": [
    {
     "data": {
      "text/html": [
       "<div>\n",
       "<style scoped>\n",
       "    .dataframe tbody tr th:only-of-type {\n",
       "        vertical-align: middle;\n",
       "    }\n",
       "\n",
       "    .dataframe tbody tr th {\n",
       "        vertical-align: top;\n",
       "    }\n",
       "\n",
       "    .dataframe thead th {\n",
       "        text-align: right;\n",
       "    }\n",
       "</style>\n",
       "<table border=\"1\" class=\"dataframe\">\n",
       "  <thead>\n",
       "    <tr style=\"text-align: right;\">\n",
       "      <th></th>\n",
       "      <th>ENZALUTAMIDE_1ST_RX_DT_OVERALL</th>\n",
       "      <th>ABIRATERONE_1ST_RX_DT_OVERALL</th>\n",
       "      <th>OTHER_ADT_1ST_RX_DT_OVERALL</th>\n",
       "      <th>RADIOCHEMO_1ST_RX_DT_OVERALL</th>\n",
       "      <th>CHEMO_1ST_RX_DT_OVERALL</th>\n",
       "      <th>IMMUNO_1ST_RX_DT_OVERALL</th>\n",
       "      <th>PROSTATECTOMY_1ST_DX_DT</th>\n",
       "      <th>ORIECHTOMY_1ST_DX_DT_OVERALL</th>\n",
       "      <th>EBRT_1ST_DX_DT_OVERALL</th>\n",
       "    </tr>\n",
       "    <tr>\n",
       "      <th>PN_FLAG</th>\n",
       "      <th></th>\n",
       "      <th></th>\n",
       "      <th></th>\n",
       "      <th></th>\n",
       "      <th></th>\n",
       "      <th></th>\n",
       "      <th></th>\n",
       "      <th></th>\n",
       "      <th></th>\n",
       "    </tr>\n",
       "  </thead>\n",
       "  <tbody>\n",
       "    <tr>\n",
       "      <th>N</th>\n",
       "      <td>5282</td>\n",
       "      <td>5331</td>\n",
       "      <td>46310</td>\n",
       "      <td>1230</td>\n",
       "      <td>8492</td>\n",
       "      <td>2124</td>\n",
       "      <td>6188</td>\n",
       "      <td>920</td>\n",
       "      <td>9898</td>\n",
       "    </tr>\n",
       "    <tr>\n",
       "      <th>P</th>\n",
       "      <td>1874</td>\n",
       "      <td>1977</td>\n",
       "      <td>2772</td>\n",
       "      <td>154</td>\n",
       "      <td>490</td>\n",
       "      <td>229</td>\n",
       "      <td>163</td>\n",
       "      <td>47</td>\n",
       "      <td>529</td>\n",
       "    </tr>\n",
       "  </tbody>\n",
       "</table>\n",
       "</div>"
      ],
      "text/plain": [
       "         ENZALUTAMIDE_1ST_RX_DT_OVERALL  ABIRATERONE_1ST_RX_DT_OVERALL  \\\n",
       "PN_FLAG                                                                  \n",
       "N                                  5282                           5331   \n",
       "P                                  1874                           1977   \n",
       "\n",
       "         OTHER_ADT_1ST_RX_DT_OVERALL  RADIOCHEMO_1ST_RX_DT_OVERALL  \\\n",
       "PN_FLAG                                                              \n",
       "N                              46310                          1230   \n",
       "P                               2772                           154   \n",
       "\n",
       "         CHEMO_1ST_RX_DT_OVERALL  IMMUNO_1ST_RX_DT_OVERALL  \\\n",
       "PN_FLAG                                                      \n",
       "N                           8492                      2124   \n",
       "P                            490                       229   \n",
       "\n",
       "         PROSTATECTOMY_1ST_DX_DT  ORIECHTOMY_1ST_DX_DT_OVERALL  \\\n",
       "PN_FLAG                                                          \n",
       "N                           6188                           920   \n",
       "P                            163                            47   \n",
       "\n",
       "         EBRT_1ST_DX_DT_OVERALL  \n",
       "PN_FLAG                          \n",
       "N                          9898  \n",
       "P                           529  "
      ]
     },
     "execution_count": 19,
     "metadata": {},
     "output_type": "execute_result"
    }
   ],
   "source": [
    "# Create a table that shows the prevelance of each feature\n",
    "ls_columns = ['PN_FLAG'] + ls_alt_treatment\n",
    "df_flag_sum = df_merged[ls_columns].groupby('PN_FLAG').apply(lambda x: (~x.isnull()).sum())\n",
    "df_flag_sum[ls_columns[1:]]"
   ]
  },
  {
   "cell_type": "code",
   "execution_count": 20,
   "metadata": {},
   "outputs": [],
   "source": [
    "def cross_table_alt_treat(lambda_cond, title):\n",
    "    df_cond = pd.DataFrame({title: df_merged[ls_datecols[4:]].apply(lambda_cond).any(axis=1)})\n",
    "    df_cond['PN_FLAG'] = df_merged['PN_FLAG']\n",
    "    df_sum = df_cond.groupby('PN_FLAG').sum()\n",
    "    return df_sum"
   ]
  },
  {
   "cell_type": "code",
   "execution_count": 21,
   "metadata": {},
   "outputs": [],
   "source": [
    "# Creating a cross table that shows the influence of having had the alternative treatment on the likelihood \n",
    "# of getting X/Z in the 90 day window after the index date, aka the class distributions\n",
    "df_alt_treatment = cross_table_alt_treat(lambda x: ~x.isnull(), 'any_alt')\n",
    "df_before_index = cross_table_alt_treat(lambda x: x < df_merged['INDEX_DATE'], 'before_index')\n",
    "df_on_index = cross_table_alt_treat(lambda x: x == df_merged['INDEX_DATE'], 'on_index')\n",
    "df_after_index = cross_table_alt_treat(lambda x: x > df_merged['INDEX_DATE'], 'after_index')"
   ]
  },
  {
   "cell_type": "code",
   "execution_count": 22,
   "metadata": {},
   "outputs": [],
   "source": [
    "df_cross_table = pd.concat([df_alt_treatment, df_before_index, df_on_index, df_after_index], axis=1).transpose()\n",
    "df_cross_table['pos/total'] = df_cross_table['P']/df_cross_table.sum(axis=1)"
   ]
  },
  {
   "cell_type": "code",
   "execution_count": 23,
   "metadata": {},
   "outputs": [
    {
     "data": {
      "text/html": [
       "<div>\n",
       "<style scoped>\n",
       "    .dataframe tbody tr th:only-of-type {\n",
       "        vertical-align: middle;\n",
       "    }\n",
       "\n",
       "    .dataframe tbody tr th {\n",
       "        vertical-align: top;\n",
       "    }\n",
       "\n",
       "    .dataframe thead th {\n",
       "        text-align: right;\n",
       "    }\n",
       "</style>\n",
       "<table border=\"1\" class=\"dataframe\">\n",
       "  <thead>\n",
       "    <tr style=\"text-align: right;\">\n",
       "      <th>PN_FLAG</th>\n",
       "      <th>N</th>\n",
       "      <th>P</th>\n",
       "      <th>pos/total</th>\n",
       "    </tr>\n",
       "  </thead>\n",
       "  <tbody>\n",
       "    <tr>\n",
       "      <th>any_alt</th>\n",
       "      <td>52600.0</td>\n",
       "      <td>2873.0</td>\n",
       "      <td>0.051791</td>\n",
       "    </tr>\n",
       "    <tr>\n",
       "      <th>before_index</th>\n",
       "      <td>32950.0</td>\n",
       "      <td>2589.0</td>\n",
       "      <td>0.072850</td>\n",
       "    </tr>\n",
       "    <tr>\n",
       "      <th>on_index</th>\n",
       "      <td>4879.0</td>\n",
       "      <td>128.0</td>\n",
       "      <td>0.025564</td>\n",
       "    </tr>\n",
       "    <tr>\n",
       "      <th>after_index</th>\n",
       "      <td>25485.0</td>\n",
       "      <td>1005.0</td>\n",
       "      <td>0.037939</td>\n",
       "    </tr>\n",
       "  </tbody>\n",
       "</table>\n",
       "</div>"
      ],
      "text/plain": [
       "PN_FLAG             N       P  pos/total\n",
       "any_alt       52600.0  2873.0   0.051791\n",
       "before_index  32950.0  2589.0   0.072850\n",
       "on_index       4879.0   128.0   0.025564\n",
       "after_index   25485.0  1005.0   0.037939"
      ]
     },
     "execution_count": 23,
     "metadata": {},
     "output_type": "execute_result"
    }
   ],
   "source": [
    "# The final table\n",
    "df_cross_table"
   ]
  },
  {
   "cell_type": "code",
   "execution_count": 24,
   "metadata": {},
   "outputs": [],
   "source": [
    "df_cross_table.to_excel('cross_table_alt_treatments.xlsx')"
   ]
  },
  {
   "cell_type": "raw",
   "metadata": {},
   "source": [
    "Quickly check the subset of 139 positive patients that had X/Z on index date"
   ]
  },
  {
   "cell_type": "code",
   "execution_count": 25,
   "metadata": {},
   "outputs": [],
   "source": [
    "patients_xz_on_index = pd.read_csv(r'F:\\Projects\\Pfizer_mCRPC\\Data\\Raw_data\\Patients_XZ_on_index.csv')"
   ]
  },
  {
   "cell_type": "code",
   "execution_count": 26,
   "metadata": {},
   "outputs": [],
   "source": [
    "df_patients_xz_on_index = df_merged[df_merged['PATIENT_ID'].isin(patients_xz_on_index['PATIENT_ID'])]"
   ]
  },
  {
   "cell_type": "code",
   "execution_count": 27,
   "metadata": {},
   "outputs": [
    {
     "data": {
      "text/plain": [
       "6"
      ]
     },
     "execution_count": 27,
     "metadata": {},
     "output_type": "execute_result"
    },
    {
     "data": {
      "text/plain": [
       "111"
      ]
     },
     "execution_count": 27,
     "metadata": {},
     "output_type": "execute_result"
    },
    {
     "data": {
      "text/plain": [
       "38"
      ]
     },
     "execution_count": 27,
     "metadata": {},
     "output_type": "execute_result"
    }
   ],
   "source": [
    "# Nothing really special happening in terms of alternative treatment and the 139 patients that had X/Z on index\n",
    "df_patients_xz_on_index[ls_datecols[4:]].apply(lambda x: x == df_patients_xz_on_index['INDEX_DATE']).any(axis=1).sum()\n",
    "df_patients_xz_on_index[ls_datecols[4:]].apply(lambda x: x < df_patients_xz_on_index['INDEX_DATE']).any(axis=1).sum()\n",
    "df_patients_xz_on_index[ls_datecols[4:]].apply(lambda x: x > df_patients_xz_on_index['INDEX_DATE']).any(axis=1).sum()"
   ]
  },
  {
   "cell_type": "code",
   "execution_count": null,
   "metadata": {},
   "outputs": [],
   "source": []
  }
 ],
 "metadata": {
  "kernelspec": {
   "display_name": "Python 3",
   "language": "python",
   "name": "python3"
  },
  "language_info": {
   "codemirror_mode": {
    "name": "ipython",
    "version": 3
   },
   "file_extension": ".py",
   "mimetype": "text/x-python",
   "name": "python",
   "nbconvert_exporter": "python",
   "pygments_lexer": "ipython3",
   "version": "3.6.3"
  }
 },
 "nbformat": 4,
 "nbformat_minor": 2
}

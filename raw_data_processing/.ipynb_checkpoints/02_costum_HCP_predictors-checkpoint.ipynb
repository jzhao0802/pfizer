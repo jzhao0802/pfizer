{
 "cells": [
  {
   "cell_type": "code",
   "execution_count": 1,
   "metadata": {},
   "outputs": [],
   "source": [
    "import os\n",
    "import sys\n",
    "import pandas as pd\n",
    "import re\n",
    "import matplotlib.pyplot as plt\n",
    "import seaborn as sns\n",
    "import numpy as np"
   ]
  },
  {
   "cell_type": "code",
   "execution_count": 2,
   "metadata": {},
   "outputs": [],
   "source": [
    "from IPython.core.interactiveshell import InteractiveShell\n",
    "InteractiveShell.ast_node_interactivity = \"all\""
   ]
  },
  {
   "cell_type": "markdown",
   "metadata": {},
   "source": [
    "# QC the custom HCP predictors "
   ]
  },
  {
   "cell_type": "code",
   "execution_count": 3,
   "metadata": {},
   "outputs": [],
   "source": [
    "df_HCP = pd.read_excel(r'F:\\Projects\\Pfizer_mCRPC\\Data\\raw_data\\HCPHCOS\\Pfizer_mCRPC_HCPHCOS.xlsx')"
   ]
  },
  {
   "cell_type": "code",
   "execution_count": 4,
   "metadata": {},
   "outputs": [
    {
     "data": {
      "text/html": [
       "<div>\n",
       "<style scoped>\n",
       "    .dataframe tbody tr th:only-of-type {\n",
       "        vertical-align: middle;\n",
       "    }\n",
       "\n",
       "    .dataframe tbody tr th {\n",
       "        vertical-align: top;\n",
       "    }\n",
       "\n",
       "    .dataframe thead th {\n",
       "        text-align: right;\n",
       "    }\n",
       "</style>\n",
       "<table border=\"1\" class=\"dataframe\">\n",
       "  <thead>\n",
       "    <tr style=\"text-align: right;\">\n",
       "      <th></th>\n",
       "      <th>PATIENT_ID</th>\n",
       "      <th>PROVIDER_ID</th>\n",
       "      <th>PN_FLAG</th>\n",
       "      <th>PRI_SPCL_DESC</th>\n",
       "      <th>IMS_ORG_ID</th>\n",
       "      <th>BUSINESS_NAME</th>\n",
       "      <th>COT_CLASSIFICATION</th>\n",
       "      <th>COT_FACILITY_TYPE</th>\n",
       "      <th>HCOS_MCRPC_DECILE</th>\n",
       "      <th>HCP_ZX_DECILE</th>\n",
       "      <th>HCP_MCRPC_DECILE</th>\n",
       "      <th>HCP_AGONIST_PAT_CNT</th>\n",
       "      <th>HCP_ANTAGONIST_PAT_CNT</th>\n",
       "      <th>HCP_ADT_SCORE</th>\n",
       "      <th>HCP_REGION</th>\n",
       "      <th>HHI</th>\n",
       "    </tr>\n",
       "  </thead>\n",
       "  <tbody>\n",
       "    <tr>\n",
       "      <th>0</th>\n",
       "      <td>839544914</td>\n",
       "      <td>6804099</td>\n",
       "      <td>N</td>\n",
       "      <td>MEDICAL ONCOLOGY</td>\n",
       "      <td>INS00052246</td>\n",
       "      <td>Comprehensive Cancer Centers of Nevada Central...</td>\n",
       "      <td>Outpatient Center</td>\n",
       "      <td>Medical Group</td>\n",
       "      <td>10.0</td>\n",
       "      <td>10.0</td>\n",
       "      <td>10</td>\n",
       "      <td>61.0</td>\n",
       "      <td>20.0</td>\n",
       "      <td>0.506173</td>\n",
       "      <td>WEST</td>\n",
       "      <td>0.528096</td>\n",
       "    </tr>\n",
       "    <tr>\n",
       "      <th>1</th>\n",
       "      <td>582866916</td>\n",
       "      <td>6805982</td>\n",
       "      <td>N</td>\n",
       "      <td>UROLOGY</td>\n",
       "      <td>NaN</td>\n",
       "      <td>NaN</td>\n",
       "      <td>NaN</td>\n",
       "      <td>NaN</td>\n",
       "      <td>NaN</td>\n",
       "      <td>NaN</td>\n",
       "      <td>7</td>\n",
       "      <td>6.0</td>\n",
       "      <td>NaN</td>\n",
       "      <td>1.000000</td>\n",
       "      <td>WEST</td>\n",
       "      <td>0.781250</td>\n",
       "    </tr>\n",
       "    <tr>\n",
       "      <th>2</th>\n",
       "      <td>171011889</td>\n",
       "      <td>6814767</td>\n",
       "      <td>N</td>\n",
       "      <td>UROLOGY</td>\n",
       "      <td>INS00120362</td>\n",
       "      <td>Michigan Institute of Urology, PC</td>\n",
       "      <td>Outpatient Center</td>\n",
       "      <td>Medical Group</td>\n",
       "      <td>10.0</td>\n",
       "      <td>NaN</td>\n",
       "      <td>3</td>\n",
       "      <td>1.0</td>\n",
       "      <td>NaN</td>\n",
       "      <td>1.000000</td>\n",
       "      <td>MIDWEST</td>\n",
       "      <td>1.000000</td>\n",
       "    </tr>\n",
       "    <tr>\n",
       "      <th>3</th>\n",
       "      <td>645101969</td>\n",
       "      <td>6839361</td>\n",
       "      <td>N</td>\n",
       "      <td>HEMATOLOGY/ONCOLOGY</td>\n",
       "      <td>INS00115109</td>\n",
       "      <td>Saint Lukes Mountain States Tumor Institute</td>\n",
       "      <td>Outpatient Center</td>\n",
       "      <td>Medical Group</td>\n",
       "      <td>4.0</td>\n",
       "      <td>1.0</td>\n",
       "      <td>3</td>\n",
       "      <td>NaN</td>\n",
       "      <td>NaN</td>\n",
       "      <td>NaN</td>\n",
       "      <td>WEST</td>\n",
       "      <td>1.000000</td>\n",
       "    </tr>\n",
       "    <tr>\n",
       "      <th>4</th>\n",
       "      <td>152961559</td>\n",
       "      <td>6841478</td>\n",
       "      <td>N</td>\n",
       "      <td>HEMATOLOGY/ONCOLOGY</td>\n",
       "      <td>INS00041246</td>\n",
       "      <td>Medical Group of the Carolinas Hematology Onco...</td>\n",
       "      <td>Outpatient Center</td>\n",
       "      <td>Medical Group</td>\n",
       "      <td>7.0</td>\n",
       "      <td>1.0</td>\n",
       "      <td>5</td>\n",
       "      <td>1.0</td>\n",
       "      <td>NaN</td>\n",
       "      <td>1.000000</td>\n",
       "      <td>SOUTH</td>\n",
       "      <td>0.520000</td>\n",
       "    </tr>\n",
       "  </tbody>\n",
       "</table>\n",
       "</div>"
      ],
      "text/plain": [
       "   PATIENT_ID  PROVIDER_ID PN_FLAG        PRI_SPCL_DESC   IMS_ORG_ID  \\\n",
       "0   839544914      6804099       N     MEDICAL ONCOLOGY  INS00052246   \n",
       "1   582866916      6805982       N              UROLOGY          NaN   \n",
       "2   171011889      6814767       N              UROLOGY  INS00120362   \n",
       "3   645101969      6839361       N  HEMATOLOGY/ONCOLOGY  INS00115109   \n",
       "4   152961559      6841478       N  HEMATOLOGY/ONCOLOGY  INS00041246   \n",
       "\n",
       "                                       BUSINESS_NAME COT_CLASSIFICATION  \\\n",
       "0  Comprehensive Cancer Centers of Nevada Central...  Outpatient Center   \n",
       "1                                                NaN                NaN   \n",
       "2                  Michigan Institute of Urology, PC  Outpatient Center   \n",
       "3        Saint Lukes Mountain States Tumor Institute  Outpatient Center   \n",
       "4  Medical Group of the Carolinas Hematology Onco...  Outpatient Center   \n",
       "\n",
       "  COT_FACILITY_TYPE  HCOS_MCRPC_DECILE  HCP_ZX_DECILE  HCP_MCRPC_DECILE  \\\n",
       "0     Medical Group               10.0           10.0                10   \n",
       "1               NaN                NaN            NaN                 7   \n",
       "2     Medical Group               10.0            NaN                 3   \n",
       "3     Medical Group                4.0            1.0                 3   \n",
       "4     Medical Group                7.0            1.0                 5   \n",
       "\n",
       "   HCP_AGONIST_PAT_CNT  HCP_ANTAGONIST_PAT_CNT  HCP_ADT_SCORE HCP_REGION  \\\n",
       "0                 61.0                    20.0       0.506173       WEST   \n",
       "1                  6.0                     NaN       1.000000       WEST   \n",
       "2                  1.0                     NaN       1.000000    MIDWEST   \n",
       "3                  NaN                     NaN            NaN       WEST   \n",
       "4                  1.0                     NaN       1.000000      SOUTH   \n",
       "\n",
       "        HHI  \n",
       "0  0.528096  \n",
       "1  0.781250  \n",
       "2  1.000000  \n",
       "3  1.000000  \n",
       "4  0.520000  "
      ]
     },
     "execution_count": 4,
     "metadata": {},
     "output_type": "execute_result"
    }
   ],
   "source": [
    "df_HCP.head()"
   ]
  },
  {
   "cell_type": "markdown",
   "metadata": {},
   "source": [
    "## Are all HCP related columns identical when provider_id is identical?"
   ]
  },
  {
   "cell_type": "code",
   "execution_count": 69,
   "metadata": {},
   "outputs": [],
   "source": [
    "ls_predictors = df_HCP.columns.tolist()\n",
    "ls_predictors.remove('PATIENT_ID')\n",
    "ls_predictors.remove('PN_FLAG')"
   ]
  },
  {
   "cell_type": "code",
   "execution_count": 71,
   "metadata": {},
   "outputs": [],
   "source": [
    "df_HCP_only = df_HCP[ls_predictors]"
   ]
  },
  {
   "cell_type": "code",
   "execution_count": 88,
   "metadata": {},
   "outputs": [
    {
     "data": {
      "text/plain": [
       "0"
      ]
     },
     "execution_count": 88,
     "metadata": {},
     "output_type": "execute_result"
    }
   ],
   "source": [
    "# Each patient is linked to a provider ID\n",
    "df_HCP_only['PROVIDER_ID'].isnull().sum()"
   ]
  },
  {
   "cell_type": "code",
   "execution_count": 77,
   "metadata": {},
   "outputs": [
    {
     "data": {
      "text/plain": [
       "False"
      ]
     },
     "execution_count": 77,
     "metadata": {},
     "output_type": "execute_result"
    }
   ],
   "source": [
    "# PROVIDER_ID links to a unique set of values, good!\n",
    "(df_HCP_only.groupby('PROVIDER_ID').nunique() > 1).any().any()"
   ]
  },
  {
   "cell_type": "code",
   "execution_count": 100,
   "metadata": {},
   "outputs": [],
   "source": [
    "# Create dataset with only HCP infor\n",
    "df_HCP_unique = df_HCP_only.groupby('PROVIDER_ID').first().reset_index()"
   ]
  },
  {
   "cell_type": "code",
   "execution_count": 101,
   "metadata": {},
   "outputs": [
    {
     "data": {
      "text/html": [
       "<div>\n",
       "<style scoped>\n",
       "    .dataframe tbody tr th:only-of-type {\n",
       "        vertical-align: middle;\n",
       "    }\n",
       "\n",
       "    .dataframe tbody tr th {\n",
       "        vertical-align: top;\n",
       "    }\n",
       "\n",
       "    .dataframe thead th {\n",
       "        text-align: right;\n",
       "    }\n",
       "</style>\n",
       "<table border=\"1\" class=\"dataframe\">\n",
       "  <thead>\n",
       "    <tr style=\"text-align: right;\">\n",
       "      <th></th>\n",
       "      <th>PROVIDER_ID</th>\n",
       "      <th>PRI_SPCL_DESC</th>\n",
       "      <th>IMS_ORG_ID</th>\n",
       "      <th>BUSINESS_NAME</th>\n",
       "      <th>COT_CLASSIFICATION</th>\n",
       "      <th>COT_FACILITY_TYPE</th>\n",
       "      <th>HCOS_MCRPC_DECILE</th>\n",
       "      <th>HCP_ZX_DECILE</th>\n",
       "      <th>HCP_MCRPC_DECILE</th>\n",
       "      <th>HCP_AGONIST_PAT_CNT</th>\n",
       "      <th>HCP_ANTAGONIST_PAT_CNT</th>\n",
       "      <th>HCP_ADT_SCORE</th>\n",
       "      <th>HCP_REGION</th>\n",
       "      <th>HHI</th>\n",
       "    </tr>\n",
       "  </thead>\n",
       "  <tbody>\n",
       "    <tr>\n",
       "      <th>0</th>\n",
       "      <td>0</td>\n",
       "      <td>NaN</td>\n",
       "      <td>NaN</td>\n",
       "      <td>NaN</td>\n",
       "      <td>NaN</td>\n",
       "      <td>NaN</td>\n",
       "      <td>NaN</td>\n",
       "      <td>NaN</td>\n",
       "      <td>4</td>\n",
       "      <td>NaN</td>\n",
       "      <td>NaN</td>\n",
       "      <td>NaN</td>\n",
       "      <td>NaN</td>\n",
       "      <td>0.333333</td>\n",
       "    </tr>\n",
       "    <tr>\n",
       "      <th>1</th>\n",
       "      <td>34049</td>\n",
       "      <td>NaN</td>\n",
       "      <td>NaN</td>\n",
       "      <td>NaN</td>\n",
       "      <td>NaN</td>\n",
       "      <td>NaN</td>\n",
       "      <td>NaN</td>\n",
       "      <td>NaN</td>\n",
       "      <td>1</td>\n",
       "      <td>NaN</td>\n",
       "      <td>NaN</td>\n",
       "      <td>NaN</td>\n",
       "      <td>MIDWEST</td>\n",
       "      <td>1.000000</td>\n",
       "    </tr>\n",
       "    <tr>\n",
       "      <th>2</th>\n",
       "      <td>38755</td>\n",
       "      <td>NaN</td>\n",
       "      <td>NaN</td>\n",
       "      <td>NaN</td>\n",
       "      <td>NaN</td>\n",
       "      <td>NaN</td>\n",
       "      <td>NaN</td>\n",
       "      <td>NaN</td>\n",
       "      <td>1</td>\n",
       "      <td>NaN</td>\n",
       "      <td>NaN</td>\n",
       "      <td>NaN</td>\n",
       "      <td>NORTHEAST</td>\n",
       "      <td>1.000000</td>\n",
       "    </tr>\n",
       "    <tr>\n",
       "      <th>3</th>\n",
       "      <td>70973</td>\n",
       "      <td>NaN</td>\n",
       "      <td>NaN</td>\n",
       "      <td>NaN</td>\n",
       "      <td>NaN</td>\n",
       "      <td>NaN</td>\n",
       "      <td>NaN</td>\n",
       "      <td>NaN</td>\n",
       "      <td>1</td>\n",
       "      <td>NaN</td>\n",
       "      <td>NaN</td>\n",
       "      <td>NaN</td>\n",
       "      <td>MIDWEST</td>\n",
       "      <td>1.000000</td>\n",
       "    </tr>\n",
       "    <tr>\n",
       "      <th>4</th>\n",
       "      <td>75088</td>\n",
       "      <td>CHIROPRACTIC</td>\n",
       "      <td>NaN</td>\n",
       "      <td>NaN</td>\n",
       "      <td>NaN</td>\n",
       "      <td>NaN</td>\n",
       "      <td>NaN</td>\n",
       "      <td>NaN</td>\n",
       "      <td>1</td>\n",
       "      <td>NaN</td>\n",
       "      <td>NaN</td>\n",
       "      <td>NaN</td>\n",
       "      <td>SOUTH</td>\n",
       "      <td>1.000000</td>\n",
       "    </tr>\n",
       "  </tbody>\n",
       "</table>\n",
       "</div>"
      ],
      "text/plain": [
       "   PROVIDER_ID PRI_SPCL_DESC IMS_ORG_ID BUSINESS_NAME COT_CLASSIFICATION  \\\n",
       "0            0           NaN        NaN           NaN                NaN   \n",
       "1        34049           NaN        NaN           NaN                NaN   \n",
       "2        38755           NaN        NaN           NaN                NaN   \n",
       "3        70973           NaN        NaN           NaN                NaN   \n",
       "4        75088  CHIROPRACTIC        NaN           NaN                NaN   \n",
       "\n",
       "  COT_FACILITY_TYPE  HCOS_MCRPC_DECILE  HCP_ZX_DECILE  HCP_MCRPC_DECILE  \\\n",
       "0               NaN                NaN            NaN                 4   \n",
       "1               NaN                NaN            NaN                 1   \n",
       "2               NaN                NaN            NaN                 1   \n",
       "3               NaN                NaN            NaN                 1   \n",
       "4               NaN                NaN            NaN                 1   \n",
       "\n",
       "   HCP_AGONIST_PAT_CNT  HCP_ANTAGONIST_PAT_CNT  HCP_ADT_SCORE HCP_REGION  \\\n",
       "0                  NaN                     NaN            NaN        NaN   \n",
       "1                  NaN                     NaN            NaN    MIDWEST   \n",
       "2                  NaN                     NaN            NaN  NORTHEAST   \n",
       "3                  NaN                     NaN            NaN    MIDWEST   \n",
       "4                  NaN                     NaN            NaN      SOUTH   \n",
       "\n",
       "        HHI  \n",
       "0  0.333333  \n",
       "1  1.000000  \n",
       "2  1.000000  \n",
       "3  1.000000  \n",
       "4  1.000000  "
      ]
     },
     "execution_count": 101,
     "metadata": {},
     "output_type": "execute_result"
    }
   ],
   "source": [
    "df_HCP_unique.head()"
   ]
  },
  {
   "cell_type": "code",
   "execution_count": 102,
   "metadata": {},
   "outputs": [
    {
     "data": {
      "text/plain": [
       "(27056, 14)"
      ]
     },
     "execution_count": 102,
     "metadata": {},
     "output_type": "execute_result"
    }
   ],
   "source": [
    "# There are 27056 unique HCPs in this dataset\n",
    "df_HCP_unique.shape"
   ]
  },
  {
   "cell_type": "code",
   "execution_count": 98,
   "metadata": {},
   "outputs": [],
   "source": [
    "df_HCP_size = pd.DataFrame({'N_PATIENTS':df_HCP_only.groupby('PROVIDER_ID').size()}).reset_index()"
   ]
  },
  {
   "cell_type": "code",
   "execution_count": 104,
   "metadata": {},
   "outputs": [],
   "source": [
    "df_HCP_unique = df_HCP_unique.merge(df_HCP_size, on = 'PROVIDER_ID')"
   ]
  },
  {
   "cell_type": "code",
   "execution_count": 151,
   "metadata": {},
   "outputs": [
    {
     "data": {
      "text/plain": [
       "Text(0.5,0,'Number of patients for one HCP')"
      ]
     },
     "execution_count": 151,
     "metadata": {},
     "output_type": "execute_result"
    },
    {
     "data": {
      "text/plain": [
       "Text(0,0.5,'Number of HCPs')"
      ]
     },
     "execution_count": 151,
     "metadata": {},
     "output_type": "execute_result"
    },
    {
     "data": {
      "image/png": "[encoded data removed]",
      "text/plain": [
       "<matplotlib.figure.Figure at 0x22d3b0f630>"
      ]
     },
     "metadata": {},
     "output_type": "display_data"
    }
   ],
   "source": [
    "# Vast majority of HCPs has only one or two patients\n",
    "n, bins, patches = plt.hist(df_HCP_unique['N_PATIENTS'], bins=175)\n",
    "plt.yscale('log', nonposy='clip')\n",
    "plt.xlabel('Number of patients for one HCP')\n",
    "plt.ylabel('Number of HCPs')\n",
    "plt.show()"
   ]
  },
  {
   "cell_type": "code",
   "execution_count": 150,
   "metadata": {},
   "outputs": [
    {
     "data": {
      "text/plain": [
       "35001"
      ]
     },
     "execution_count": 150,
     "metadata": {},
     "output_type": "execute_result"
    }
   ],
   "source": [
    "# Half of the patients are treated by an HCP that has less than 5 patients in its history\n",
    "df_HCP_unique[df_HCP_unique['N_PATIENTS'] < 5]['N_PATIENTS'].sum()"
   ]
  },
  {
   "cell_type": "markdown",
   "metadata": {},
   "source": [
    "## HCP Specialty"
   ]
  },
  {
   "cell_type": "code",
   "execution_count": 148,
   "metadata": {},
   "outputs": [
    {
     "data": {
      "text/plain": [
       "Text(0.5,0,'HCP size')"
      ]
     },
     "execution_count": 148,
     "metadata": {},
     "output_type": "execute_result"
    },
    {
     "data": {
      "text/plain": [
       "Text(0,0.5,'Number of HCPs')"
      ]
     },
     "execution_count": 148,
     "metadata": {},
     "output_type": "execute_result"
    },
    {
     "data": {
      "image/png": "[encoded data removed]",
      "text/plain": [
       "<matplotlib.figure.Figure at 0x22d2f9f6a0>"
      ]
     },
     "metadata": {},
     "output_type": "display_data"
    }
   ],
   "source": [
    "ls_specialties = ['GYNECOLOGICAL ONCOLOGY', 'HEMATOLOGY/ONCOLOGY', 'MEDICAL ONCOLOGY', 'MUSCULOSKELETAL ONCOLOGY', 'UROLOGY']\n",
    "\n",
    "# Slightly better situation when we only look at the first choice specialties\n",
    "n, bins, patches = plt.hist(df_HCP_unique[df_HCP_unique['PRI_SPCL_DESC'].isin(ls_specialties)]['N_PATIENTS'], bins=175)\n",
    "plt.yscale('log', nonposy='clip')\n",
    "plt.xlabel('HCP size')\n",
    "plt.ylabel('Number of HCPs')\n",
    "plt.show()"
   ]
  },
  {
   "cell_type": "code",
   "execution_count": 149,
   "metadata": {},
   "outputs": [
    {
     "data": {
      "text/html": [
       "<div>\n",
       "<style scoped>\n",
       "    .dataframe tbody tr th:only-of-type {\n",
       "        vertical-align: middle;\n",
       "    }\n",
       "\n",
       "    .dataframe tbody tr th {\n",
       "        vertical-align: top;\n",
       "    }\n",
       "\n",
       "    .dataframe thead th {\n",
       "        text-align: right;\n",
       "    }\n",
       "</style>\n",
       "<table border=\"1\" class=\"dataframe\">\n",
       "  <thead>\n",
       "    <tr style=\"text-align: right;\">\n",
       "      <th></th>\n",
       "      <th>PROVIDER_ID</th>\n",
       "      <th>N_PATIENTS</th>\n",
       "    </tr>\n",
       "    <tr>\n",
       "      <th>PRI_SPCL_DESC</th>\n",
       "      <th></th>\n",
       "      <th></th>\n",
       "    </tr>\n",
       "  </thead>\n",
       "  <tbody>\n",
       "    <tr>\n",
       "      <th>ABDOMINAL RADIOLOGY</th>\n",
       "      <td>19</td>\n",
       "      <td>37</td>\n",
       "    </tr>\n",
       "    <tr>\n",
       "      <th>ABDOMINAL SURGERY</th>\n",
       "      <td>1</td>\n",
       "      <td>1</td>\n",
       "    </tr>\n",
       "    <tr>\n",
       "      <th>ADDICTION MEDICINE</th>\n",
       "      <td>2</td>\n",
       "      <td>2</td>\n",
       "    </tr>\n",
       "    <tr>\n",
       "      <th>ADOLESCENT MEDICINE (INTERNAL MEDICINE)</th>\n",
       "      <td>1</td>\n",
       "      <td>1</td>\n",
       "    </tr>\n",
       "    <tr>\n",
       "      <th>ADULT CARDIOTHORACIC ANESTHESIOLOGY</th>\n",
       "      <td>3</td>\n",
       "      <td>3</td>\n",
       "    </tr>\n",
       "  </tbody>\n",
       "</table>\n",
       "</div>"
      ],
      "text/plain": [
       "                                         PROVIDER_ID  N_PATIENTS\n",
       "PRI_SPCL_DESC                                                   \n",
       "ABDOMINAL RADIOLOGY                               19          37\n",
       "ABDOMINAL SURGERY                                  1           1\n",
       "ADDICTION MEDICINE                                 2           2\n",
       "ADOLESCENT MEDICINE (INTERNAL MEDICINE)            1           1\n",
       "ADULT CARDIOTHORACIC ANESTHESIOLOGY                3           3"
      ]
     },
     "execution_count": 149,
     "metadata": {},
     "output_type": "execute_result"
    }
   ],
   "source": [
    "# A 140 different specialties in this dataset\n",
    "df_HCPtypes = df_HCP_unique.groupby('PRI_SPCL_DESC').agg({'PROVIDER_ID': lambda x: x.size, 'N_PATIENTS': sum})\n",
    "df_HCPtypes.head()"
   ]
  },
  {
   "cell_type": "code",
   "execution_count": 128,
   "metadata": {},
   "outputs": [
    {
     "data": {
      "text/html": [
       "<div>\n",
       "<style scoped>\n",
       "    .dataframe tbody tr th:only-of-type {\n",
       "        vertical-align: middle;\n",
       "    }\n",
       "\n",
       "    .dataframe tbody tr th {\n",
       "        vertical-align: top;\n",
       "    }\n",
       "\n",
       "    .dataframe thead th {\n",
       "        text-align: right;\n",
       "    }\n",
       "</style>\n",
       "<table border=\"1\" class=\"dataframe\">\n",
       "  <thead>\n",
       "    <tr style=\"text-align: right;\">\n",
       "      <th></th>\n",
       "      <th>PROVIDER_ID</th>\n",
       "      <th>N_PATIENTS</th>\n",
       "    </tr>\n",
       "    <tr>\n",
       "      <th>PRI_SPCL_DESC</th>\n",
       "      <th></th>\n",
       "      <th></th>\n",
       "    </tr>\n",
       "  </thead>\n",
       "  <tbody>\n",
       "    <tr>\n",
       "      <th>GYNECOLOGICAL ONCOLOGY</th>\n",
       "      <td>18</td>\n",
       "      <td>26</td>\n",
       "    </tr>\n",
       "    <tr>\n",
       "      <th>HEMATOLOGY/ONCOLOGY</th>\n",
       "      <td>5359</td>\n",
       "      <td>24073</td>\n",
       "    </tr>\n",
       "    <tr>\n",
       "      <th>MEDICAL ONCOLOGY</th>\n",
       "      <td>1875</td>\n",
       "      <td>8572</td>\n",
       "    </tr>\n",
       "    <tr>\n",
       "      <th>MUSCULOSKELETAL ONCOLOGY</th>\n",
       "      <td>24</td>\n",
       "      <td>37</td>\n",
       "    </tr>\n",
       "    <tr>\n",
       "      <th>UROLOGY</th>\n",
       "      <td>5181</td>\n",
       "      <td>17984</td>\n",
       "    </tr>\n",
       "  </tbody>\n",
       "</table>\n",
       "</div>"
      ],
      "text/plain": [
       "                          PROVIDER_ID  N_PATIENTS\n",
       "PRI_SPCL_DESC                                    \n",
       "GYNECOLOGICAL ONCOLOGY             18          26\n",
       "HEMATOLOGY/ONCOLOGY              5359       24073\n",
       "MEDICAL ONCOLOGY                 1875        8572\n",
       "MUSCULOSKELETAL ONCOLOGY           24          37\n",
       "UROLOGY                          5181       17984"
      ]
     },
     "execution_count": 128,
     "metadata": {},
     "output_type": "execute_result"
    }
   ],
   "source": [
    "# These are the primary ones\n",
    "df_HCPtypes.loc[ls_specialties]"
   ]
  },
  {
   "cell_type": "code",
   "execution_count": 129,
   "metadata": {},
   "outputs": [
    {
     "data": {
      "text/plain": [
       "PROVIDER_ID    12457\n",
       "N_PATIENTS     50692\n",
       "dtype: int64"
      ]
     },
     "execution_count": 129,
     "metadata": {},
     "output_type": "execute_result"
    }
   ],
   "source": [
    "# 12500 different providers covering 50 000 of the 70 000 patients\n",
    "df_HCPtypes.loc[ls_specialties].sum()"
   ]
  },
  {
   "cell_type": "code",
   "execution_count": 130,
   "metadata": {},
   "outputs": [],
   "source": [
    "list(df_HCPtypes.index.unique());"
   ]
  },
  {
   "cell_type": "markdown",
   "metadata": {},
   "source": [
    "## ZX_Decile"
   ]
  },
  {
   "cell_type": "code",
   "execution_count": 156,
   "metadata": {},
   "outputs": [
    {
     "data": {
      "text/html": [
       "<div>\n",
       "<style scoped>\n",
       "    .dataframe tbody tr th:only-of-type {\n",
       "        vertical-align: middle;\n",
       "    }\n",
       "\n",
       "    .dataframe tbody tr th {\n",
       "        vertical-align: top;\n",
       "    }\n",
       "\n",
       "    .dataframe thead th {\n",
       "        text-align: right;\n",
       "    }\n",
       "</style>\n",
       "<table border=\"1\" class=\"dataframe\">\n",
       "  <thead>\n",
       "    <tr style=\"text-align: right;\">\n",
       "      <th></th>\n",
       "      <th>PATIENT_ID</th>\n",
       "      <th>PROVIDER_ID</th>\n",
       "      <th>PN_FLAG</th>\n",
       "      <th>PRI_SPCL_DESC</th>\n",
       "      <th>IMS_ORG_ID</th>\n",
       "      <th>BUSINESS_NAME</th>\n",
       "      <th>COT_CLASSIFICATION</th>\n",
       "      <th>COT_FACILITY_TYPE</th>\n",
       "      <th>HCOS_MCRPC_DECILE</th>\n",
       "      <th>HCP_ZX_DECILE</th>\n",
       "      <th>HCP_MCRPC_DECILE</th>\n",
       "      <th>HCP_AGONIST_PAT_CNT</th>\n",
       "      <th>HCP_ANTAGONIST_PAT_CNT</th>\n",
       "      <th>HCP_ADT_SCORE</th>\n",
       "      <th>HCP_REGION</th>\n",
       "      <th>HHI</th>\n",
       "    </tr>\n",
       "  </thead>\n",
       "  <tbody>\n",
       "  </tbody>\n",
       "</table>\n",
       "</div>"
      ],
      "text/plain": [
       "Empty DataFrame\n",
       "Columns: [PATIENT_ID, PROVIDER_ID, PN_FLAG, PRI_SPCL_DESC, IMS_ORG_ID, BUSINESS_NAME, COT_CLASSIFICATION, COT_FACILITY_TYPE, HCOS_MCRPC_DECILE, HCP_ZX_DECILE, HCP_MCRPC_DECILE, HCP_AGONIST_PAT_CNT, HCP_ANTAGONIST_PAT_CNT, HCP_ADT_SCORE, HCP_REGION, HHI]\n",
       "Index: []"
      ]
     },
     "execution_count": 156,
     "metadata": {},
     "output_type": "execute_result"
    }
   ],
   "source": [
    "# No rows with value 0, even though definition says doctors that haven't prescribed X/Z should be 0\n",
    "df_HCP[df_HCP['HCP_ZX_DECILE'] < 1]"
   ]
  },
  {
   "cell_type": "code",
   "execution_count": 152,
   "metadata": {},
   "outputs": [
    {
     "data": {
      "text/html": [
       "<div>\n",
       "<style scoped>\n",
       "    .dataframe tbody tr th:only-of-type {\n",
       "        vertical-align: middle;\n",
       "    }\n",
       "\n",
       "    .dataframe tbody tr th {\n",
       "        vertical-align: top;\n",
       "    }\n",
       "\n",
       "    .dataframe thead th {\n",
       "        text-align: right;\n",
       "    }\n",
       "</style>\n",
       "<table border=\"1\" class=\"dataframe\">\n",
       "  <thead>\n",
       "    <tr style=\"text-align: right;\">\n",
       "      <th></th>\n",
       "      <th>PROVIDER_ID</th>\n",
       "      <th>PRI_SPCL_DESC</th>\n",
       "      <th>IMS_ORG_ID</th>\n",
       "      <th>BUSINESS_NAME</th>\n",
       "      <th>COT_CLASSIFICATION</th>\n",
       "      <th>COT_FACILITY_TYPE</th>\n",
       "      <th>HCOS_MCRPC_DECILE</th>\n",
       "      <th>HCP_ZX_DECILE</th>\n",
       "      <th>HCP_MCRPC_DECILE</th>\n",
       "      <th>HCP_AGONIST_PAT_CNT</th>\n",
       "      <th>HCP_ANTAGONIST_PAT_CNT</th>\n",
       "      <th>HCP_ADT_SCORE</th>\n",
       "      <th>HCP_REGION</th>\n",
       "      <th>HHI</th>\n",
       "      <th>N_PATIENTS</th>\n",
       "    </tr>\n",
       "  </thead>\n",
       "  <tbody>\n",
       "  </tbody>\n",
       "</table>\n",
       "</div>"
      ],
      "text/plain": [
       "Empty DataFrame\n",
       "Columns: [PROVIDER_ID, PRI_SPCL_DESC, IMS_ORG_ID, BUSINESS_NAME, COT_CLASSIFICATION, COT_FACILITY_TYPE, HCOS_MCRPC_DECILE, HCP_ZX_DECILE, HCP_MCRPC_DECILE, HCP_AGONIST_PAT_CNT, HCP_ANTAGONIST_PAT_CNT, HCP_ADT_SCORE, HCP_REGION, HHI, N_PATIENTS]\n",
       "Index: []"
      ]
     },
     "execution_count": 152,
     "metadata": {},
     "output_type": "execute_result"
    }
   ],
   "source": [
    "df_HCP_unique[(df_HCP_unique['HCP_ZX_DECILE'] == 0) & (df_HCP_unique['N_PATIENTS'] == 1)]"
   ]
  },
  {
   "cell_type": "code",
   "execution_count": 157,
   "metadata": {},
   "outputs": [
    {
     "data": {
      "text/plain": [
       "20209"
      ]
     },
     "execution_count": 157,
     "metadata": {},
     "output_type": "execute_result"
    },
    {
     "data": {
      "text/plain": [
       "35219"
      ]
     },
     "execution_count": 157,
     "metadata": {},
     "output_type": "execute_result"
    }
   ],
   "source": [
    "df_HCP_unique['HCP_ZX_DECILE'].isnull().sum()\n",
    "df_HCP['HCP_ZX_DECILE'].isnull().sum()"
   ]
  },
  {
   "cell_type": "markdown",
   "metadata": {},
   "source": [
    "## HHI score "
   ]
  },
  {
   "cell_type": "code",
   "execution_count": 35,
   "metadata": {},
   "outputs": [
    {
     "data": {
      "text/plain": [
       "0"
      ]
     },
     "execution_count": 35,
     "metadata": {},
     "output_type": "execute_result"
    }
   ],
   "source": [
    "sum(df_HCP['HHI'].isnull())"
   ]
  },
  {
   "cell_type": "code",
   "execution_count": 132,
   "metadata": {},
   "outputs": [
    {
     "data": {
      "text/html": [
       "<div>\n",
       "<style scoped>\n",
       "    .dataframe tbody tr th:only-of-type {\n",
       "        vertical-align: middle;\n",
       "    }\n",
       "\n",
       "    .dataframe tbody tr th {\n",
       "        vertical-align: top;\n",
       "    }\n",
       "\n",
       "    .dataframe thead th {\n",
       "        text-align: right;\n",
       "    }\n",
       "</style>\n",
       "<table border=\"1\" class=\"dataframe\">\n",
       "  <thead>\n",
       "    <tr style=\"text-align: right;\">\n",
       "      <th></th>\n",
       "      <th>PROVIDER_ID</th>\n",
       "      <th>PRI_SPCL_DESC</th>\n",
       "      <th>IMS_ORG_ID</th>\n",
       "      <th>BUSINESS_NAME</th>\n",
       "      <th>COT_CLASSIFICATION</th>\n",
       "      <th>COT_FACILITY_TYPE</th>\n",
       "      <th>HCOS_MCRPC_DECILE</th>\n",
       "      <th>HCP_ZX_DECILE</th>\n",
       "      <th>HCP_MCRPC_DECILE</th>\n",
       "      <th>HCP_AGONIST_PAT_CNT</th>\n",
       "      <th>HCP_ANTAGONIST_PAT_CNT</th>\n",
       "      <th>HCP_ADT_SCORE</th>\n",
       "      <th>HCP_REGION</th>\n",
       "      <th>HHI</th>\n",
       "      <th>N_PATIENTS</th>\n",
       "    </tr>\n",
       "  </thead>\n",
       "  <tbody>\n",
       "    <tr>\n",
       "      <th>0</th>\n",
       "      <td>0</td>\n",
       "      <td>NaN</td>\n",
       "      <td>NaN</td>\n",
       "      <td>NaN</td>\n",
       "      <td>NaN</td>\n",
       "      <td>NaN</td>\n",
       "      <td>NaN</td>\n",
       "      <td>NaN</td>\n",
       "      <td>4</td>\n",
       "      <td>NaN</td>\n",
       "      <td>NaN</td>\n",
       "      <td>NaN</td>\n",
       "      <td>NaN</td>\n",
       "      <td>0.333333</td>\n",
       "      <td>3</td>\n",
       "    </tr>\n",
       "    <tr>\n",
       "      <th>1</th>\n",
       "      <td>34049</td>\n",
       "      <td>NaN</td>\n",
       "      <td>NaN</td>\n",
       "      <td>NaN</td>\n",
       "      <td>NaN</td>\n",
       "      <td>NaN</td>\n",
       "      <td>NaN</td>\n",
       "      <td>NaN</td>\n",
       "      <td>1</td>\n",
       "      <td>NaN</td>\n",
       "      <td>NaN</td>\n",
       "      <td>NaN</td>\n",
       "      <td>MIDWEST</td>\n",
       "      <td>1.000000</td>\n",
       "      <td>1</td>\n",
       "    </tr>\n",
       "    <tr>\n",
       "      <th>2</th>\n",
       "      <td>38755</td>\n",
       "      <td>NaN</td>\n",
       "      <td>NaN</td>\n",
       "      <td>NaN</td>\n",
       "      <td>NaN</td>\n",
       "      <td>NaN</td>\n",
       "      <td>NaN</td>\n",
       "      <td>NaN</td>\n",
       "      <td>1</td>\n",
       "      <td>NaN</td>\n",
       "      <td>NaN</td>\n",
       "      <td>NaN</td>\n",
       "      <td>NORTHEAST</td>\n",
       "      <td>1.000000</td>\n",
       "      <td>1</td>\n",
       "    </tr>\n",
       "    <tr>\n",
       "      <th>3</th>\n",
       "      <td>70973</td>\n",
       "      <td>NaN</td>\n",
       "      <td>NaN</td>\n",
       "      <td>NaN</td>\n",
       "      <td>NaN</td>\n",
       "      <td>NaN</td>\n",
       "      <td>NaN</td>\n",
       "      <td>NaN</td>\n",
       "      <td>1</td>\n",
       "      <td>NaN</td>\n",
       "      <td>NaN</td>\n",
       "      <td>NaN</td>\n",
       "      <td>MIDWEST</td>\n",
       "      <td>1.000000</td>\n",
       "      <td>1</td>\n",
       "    </tr>\n",
       "    <tr>\n",
       "      <th>4</th>\n",
       "      <td>75088</td>\n",
       "      <td>CHIROPRACTIC</td>\n",
       "      <td>NaN</td>\n",
       "      <td>NaN</td>\n",
       "      <td>NaN</td>\n",
       "      <td>NaN</td>\n",
       "      <td>NaN</td>\n",
       "      <td>NaN</td>\n",
       "      <td>1</td>\n",
       "      <td>NaN</td>\n",
       "      <td>NaN</td>\n",
       "      <td>NaN</td>\n",
       "      <td>SOUTH</td>\n",
       "      <td>1.000000</td>\n",
       "      <td>1</td>\n",
       "    </tr>\n",
       "  </tbody>\n",
       "</table>\n",
       "</div>"
      ],
      "text/plain": [
       "   PROVIDER_ID PRI_SPCL_DESC IMS_ORG_ID BUSINESS_NAME COT_CLASSIFICATION  \\\n",
       "0            0           NaN        NaN           NaN                NaN   \n",
       "1        34049           NaN        NaN           NaN                NaN   \n",
       "2        38755           NaN        NaN           NaN                NaN   \n",
       "3        70973           NaN        NaN           NaN                NaN   \n",
       "4        75088  CHIROPRACTIC        NaN           NaN                NaN   \n",
       "\n",
       "  COT_FACILITY_TYPE  HCOS_MCRPC_DECILE  HCP_ZX_DECILE  HCP_MCRPC_DECILE  \\\n",
       "0               NaN                NaN            NaN                 4   \n",
       "1               NaN                NaN            NaN                 1   \n",
       "2               NaN                NaN            NaN                 1   \n",
       "3               NaN                NaN            NaN                 1   \n",
       "4               NaN                NaN            NaN                 1   \n",
       "\n",
       "   HCP_AGONIST_PAT_CNT  HCP_ANTAGONIST_PAT_CNT  HCP_ADT_SCORE HCP_REGION  \\\n",
       "0                  NaN                     NaN            NaN        NaN   \n",
       "1                  NaN                     NaN            NaN    MIDWEST   \n",
       "2                  NaN                     NaN            NaN  NORTHEAST   \n",
       "3                  NaN                     NaN            NaN    MIDWEST   \n",
       "4                  NaN                     NaN            NaN      SOUTH   \n",
       "\n",
       "        HHI  N_PATIENTS  \n",
       "0  0.333333           3  \n",
       "1  1.000000           1  \n",
       "2  1.000000           1  \n",
       "3  1.000000           1  \n",
       "4  1.000000           1  "
      ]
     },
     "execution_count": 132,
     "metadata": {},
     "output_type": "execute_result"
    }
   ],
   "source": [
    "df_HCP_unique.head()"
   ]
  },
  {
   "cell_type": "code",
   "execution_count": 139,
   "metadata": {},
   "outputs": [
    {
     "data": {
      "text/html": [
       "<div>\n",
       "<style scoped>\n",
       "    .dataframe tbody tr th:only-of-type {\n",
       "        vertical-align: middle;\n",
       "    }\n",
       "\n",
       "    .dataframe tbody tr th {\n",
       "        vertical-align: top;\n",
       "    }\n",
       "\n",
       "    .dataframe thead th {\n",
       "        text-align: right;\n",
       "    }\n",
       "</style>\n",
       "<table border=\"1\" class=\"dataframe\">\n",
       "  <thead>\n",
       "    <tr style=\"text-align: right;\">\n",
       "      <th></th>\n",
       "      <th>HHI</th>\n",
       "      <th>N_PATIENTS</th>\n",
       "    </tr>\n",
       "  </thead>\n",
       "  <tbody>\n",
       "    <tr>\n",
       "      <th>HHI</th>\n",
       "      <td>1.000000</td>\n",
       "      <td>-0.449546</td>\n",
       "    </tr>\n",
       "    <tr>\n",
       "      <th>N_PATIENTS</th>\n",
       "      <td>-0.449546</td>\n",
       "      <td>1.000000</td>\n",
       "    </tr>\n",
       "  </tbody>\n",
       "</table>\n",
       "</div>"
      ],
      "text/plain": [
       "                 HHI  N_PATIENTS\n",
       "HHI         1.000000   -0.449546\n",
       "N_PATIENTS -0.449546    1.000000"
      ]
     },
     "execution_count": 139,
     "metadata": {},
     "output_type": "execute_result"
    }
   ],
   "source": [
    "df_HCP_unique[['HHI', 'N_PATIENTS']].corr()"
   ]
  },
  {
   "cell_type": "markdown",
   "metadata": {},
   "source": [
    "### Check if numeric columns have negative values"
   ]
  },
  {
   "cell_type": "code",
   "execution_count": 6,
   "metadata": {},
   "outputs": [
    {
     "data": {
      "text/plain": [
       "PATIENT_ID                False\n",
       "PROVIDER_ID               False\n",
       "HCOS_MCRPC_DECILE         False\n",
       "HCP_ZX_DECILE             False\n",
       "HCP_MCRPC_DECILE          False\n",
       "HCP_AGONIST_PAT_CNT       False\n",
       "HCP_ANTAGONIST_PAT_CNT    False\n",
       "HCP_ADT_SCORE              True\n",
       "HHI                       False\n",
       "dtype: bool"
      ]
     },
     "execution_count": 6,
     "metadata": {},
     "output_type": "execute_result"
    }
   ],
   "source": [
    "# See if any numeric column has negative values\n",
    "(df_HCP.loc[:,df_HCP.apply(pd.api.types.is_numeric_dtype, reduce=False)] < 0).any()"
   ]
  },
  {
   "cell_type": "code",
   "execution_count": 7,
   "metadata": {},
   "outputs": [
    {
     "name": "stderr",
     "output_type": "stream",
     "text": [
      "C:\\ProgramData\\Anaconda3\\lib\\site-packages\\ipykernel_launcher.py:3: RuntimeWarning: invalid value encountered in greater_equal\n",
      "  This is separate from the ipykernel package so we can avoid doing imports until\n",
      "C:\\ProgramData\\Anaconda3\\lib\\site-packages\\ipykernel_launcher.py:3: RuntimeWarning: invalid value encountered in less_equal\n",
      "  This is separate from the ipykernel package so we can avoid doing imports until\n"
     ]
    },
    {
     "data": {
      "text/plain": [
       "array([ True,  True, False,  True,  True,  True,  True,  True,  True,\n",
       "        True,  True,  True,  True,  True,  True,  True,  True,  True,\n",
       "        True,  True,  True,  True,  True,  True,  True,  True,  True,\n",
       "        True,  True,  True,  True,  True,  True,  True,  True,  True,\n",
       "        True,  True,  True,  True,  True,  True,  True,  True,  True,\n",
       "        True,  True,  True,  True,  True,  True,  True,  True,  True,\n",
       "        True,  True,  True,  True,  True,  True,  True,  True,  True,\n",
       "        True,  True,  True,  True,  True,  True,  True,  True,  True,\n",
       "        True,  True,  True,  True,  True,  True,  True,  True,  True,\n",
       "        True,  True,  True,  True,  True,  True,  True,  True,  True,\n",
       "        True,  True,  True,  True,  True,  True,  True,  True,  True,\n",
       "        True,  True,  True], dtype=bool)"
      ]
     },
     "execution_count": 7,
     "metadata": {},
     "output_type": "execute_result"
    }
   ],
   "source": [
    "# ADT Preference score is a score ranging from -1.0 to +1.0, indicating preference for \n",
    "# ADT agonist or antagonist after initial diagnosis.  It is calculated in the following manner:\n",
    "(df_HCP['HCP_ADT_SCORE'].unique() >=-1) & (df_HCP['HCP_ADT_SCORE'].unique() <= 1)"
   ]
  },
  {
   "cell_type": "markdown",
   "metadata": {},
   "source": [
    "###  HCP decile"
   ]
  },
  {
   "cell_type": "code",
   "execution_count": 173,
   "metadata": {},
   "outputs": [
    {
     "data": {
      "text/plain": [
       "0"
      ]
     },
     "execution_count": 173,
     "metadata": {},
     "output_type": "execute_result"
    },
    {
     "data": {
      "text/plain": [
       "0"
      ]
     },
     "execution_count": 173,
     "metadata": {},
     "output_type": "execute_result"
    }
   ],
   "source": [
    "# No value is 0\n",
    "(df_HCP['HCP_MCRPC_DECILE'] == 0).sum()\n",
    "# No value is nan\n",
    "(df_HCP['HCP_MCRPC_DECILE'].isnull()).sum()"
   ]
  },
  {
   "cell_type": "code",
   "execution_count": 176,
   "metadata": {},
   "outputs": [
    {
     "data": {
      "text/plain": [
       "0"
      ]
     },
     "execution_count": 176,
     "metadata": {},
     "output_type": "execute_result"
    },
    {
     "data": {
      "text/plain": [
       "35219"
      ]
     },
     "execution_count": 176,
     "metadata": {},
     "output_type": "execute_result"
    }
   ],
   "source": [
    "# No value is 0\n",
    "(df_HCP['HCP_ZX_DECILE'] == 0).sum()\n",
    "# Tons are missing\n",
    "(df_HCP['HCP_ZX_DECILE'].isnull()).sum()"
   ]
  },
  {
   "cell_type": "markdown",
   "metadata": {},
   "source": [
    "# Create extra features"
   ]
  },
  {
   "cell_type": "code",
   "execution_count": 8,
   "metadata": {},
   "outputs": [],
   "source": [
    "df_patients = pd.read_excel(r'F:\\Projects\\Pfizer_mCRPC\\Data\\raw_data/Pfizer_mCRPC_Patients.xlsx')"
   ]
  },
  {
   "cell_type": "code",
   "execution_count": 90,
   "metadata": {},
   "outputs": [
    {
     "data": {
      "text/html": [
       "<div>\n",
       "<style scoped>\n",
       "    .dataframe tbody tr th:only-of-type {\n",
       "        vertical-align: middle;\n",
       "    }\n",
       "\n",
       "    .dataframe tbody tr th {\n",
       "        vertical-align: top;\n",
       "    }\n",
       "\n",
       "    .dataframe thead th {\n",
       "        text-align: right;\n",
       "    }\n",
       "</style>\n",
       "<table border=\"1\" class=\"dataframe\">\n",
       "  <thead>\n",
       "    <tr style=\"text-align: right;\">\n",
       "      <th></th>\n",
       "      <th>PATIENT_ID</th>\n",
       "      <th>PN_FLAG</th>\n",
       "      <th>AGE_INDEX</th>\n",
       "      <th>AGE_PC</th>\n",
       "      <th>INDEX_DATE</th>\n",
       "      <th>LOOKBACK_DATE</th>\n",
       "    </tr>\n",
       "  </thead>\n",
       "  <tbody>\n",
       "    <tr>\n",
       "      <th>0</th>\n",
       "      <td>377317624</td>\n",
       "      <td>N</td>\n",
       "      <td>85</td>\n",
       "      <td>85</td>\n",
       "      <td>2016-04-21</td>\n",
       "      <td>2014-04-22</td>\n",
       "    </tr>\n",
       "    <tr>\n",
       "      <th>1</th>\n",
       "      <td>73066609</td>\n",
       "      <td>N</td>\n",
       "      <td>80</td>\n",
       "      <td>78</td>\n",
       "      <td>2017-05-08</td>\n",
       "      <td>2015-05-09</td>\n",
       "    </tr>\n",
       "    <tr>\n",
       "      <th>2</th>\n",
       "      <td>70175556</td>\n",
       "      <td>N</td>\n",
       "      <td>50</td>\n",
       "      <td>50</td>\n",
       "      <td>2016-06-20</td>\n",
       "      <td>2014-06-21</td>\n",
       "    </tr>\n",
       "    <tr>\n",
       "      <th>3</th>\n",
       "      <td>713474282</td>\n",
       "      <td>N</td>\n",
       "      <td>83</td>\n",
       "      <td>81</td>\n",
       "      <td>2016-04-24</td>\n",
       "      <td>2014-04-25</td>\n",
       "    </tr>\n",
       "    <tr>\n",
       "      <th>4</th>\n",
       "      <td>1563563420</td>\n",
       "      <td>N</td>\n",
       "      <td>70</td>\n",
       "      <td>64</td>\n",
       "      <td>2014-05-14</td>\n",
       "      <td>2012-05-14</td>\n",
       "    </tr>\n",
       "  </tbody>\n",
       "</table>\n",
       "</div>"
      ],
      "text/plain": [
       "   PATIENT_ID PN_FLAG  AGE_INDEX  AGE_PC INDEX_DATE LOOKBACK_DATE\n",
       "0   377317624       N         85      85 2016-04-21    2014-04-22\n",
       "1    73066609       N         80      78 2017-05-08    2015-05-09\n",
       "2    70175556       N         50      50 2016-06-20    2014-06-21\n",
       "3   713474282       N         83      81 2016-04-24    2014-04-25\n",
       "4  1563563420       N         70      64 2014-05-14    2012-05-14"
      ]
     },
     "execution_count": 90,
     "metadata": {},
     "output_type": "execute_result"
    }
   ],
   "source": [
    "df_patients.head()"
   ]
  },
  {
   "cell_type": "code",
   "execution_count": 13,
   "metadata": {},
   "outputs": [],
   "source": [
    "df_hcp = df_patients.merge(df_HCP, on = ['PATIENT_ID', 'PN_FLAG'])"
   ]
  },
  {
   "cell_type": "code",
   "execution_count": 18,
   "metadata": {},
   "outputs": [],
   "source": [
    "df_hcp = df_hcp.replace({'PN_FLAG':{'N':0, 'P':1}})"
   ]
  },
  {
   "cell_type": "markdown",
   "metadata": {},
   "source": [
    "### Create aggregated features based on past patients at the index date of the patient"
   ]
  },
  {
   "cell_type": "code",
   "execution_count": 31,
   "metadata": {},
   "outputs": [],
   "source": [
    "# We want aggregated numbers of the history of the HCP for each PATIENT_ID-PROVIDER_ID combination\n",
    "df_sorted = df_hcp.sort_values(by = 'INDEX_DATE')"
   ]
  },
  {
   "cell_type": "code",
   "execution_count": 111,
   "metadata": {},
   "outputs": [
    {
     "data": {
      "text/plain": [
       "1     1856\n",
       "2      871\n",
       "3      256\n",
       "5      163\n",
       "4      122\n",
       "6       81\n",
       "9       35\n",
       "7       30\n",
       "8       17\n",
       "10      13\n",
       "11       6\n",
       "12       6\n",
       "13       5\n",
       "14       3\n",
       "16       2\n",
       "15       1\n",
       "17       1\n",
       "Name: HCP_PAST_XZ_PATIENTS, dtype: int64"
      ]
     },
     "execution_count": 111,
     "metadata": {},
     "output_type": "execute_result"
    }
   ],
   "source": [
    "# Create past number of patients treated with XZ_PATIENTS\n",
    "df_sorted['HCP_PAST_XZ_PATIENTS'] = df_sorted.groupby('PROVIDER_ID')['PN_FLAG'].cumsum() - 1\n",
    "df_sorted.loc[df_sorted['HCP_PAST_XZ_PATIENTS'] <0, 'HCP_PAST_XZ_PATIENTS'] = 0\n",
    "(df_sorted['HCP_PAST_XZ_PATIENTS'].value_counts())[1:]"
   ]
  },
  {
   "cell_type": "code",
   "execution_count": 110,
   "metadata": {},
   "outputs": [
    {
     "data": {
      "text/plain": [
       "0    27056\n",
       "1    10829\n",
       "2     7003\n",
       "3     4997\n",
       "4     3721\n",
       "5     2826\n",
       "6     2169\n",
       "7     1712\n",
       "8     1379\n",
       "9     1125\n",
       "Name: HCP_PAST_PATIENTS, dtype: int64"
      ]
     },
     "execution_count": 110,
     "metadata": {},
     "output_type": "execute_result"
    }
   ],
   "source": [
    "# Create past number of patients in the dataset\n",
    "df_sorted['HCP_PAST_PATIENTS'] = df_sorted.groupby('PROVIDER_ID')['PN_FLAG'].apply(lambda x: pd.Series(range(0, x.shape[0]), index = x.index))\n",
    "df_sorted['HCP_PAST_PATIENTS'].value_counts()[:10]"
   ]
  },
  {
   "cell_type": "markdown",
   "metadata": {},
   "source": [
    "### Group the primary specialization into a smaller number of sensible specializations "
   ]
  },
  {
   "cell_type": "code",
   "execution_count": 157,
   "metadata": {
    "scrolled": true
   },
   "outputs": [
    {
     "data": {
      "text/plain": [
       "HEMATOLOGY/ONCOLOGY            24073\n",
       "UROLOGY                        17984\n",
       "MEDICAL ONCOLOGY                8572\n",
       "DIAGNOSTIC RADIOLOGY            3813\n",
       "INTERNAL MEDICINE               3418\n",
       "RADIATION ONCOLOGY              3206\n",
       "FAMILY MEDICINE                 1710\n",
       "ANATOMIC/CLINICAL PATHOLOGY      790\n",
       "EMERGENCY MEDICINE               652\n",
       "NUCLEAR MEDICINE                 550\n",
       "Name: PRI_SPCL_DESC, dtype: int64"
      ]
     },
     "execution_count": 157,
     "metadata": {},
     "output_type": "execute_result"
    }
   ],
   "source": [
    "df_sorted['PRI_SPCL_DESC'].value_counts().head(10)"
   ]
  },
  {
   "cell_type": "code",
   "execution_count": 158,
   "metadata": {},
   "outputs": [],
   "source": [
    "# Group primary speciality into some main groups, create dummy columns\n",
    "df_sorted['PRI_SPCL_ONC'] = df_sorted['PRI_SPCL_DESC'].str.contains('ONCOLOGY', na=0).astype(int)\n",
    "df_sorted['PRI_SPCL_URO'] = df_sorted['PRI_SPCL_DESC'].str.contains('UROLOGY', na=0).astype(int)\n",
    "df_sorted['PRI_SPCL_INTMED'] = df_sorted['PRI_SPCL_DESC'].str.contains('INTERNAL MEDICINE', na=0).astype(int)\n",
    "df_sorted['PRI_SPCL_DIAGRAD'] = df_sorted['PRI_SPCL_DESC'].str.contains('RADIATION ONCOLOGY', na=0).astype(int)\n",
    "df_sorted['PRI_SPCL_FAMMED'] = df_sorted['PRI_SPCL_DESC'].str.contains('FAMILY MEDICINE', na=0).astype(int)"
   ]
  },
  {
   "cell_type": "code",
   "execution_count": 164,
   "metadata": {},
   "outputs": [
    {
     "data": {
      "text/plain": [
       "0    59761\n",
       "1    11122\n",
       "Name: PRI_SPCL_OTHER, dtype: int64"
      ]
     },
     "execution_count": 164,
     "metadata": {},
     "output_type": "execute_result"
    }
   ],
   "source": [
    "# Create dummy variable for others\n",
    "ls_dummy_specialities = ['PRI_SPCL_ONC', 'PRI_SPCL_URO', 'PRI_SPCL_INTMED', 'PRI_SPCL_DIAGRAD', 'PRI_SPCL_FAMMED']\n",
    "df_sorted['PRI_SPCL_OTHER'] = 1 - df_sorted[ls_dummy_specialities].sum(axis=1)\n",
    "df_sorted.loc[df_sorted['PRI_SPCL_OTHER'] < 0, 'PRI_SPCL_OTHER'] = 0\n",
    "df_sorted['PRI_SPCL_OTHER'].value_counts()"
   ]
  },
  {
   "cell_type": "markdown",
   "metadata": {},
   "source": [
    "# Create dummy variables "
   ]
  },
  {
   "cell_type": "code",
   "execution_count": 177,
   "metadata": {},
   "outputs": [],
   "source": [
    "df_HCP = df_sorted"
   ]
  },
  {
   "cell_type": "markdown",
   "metadata": {},
   "source": [
    "### Check number of unique values for each categorical column "
   ]
  },
  {
   "cell_type": "code",
   "execution_count": 178,
   "metadata": {},
   "outputs": [
    {
     "data": {
      "text/plain": [
       "PROVIDER_ID           27056\n",
       "PRI_SPCL_DESC           140\n",
       "IMS_ORG_ID            12389\n",
       "BUSINESS_NAME         11258\n",
       "COT_CLASSIFICATION       12\n",
       "COT_FACILITY_TYPE        27\n",
       "HCP_REGION                4\n",
       "dtype: int64"
      ]
     },
     "execution_count": 178,
     "metadata": {},
     "output_type": "execute_result"
    }
   ],
   "source": [
    "# We need to know the number of unique values for the following columns to decide on making dummy variables\n",
    "ls_object_columns = ['PROVIDER_ID', 'PRI_SPCL_DESC', 'IMS_ORG_ID', 'BUSINESS_NAME', 'COT_CLASSIFICATION', 'COT_FACILITY_TYPE', 'HCP_REGION']\n",
    "df_HCP[ls_object_columns].nunique()"
   ]
  },
  {
   "cell_type": "code",
   "execution_count": 179,
   "metadata": {},
   "outputs": [
    {
     "data": {
      "text/plain": [
       "array(['Outpatient Center', 'Hospital', 'Insurance', nan, 'Laboratory',\n",
       "       'Residential', 'Academic', 'Research', 'Emergency', 'Miscellaneous',\n",
       "       'Veterinary Medicine', 'Pharmacy', 'Elder Care'], dtype=object)"
      ]
     },
     "execution_count": 179,
     "metadata": {},
     "output_type": "execute_result"
    },
    {
     "data": {
      "text/plain": [
       "array(['Medical Group', 'Acute Care Hospital', 'Imaging Center',\n",
       "       'Managed Care', nan, 'Independent Physician Practice', 'Clinic',\n",
       "       'Clinical Laboratory', 'Nursing Homes', 'Rehabilitation Hospital',\n",
       "       'Outpatient Surgi Center', 'Medical School', 'Research Institute',\n",
       "       'Physical Medicine and Rehabilitation', 'Psychiatric Hospital',\n",
       "       'Assisted Living', 'Home Health', 'Other Laboratory',\n",
       "       'Health Department', 'Rescue', 'Non-health Delivery',\n",
       "       'Hospital/Clinic', 'Outpatient Pharmacy', 'Closed-door',\n",
       "       'Research Laboratory', 'Adult Day Care', 'Ambulance', 'Blood Bank'], dtype=object)"
      ]
     },
     "execution_count": 179,
     "metadata": {},
     "output_type": "execute_result"
    }
   ],
   "source": [
    "df_HCP['COT_CLASSIFICATION'].unique()\n",
    "df_HCP['COT_FACILITY_TYPE'].unique()"
   ]
  },
  {
   "cell_type": "markdown",
   "metadata": {},
   "source": [
    "### Check if patient ids map correctly"
   ]
  },
  {
   "cell_type": "code",
   "execution_count": 180,
   "metadata": {},
   "outputs": [
    {
     "data": {
      "text/plain": [
       "(70883, 28)"
      ]
     },
     "execution_count": 180,
     "metadata": {},
     "output_type": "execute_result"
    }
   ],
   "source": [
    "df_HCP.shape"
   ]
  },
  {
   "cell_type": "code",
   "execution_count": 182,
   "metadata": {},
   "outputs": [],
   "source": [
    "df_patient_id = pd.read_excel(r'F:\\Projects\\Pfizer_mCRPC\\Data\\Raw_data\\Pfizer_mCRPC_Patients.xlsx')"
   ]
  },
  {
   "cell_type": "code",
   "execution_count": 183,
   "metadata": {},
   "outputs": [
    {
     "data": {
      "text/plain": [
       "70883"
      ]
     },
     "execution_count": 183,
     "metadata": {},
     "output_type": "execute_result"
    },
    {
     "data": {
      "text/plain": [
       "True"
      ]
     },
     "execution_count": 183,
     "metadata": {},
     "output_type": "execute_result"
    }
   ],
   "source": [
    "# Patient IDs map perfectly\n",
    "df_HCP['PATIENT_ID'].nunique()\n",
    "set_patient_ids = set(df_patient_id['PATIENT_ID'])\n",
    "df_HCP['PATIENT_ID'].isin(set_patient_ids).all()"
   ]
  },
  {
   "cell_type": "markdown",
   "metadata": {},
   "source": [
    "## Create dummy variables"
   ]
  },
  {
   "cell_type": "code",
   "execution_count": 185,
   "metadata": {},
   "outputs": [],
   "source": [
    "ls_cat_columns = ['PRI_SPCL_DESC', 'COT_CLASSIFICATION', 'COT_FACILITY_TYPE', 'HCP_REGION']\n",
    "df_cat = df_HCP[ls_cat_columns]"
   ]
  },
  {
   "cell_type": "code",
   "execution_count": 186,
   "metadata": {},
   "outputs": [],
   "source": [
    "df_dummies = pd.get_dummies(df_cat)"
   ]
  },
  {
   "cell_type": "markdown",
   "metadata": {},
   "source": [
    "### Merge with the original dataframe"
   ]
  },
  {
   "cell_type": "code",
   "execution_count": 187,
   "metadata": {},
   "outputs": [
    {
     "data": {
      "text/plain": [
       "(70883, 21)"
      ]
     },
     "execution_count": 187,
     "metadata": {},
     "output_type": "execute_result"
    }
   ],
   "source": [
    "# Drop the unused columns (the ones changed into dummies and the ones that we don't use)\n",
    "ls_deleted_columns = ['PROVIDER_ID', 'IMS_ORG_ID', 'BUSINESS_NAME', 'PRI_SPCL_DESC', \n",
    "                      'COT_CLASSIFICATION', 'COT_FACILITY_TYPE', 'HCP_REGION']\n",
    "df_HCP = df_HCP.drop(ls_deleted_columns, axis=1)\n",
    "df_HCP.shape"
   ]
  },
  {
   "cell_type": "code",
   "execution_count": 188,
   "metadata": {},
   "outputs": [
    {
     "data": {
      "text/plain": [
       "(70883, 204)"
      ]
     },
     "execution_count": 188,
     "metadata": {},
     "output_type": "execute_result"
    }
   ],
   "source": [
    "# Done\n",
    "df_total = pd.concat([df_HCP, df_dummies], axis=1)\n",
    "df_total.shape"
   ]
  },
  {
   "cell_type": "markdown",
   "metadata": {},
   "source": [
    "### Clean up column names (no spaces, lower case)"
   ]
  },
  {
   "cell_type": "code",
   "execution_count": 23,
   "metadata": {},
   "outputs": [],
   "source": [
    "ls_colnames = df_total.columns.tolist()"
   ]
  },
  {
   "cell_type": "code",
   "execution_count": 24,
   "metadata": {},
   "outputs": [],
   "source": [
    "sys.path.append('F:\\Frederik\\pfizer_mcrpc\\paqc')\n",
    "from paqc.utils import utils"
   ]
  },
  {
   "cell_type": "code",
   "execution_count": 25,
   "metadata": {},
   "outputs": [],
   "source": [
    "ls_colnames_clean = [utils.clean_string(colname) for colname in ls_colnames]\n",
    "df_total.columns = ls_colnames_clean"
   ]
  },
  {
   "cell_type": "code",
   "execution_count": 26,
   "metadata": {},
   "outputs": [
    {
     "data": {
      "text/html": [
       "<div>\n",
       "<style scoped>\n",
       "    .dataframe tbody tr th:only-of-type {\n",
       "        vertical-align: middle;\n",
       "    }\n",
       "\n",
       "    .dataframe tbody tr th {\n",
       "        vertical-align: top;\n",
       "    }\n",
       "\n",
       "    .dataframe thead th {\n",
       "        text-align: right;\n",
       "    }\n",
       "</style>\n",
       "<table border=\"1\" class=\"dataframe\">\n",
       "  <thead>\n",
       "    <tr style=\"text-align: right;\">\n",
       "      <th></th>\n",
       "      <th>patient_id</th>\n",
       "      <th>hcos_mcrpc_decile</th>\n",
       "      <th>hcp_zx_decile</th>\n",
       "      <th>hcp_mcrpc_decile</th>\n",
       "      <th>hcp_agonist_pat_cnt</th>\n",
       "      <th>hcp_antagonist_pat_cnt</th>\n",
       "      <th>hcp_adt_score</th>\n",
       "      <th>hhi</th>\n",
       "      <th>pri_spcl_desc_abdominal_radiology</th>\n",
       "      <th>pri_spcl_desc_abdominal_surgery</th>\n",
       "      <th>...</th>\n",
       "      <th>cot_facility_type_physical_medicine_and_rehabilitation</th>\n",
       "      <th>cot_facility_type_psychiatric_hospital</th>\n",
       "      <th>cot_facility_type_rehabilitation_hospital</th>\n",
       "      <th>cot_facility_type_rescue</th>\n",
       "      <th>cot_facility_type_research_institute</th>\n",
       "      <th>cot_facility_type_research_laboratory</th>\n",
       "      <th>hcp_region_midwest</th>\n",
       "      <th>hcp_region_northeast</th>\n",
       "      <th>hcp_region_south</th>\n",
       "      <th>hcp_region_west</th>\n",
       "    </tr>\n",
       "  </thead>\n",
       "  <tbody>\n",
       "    <tr>\n",
       "      <th>0</th>\n",
       "      <td>839544914</td>\n",
       "      <td>10.0</td>\n",
       "      <td>10.0</td>\n",
       "      <td>10</td>\n",
       "      <td>61.0</td>\n",
       "      <td>20.0</td>\n",
       "      <td>0.506173</td>\n",
       "      <td>0.528096</td>\n",
       "      <td>0</td>\n",
       "      <td>0</td>\n",
       "      <td>...</td>\n",
       "      <td>0</td>\n",
       "      <td>0</td>\n",
       "      <td>0</td>\n",
       "      <td>0</td>\n",
       "      <td>0</td>\n",
       "      <td>0</td>\n",
       "      <td>0</td>\n",
       "      <td>0</td>\n",
       "      <td>0</td>\n",
       "      <td>1</td>\n",
       "    </tr>\n",
       "    <tr>\n",
       "      <th>1</th>\n",
       "      <td>582866916</td>\n",
       "      <td>NaN</td>\n",
       "      <td>NaN</td>\n",
       "      <td>7</td>\n",
       "      <td>6.0</td>\n",
       "      <td>NaN</td>\n",
       "      <td>1.000000</td>\n",
       "      <td>0.781250</td>\n",
       "      <td>0</td>\n",
       "      <td>0</td>\n",
       "      <td>...</td>\n",
       "      <td>0</td>\n",
       "      <td>0</td>\n",
       "      <td>0</td>\n",
       "      <td>0</td>\n",
       "      <td>0</td>\n",
       "      <td>0</td>\n",
       "      <td>0</td>\n",
       "      <td>0</td>\n",
       "      <td>0</td>\n",
       "      <td>1</td>\n",
       "    </tr>\n",
       "    <tr>\n",
       "      <th>2</th>\n",
       "      <td>171011889</td>\n",
       "      <td>10.0</td>\n",
       "      <td>NaN</td>\n",
       "      <td>3</td>\n",
       "      <td>1.0</td>\n",
       "      <td>NaN</td>\n",
       "      <td>1.000000</td>\n",
       "      <td>1.000000</td>\n",
       "      <td>0</td>\n",
       "      <td>0</td>\n",
       "      <td>...</td>\n",
       "      <td>0</td>\n",
       "      <td>0</td>\n",
       "      <td>0</td>\n",
       "      <td>0</td>\n",
       "      <td>0</td>\n",
       "      <td>0</td>\n",
       "      <td>1</td>\n",
       "      <td>0</td>\n",
       "      <td>0</td>\n",
       "      <td>0</td>\n",
       "    </tr>\n",
       "    <tr>\n",
       "      <th>3</th>\n",
       "      <td>645101969</td>\n",
       "      <td>4.0</td>\n",
       "      <td>1.0</td>\n",
       "      <td>3</td>\n",
       "      <td>NaN</td>\n",
       "      <td>NaN</td>\n",
       "      <td>NaN</td>\n",
       "      <td>1.000000</td>\n",
       "      <td>0</td>\n",
       "      <td>0</td>\n",
       "      <td>...</td>\n",
       "      <td>0</td>\n",
       "      <td>0</td>\n",
       "      <td>0</td>\n",
       "      <td>0</td>\n",
       "      <td>0</td>\n",
       "      <td>0</td>\n",
       "      <td>0</td>\n",
       "      <td>0</td>\n",
       "      <td>0</td>\n",
       "      <td>1</td>\n",
       "    </tr>\n",
       "    <tr>\n",
       "      <th>4</th>\n",
       "      <td>152961559</td>\n",
       "      <td>7.0</td>\n",
       "      <td>1.0</td>\n",
       "      <td>5</td>\n",
       "      <td>1.0</td>\n",
       "      <td>NaN</td>\n",
       "      <td>1.000000</td>\n",
       "      <td>0.520000</td>\n",
       "      <td>0</td>\n",
       "      <td>0</td>\n",
       "      <td>...</td>\n",
       "      <td>0</td>\n",
       "      <td>0</td>\n",
       "      <td>0</td>\n",
       "      <td>0</td>\n",
       "      <td>0</td>\n",
       "      <td>0</td>\n",
       "      <td>0</td>\n",
       "      <td>0</td>\n",
       "      <td>1</td>\n",
       "      <td>0</td>\n",
       "    </tr>\n",
       "  </tbody>\n",
       "</table>\n",
       "<p>5 rows × 191 columns</p>\n",
       "</div>"
      ],
      "text/plain": [
       "   patient_id  hcos_mcrpc_decile  hcp_zx_decile  hcp_mcrpc_decile  \\\n",
       "0   839544914               10.0           10.0                10   \n",
       "1   582866916                NaN            NaN                 7   \n",
       "2   171011889               10.0            NaN                 3   \n",
       "3   645101969                4.0            1.0                 3   \n",
       "4   152961559                7.0            1.0                 5   \n",
       "\n",
       "   hcp_agonist_pat_cnt  hcp_antagonist_pat_cnt  hcp_adt_score       hhi  \\\n",
       "0                 61.0                    20.0       0.506173  0.528096   \n",
       "1                  6.0                     NaN       1.000000  0.781250   \n",
       "2                  1.0                     NaN       1.000000  1.000000   \n",
       "3                  NaN                     NaN            NaN  1.000000   \n",
       "4                  1.0                     NaN       1.000000  0.520000   \n",
       "\n",
       "   pri_spcl_desc_abdominal_radiology  pri_spcl_desc_abdominal_surgery  \\\n",
       "0                                  0                                0   \n",
       "1                                  0                                0   \n",
       "2                                  0                                0   \n",
       "3                                  0                                0   \n",
       "4                                  0                                0   \n",
       "\n",
       "        ...         cot_facility_type_physical_medicine_and_rehabilitation  \\\n",
       "0       ...                                                         0        \n",
       "1       ...                                                         0        \n",
       "2       ...                                                         0        \n",
       "3       ...                                                         0        \n",
       "4       ...                                                         0        \n",
       "\n",
       "   cot_facility_type_psychiatric_hospital  \\\n",
       "0                                       0   \n",
       "1                                       0   \n",
       "2                                       0   \n",
       "3                                       0   \n",
       "4                                       0   \n",
       "\n",
       "   cot_facility_type_rehabilitation_hospital  cot_facility_type_rescue  \\\n",
       "0                                          0                         0   \n",
       "1                                          0                         0   \n",
       "2                                          0                         0   \n",
       "3                                          0                         0   \n",
       "4                                          0                         0   \n",
       "\n",
       "   cot_facility_type_research_institute  \\\n",
       "0                                     0   \n",
       "1                                     0   \n",
       "2                                     0   \n",
       "3                                     0   \n",
       "4                                     0   \n",
       "\n",
       "   cot_facility_type_research_laboratory  hcp_region_midwest  \\\n",
       "0                                      0                   0   \n",
       "1                                      0                   0   \n",
       "2                                      0                   1   \n",
       "3                                      0                   0   \n",
       "4                                      0                   0   \n",
       "\n",
       "   hcp_region_northeast  hcp_region_south  hcp_region_west  \n",
       "0                     0                 0                1  \n",
       "1                     0                 0                1  \n",
       "2                     0                 0                0  \n",
       "3                     0                 0                1  \n",
       "4                     0                 1                0  \n",
       "\n",
       "[5 rows x 191 columns]"
      ]
     },
     "execution_count": 26,
     "metadata": {},
     "output_type": "execute_result"
    }
   ],
   "source": [
    "df_total.head()"
   ]
  },
  {
   "cell_type": "markdown",
   "metadata": {},
   "source": [
    "# Export to csv"
   ]
  },
  {
   "cell_type": "code",
   "execution_count": 27,
   "metadata": {},
   "outputs": [],
   "source": [
    "df_total.to_csv(r'F:\\Projects\\Pfizer_mCRPC\\Data\\Raw_data\\03_Pfizer_mCRPC_HCPHCOS_WITH_DUMMIES.csv', index = False)"
   ]
  },
  {
   "cell_type": "code",
   "execution_count": null,
   "metadata": {},
   "outputs": [],
   "source": []
  }
 ],
 "metadata": {
  "kernelspec": {
   "display_name": "Python 3",
   "language": "python",
   "name": "python3"
  },
  "language_info": {
   "codemirror_mode": {
    "name": "ipython",
    "version": 3
   },
   "file_extension": ".py",
   "mimetype": "text/x-python",
   "name": "python",
   "nbconvert_exporter": "python",
   "pygments_lexer": "ipython3",
   "version": "3.6.3"
  }
 },
 "nbformat": 4,
 "nbformat_minor": 2
}

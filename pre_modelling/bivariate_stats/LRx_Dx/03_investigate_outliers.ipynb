{
 "cells": [
  {
   "cell_type": "markdown",
   "metadata": {},
   "source": [
    "# After analysis of bivariate stats by Lachlan\n",
    "Looking at them there are a few things I think we should bear in mind:\n",
    "\n",
    "•\tCan we check predictor g214024_claim_cnt? This has the highest difference in the rate it fires between positives and negatives. Might be worth having a quick glance at the density plot for this variable split by outcome.\n",
    "\n",
    "•\tThe following predictors have very high maximum values in the negatives relative to their maximum values in the positives: s26_claim_cnt, c99283_claim_cnt, s14_claim_cnt, which are Infectious disease, Emergency department visit, and Diagnostic radiology respectively. I think we can just bear these in mind for now, however on Strongbridge predictors like these came way up at the top of the VI table.\n",
    "\n",
    "•\tA number of very general predictors (office outpatient visits, MRI scans, annual wellness visits) have high maximum values in the negatives but are empty in the positives.\n",
    "\n",
    "Frederick lets have a look at these tomorrow (v high negative mean, 0 positive mean):\n",
    "\n",
    "c99201_max_min_dd\n",
    "\n",
    "c72131_max_min_dd\n",
    "\n",
    "hg0438_max_min_dd\n",
    "\n",
    "c73721_max_min_dd"
   ]
  },
  {
   "cell_type": "code",
   "execution_count": 1,
   "metadata": {},
   "outputs": [],
   "source": [
    "import pandas as pd\n",
    "import re\n",
    "import numpy as np\n",
    "import matplotlib.pyplot as plt\n",
    "import seaborn as sns\n",
    "\n",
    "from IPython.core.interactiveshell import InteractiveShell\n",
    "InteractiveShell.ast_node_interactivity = \"all\""
   ]
  },
  {
   "cell_type": "code",
   "execution_count": 2,
   "metadata": {},
   "outputs": [
    {
     "name": "stdout",
     "output_type": "stream",
     "text": [
      "Populating the interactive namespace from numpy and matplotlib\n"
     ]
    }
   ],
   "source": [
    "%pylab inline\n",
    "pylab.rcParams['figure.figsize'] = (10, 6)"
   ]
  },
  {
   "cell_type": "code",
   "execution_count": 3,
   "metadata": {},
   "outputs": [],
   "source": [
    "df = pd.read_feather(r'F:\\Projects\\Pfizer_mCRPC\\Data\\Raw_data\\04_total_with_datediff_and_dummies.feather')"
   ]
  },
  {
   "cell_type": "code",
   "execution_count": 4,
   "metadata": {},
   "outputs": [
    {
     "name": "stderr",
     "output_type": "stream",
     "text": [
      "C:\\ProgramData\\Anaconda3\\lib\\site-packages\\IPython\\core\\interactiveshell.py:2728: DtypeWarning: Columns (54) have mixed types. Specify dtype option on import or set low_memory=False.\n",
      "  interactivity=interactivity, compiler=compiler, result=result)\n"
     ]
    }
   ],
   "source": [
    "df_prod = pd.read_csv(r'F:\\Projects\\Pfizer_mCRPC\\Data\\Raw_data\\NDW Clinical Codes\\V_PRODUCT.csv')"
   ]
  },
  {
   "cell_type": "code",
   "execution_count": 12,
   "metadata": {},
   "outputs": [],
   "source": [
    "df_proc = pd.read_excel(r'F:\\Projects\\Pfizer_mCRPC\\Data\\Raw_data\\NDW Clinical Codes\\V_PROCEDURE.xlsx')"
   ]
  },
  {
   "cell_type": "markdown",
   "metadata": {},
   "source": [
    "## g214024_claim_cnt"
   ]
  },
  {
   "cell_type": "code",
   "execution_count": 5,
   "metadata": {},
   "outputs": [
    {
     "data": {
      "text/plain": [
       "'ANTIANDROGENS***'"
      ]
     },
     "execution_count": 5,
     "metadata": {},
     "output_type": "execute_result"
    }
   ],
   "source": [
    "# The description of g214024\n",
    "df_prod[df_prod['GPI6_CD'] == 214024]['GPI6_DESC'].unique()[0]"
   ]
  },
  {
   "cell_type": "code",
   "execution_count": 6,
   "metadata": {},
   "outputs": [
    {
     "name": "stderr",
     "output_type": "stream",
     "text": [
      "C:\\ProgramData\\Anaconda3\\lib\\site-packages\\numpy\\core\\fromnumeric.py:57: FutureWarning: reshape is deprecated and will raise in a subsequent release. Please use .values.reshape(...) instead\n",
      "  return getattr(obj, method)(*args, **kwds)\n"
     ]
    },
    {
     "data": {
      "text/plain": [
       "<matplotlib.legend.Legend at 0xbd26875588>"
      ]
     },
     "execution_count": 6,
     "metadata": {},
     "output_type": "execute_result"
    },
    {
     "data": {
      "image/png": "[encoded data removed]",
      "text/plain": [
       "<matplotlib.figure.Figure at 0xbd268755c0>"
      ]
     },
     "metadata": {},
     "output_type": "display_data"
    }
   ],
   "source": [
    "colname = 'g214024_claim_cnt'\n",
    "# max_val = max(df[colname]) \n",
    "max_val = 30\n",
    "bins = np.array(range(-1, max_val)) + 0.5\n",
    "\n",
    "neg = df[df['pn_flag'] == 0][colname]\n",
    "pos = df[df['pn_flag'] == 1][colname]\n",
    "\n",
    "plt.style.use('seaborn-deep')\n",
    "_ = plt.hist([neg, pos], bins = bins, normed = True, label = ['neg', 'pos'])\n",
    "plt.legend(loc='upper right')\n",
    "plt.show()"
   ]
  },
  {
   "cell_type": "code",
   "execution_count": 32,
   "metadata": {},
   "outputs": [
    {
     "data": {
      "text/plain": [
       "1023"
      ]
     },
     "execution_count": 32,
     "metadata": {},
     "output_type": "execute_result"
    }
   ],
   "source": []
  },
  {
   "cell_type": "markdown",
   "metadata": {},
   "source": [
    "## c99201_max_min_dd"
   ]
  },
  {
   "cell_type": "code",
   "execution_count": 23,
   "metadata": {},
   "outputs": [
    {
     "data": {
      "text/plain": [
       "[\"OFFICE OR OTHER OUTPATIENT VISIT FOR THE EVALUATION AND MANAGEMENT OF A NEW PATIENT, WHICH REQUIRES THESE 3 KEY COMPONENTS: A PROBLEM FOCUSED HISTORY; A PROBLEM FOCUSED EXAMINATION; STRAIGHTFORWARD MEDICAL DECISION MAKING. COUNSELING AND/OR COORDINATION OF CARE WITH OTHER PHYSICIANS, OTHER QUALIFIED HEALTH CARE PROFESSIONALS, OR AGENCIES ARE PROVIDED CONSISTENT WITH THE NATURE OF THE PROBLEM(S) AND THE PATIENT'S AND/OR FAMILY'S NEEDS. USUALLY, THE PRESENTING PROBLEM(S) ARE SELF LIMITED OR MINOR. TYPICALLY, 10 MINUTES ARE SPENT FACE-TO-FACE WITH THE PATIENT AND/OR FAMILY.\"]"
      ]
     },
     "execution_count": 23,
     "metadata": {},
     "output_type": "execute_result"
    }
   ],
   "source": [
    "# Description of c99201\n",
    "df_proc[df_proc['PRC_STD_CD'] == '99201']['PRC_DESC'].tolist()"
   ]
  },
  {
   "cell_type": "code",
   "execution_count": 7,
   "metadata": {},
   "outputs": [
    {
     "name": "stderr",
     "output_type": "stream",
     "text": [
      "C:\\ProgramData\\Anaconda3\\lib\\site-packages\\numpy\\core\\fromnumeric.py:57: FutureWarning: reshape is deprecated and will raise in a subsequent release. Please use .values.reshape(...) instead\n",
      "  return getattr(obj, method)(*args, **kwds)\n"
     ]
    },
    {
     "data": {
      "text/plain": [
       "<matplotlib.legend.Legend at 0xbd268755f8>"
      ]
     },
     "execution_count": 7,
     "metadata": {},
     "output_type": "execute_result"
    },
    {
     "data": {
      "image/png": "[encoded data removed]",
      "text/plain": [
       "<matplotlib.figure.Figure at 0xbd26875550>"
      ]
     },
     "metadata": {},
     "output_type": "display_data"
    },
    {
     "data": {
      "text/plain": [
       "<matplotlib.legend.Legend at 0xbd1d1335f8>"
      ]
     },
     "execution_count": 7,
     "metadata": {},
     "output_type": "execute_result"
    },
    {
     "data": {
      "text/plain": [
       "(0, 0.001)"
      ]
     },
     "execution_count": 7,
     "metadata": {},
     "output_type": "execute_result"
    },
    {
     "data": {
      "image/png": "[encoded data removed]",
      "text/plain": [
       "<matplotlib.figure.Figure at 0xbd1d1338d0>"
      ]
     },
     "metadata": {},
     "output_type": "display_data"
    }
   ],
   "source": [
    "colname = 'c99201_max_min_dd'\n",
    "max_val = max(df[~df[colname].isnull()][colname])\n",
    "bins = np.linspace(-0.5, max_val, 50)\n",
    "\n",
    "neg = df[df['pn_flag'] == 0][colname]\n",
    "neg = neg[~neg.isnull()]\n",
    "pos = df[df['pn_flag'] == 1][colname]\n",
    "pos = pos[~pos.isnull()]\n",
    "\n",
    "# Full range\n",
    "plt.style.use('seaborn-deep')\n",
    "_ = plt.hist([neg, pos], bins = bins, normed = True, label = ['neg', 'pos'])\n",
    "plt.legend(loc='upper right')\n",
    "plt.show()\n",
    "\n",
    "# Zoom in on the lower side of the y-axis\n",
    "plt.style.use('seaborn-deep')\n",
    "_ = plt.hist([neg, pos], bins = bins, normed = True, label = ['neg', 'pos'])\n",
    "plt.legend(loc='upper right')\n",
    "plt.ylim((0,0.001))\n",
    "plt.show()"
   ]
  },
  {
   "cell_type": "markdown",
   "metadata": {},
   "source": [
    "## c72131_max_min_dd "
   ]
  },
  {
   "cell_type": "code",
   "execution_count": 24,
   "metadata": {},
   "outputs": [
    {
     "data": {
      "text/plain": [
       "['COMPUTED TOMOGRAPHY, LUMBAR SPINE; WITHOUT CONTRAST MATERIAL']"
      ]
     },
     "execution_count": 24,
     "metadata": {},
     "output_type": "execute_result"
    }
   ],
   "source": [
    "# Description of c99201\n",
    "df_proc[df_proc['PRC_STD_CD'] == '72131']['PRC_DESC'].tolist()"
   ]
  },
  {
   "cell_type": "code",
   "execution_count": 25,
   "metadata": {},
   "outputs": [
    {
     "name": "stderr",
     "output_type": "stream",
     "text": [
      "C:\\ProgramData\\Anaconda3\\lib\\site-packages\\numpy\\core\\fromnumeric.py:57: FutureWarning: reshape is deprecated and will raise in a subsequent release. Please use .values.reshape(...) instead\n",
      "  return getattr(obj, method)(*args, **kwds)\n"
     ]
    },
    {
     "data": {
      "text/plain": [
       "<matplotlib.legend.Legend at 0xbd1e5f30f0>"
      ]
     },
     "execution_count": 25,
     "metadata": {},
     "output_type": "execute_result"
    },
    {
     "data": {
      "image/png": "[encoded data removed]",
      "text/plain": [
       "<matplotlib.figure.Figure at 0xbd1e5f3160>"
      ]
     },
     "metadata": {},
     "output_type": "display_data"
    },
    {
     "data": {
      "text/plain": [
       "<matplotlib.legend.Legend at 0xbd1d158940>"
      ]
     },
     "execution_count": 25,
     "metadata": {},
     "output_type": "execute_result"
    },
    {
     "data": {
      "text/plain": [
       "(0, 0.001)"
      ]
     },
     "execution_count": 25,
     "metadata": {},
     "output_type": "execute_result"
    },
    {
     "data": {
      "image/png": "[encoded data removed]",
      "text/plain": [
       "<matplotlib.figure.Figure at 0xbd1d1589b0>"
      ]
     },
     "metadata": {},
     "output_type": "display_data"
    }
   ],
   "source": [
    "colname = 'c72131_max_min_dd'\n",
    "max_val = max(df[~df[colname].isnull()][colname])\n",
    "bins = np.linspace(-0.5, max_val, 50)\n",
    "\n",
    "neg = df[df['pn_flag'] == 0][colname]\n",
    "neg = neg[~neg.isnull()]\n",
    "pos = df[df['pn_flag'] == 1][colname]\n",
    "pos = pos[~pos.isnull()]\n",
    "\n",
    "# Full range\n",
    "plt.style.use('seaborn-deep')\n",
    "_ = plt.hist([neg, pos], bins = bins, normed = True, label = ['neg', 'pos'])\n",
    "plt.legend(loc='upper right')\n",
    "plt.show()\n",
    "\n",
    "# Zoom in on the lower side of the y-axis\n",
    "plt.style.use('seaborn-deep')\n",
    "_ = plt.hist([neg, pos], bins = bins, normed = True, label = ['neg', 'pos'])\n",
    "plt.legend(loc='upper right')\n",
    "plt.ylim((0,0.001))\n",
    "plt.show()"
   ]
  },
  {
   "cell_type": "markdown",
   "metadata": {},
   "source": [
    "## hg0438_max_min_dd "
   ]
  },
  {
   "cell_type": "code",
   "execution_count": 27,
   "metadata": {},
   "outputs": [
    {
     "data": {
      "text/plain": [
       "['ANNUAL WELLNESS VISIT; INCLUDES A PERSONALIZED PREVENTION PLAN OF SERVICE (PPS), INITIAL VISIT']"
      ]
     },
     "execution_count": 27,
     "metadata": {},
     "output_type": "execute_result"
    }
   ],
   "source": [
    "# Description of c99201\n",
    "df_proc[df_proc['PRC_STD_CD'] == 'G0438']['PRC_DESC'].tolist()"
   ]
  },
  {
   "cell_type": "code",
   "execution_count": 28,
   "metadata": {},
   "outputs": [
    {
     "name": "stderr",
     "output_type": "stream",
     "text": [
      "C:\\ProgramData\\Anaconda3\\lib\\site-packages\\numpy\\core\\fromnumeric.py:57: FutureWarning: reshape is deprecated and will raise in a subsequent release. Please use .values.reshape(...) instead\n",
      "  return getattr(obj, method)(*args, **kwds)\n"
     ]
    },
    {
     "data": {
      "text/plain": [
       "<matplotlib.legend.Legend at 0xbd1e5f31d0>"
      ]
     },
     "execution_count": 28,
     "metadata": {},
     "output_type": "execute_result"
    },
    {
     "data": {
      "image/png": "[encoded data removed]",
      "text/plain": [
       "<matplotlib.figure.Figure at 0xbd384f5978>"
      ]
     },
     "metadata": {},
     "output_type": "display_data"
    },
    {
     "data": {
      "text/plain": [
       "<matplotlib.legend.Legend at 0xbd1e3ced68>"
      ]
     },
     "execution_count": 28,
     "metadata": {},
     "output_type": "execute_result"
    },
    {
     "data": {
      "text/plain": [
       "(0, 0.001)"
      ]
     },
     "execution_count": 28,
     "metadata": {},
     "output_type": "execute_result"
    },
    {
     "data": {
      "image/png": "[encoded data removed]",
      "text/plain": [
       "<matplotlib.figure.Figure at 0xbd1e3c4128>"
      ]
     },
     "metadata": {},
     "output_type": "display_data"
    }
   ],
   "source": [
    "colname = 'hg0438_max_min_dd'\n",
    "max_val = max(df[~df[colname].isnull()][colname])\n",
    "bins = np.linspace(-0.5, max_val, 50)\n",
    "\n",
    "neg = df[df['pn_flag'] == 0][colname]\n",
    "neg = neg[~neg.isnull()]\n",
    "pos = df[df['pn_flag'] == 1][colname]\n",
    "pos = pos[~pos.isnull()]\n",
    "\n",
    "# Full range\n",
    "plt.style.use('seaborn-deep')\n",
    "_ = plt.hist([neg, pos], bins = bins, normed = True, label = ['neg', 'pos'])\n",
    "plt.legend(loc='upper right')\n",
    "plt.show()\n",
    "\n",
    "# Zoom in on the lower side of the y-axis\n",
    "plt.style.use('seaborn-deep')\n",
    "_ = plt.hist([neg, pos], bins = bins, normed = True, label = ['neg', 'pos'])\n",
    "plt.legend(loc='upper right')\n",
    "plt.ylim((0,0.001))\n",
    "plt.show()"
   ]
  },
  {
   "cell_type": "markdown",
   "metadata": {},
   "source": [
    "## c73721_max_min_dd"
   ]
  },
  {
   "cell_type": "code",
   "execution_count": 30,
   "metadata": {},
   "outputs": [
    {
     "data": {
      "text/plain": [
       "['MAGNETIC RESONANCE (EG, PROTON) IMAGING, ANY JOINT OF LOWER EXTREMITY; WITHOUT CONTRAST MATERIAL']"
      ]
     },
     "execution_count": 30,
     "metadata": {},
     "output_type": "execute_result"
    }
   ],
   "source": [
    "# Description of c99201\n",
    "df_proc[df_proc['PRC_STD_CD'] == '73721']['PRC_DESC'].tolist()"
   ]
  },
  {
   "cell_type": "code",
   "execution_count": 31,
   "metadata": {},
   "outputs": [
    {
     "name": "stderr",
     "output_type": "stream",
     "text": [
      "C:\\ProgramData\\Anaconda3\\lib\\site-packages\\numpy\\core\\fromnumeric.py:57: FutureWarning: reshape is deprecated and will raise in a subsequent release. Please use .values.reshape(...) instead\n",
      "  return getattr(obj, method)(*args, **kwds)\n"
     ]
    },
    {
     "data": {
      "text/plain": [
       "<matplotlib.legend.Legend at 0xbd384fd438>"
      ]
     },
     "execution_count": 31,
     "metadata": {},
     "output_type": "execute_result"
    },
    {
     "data": {
      "image/png": "[encoded data removed]",
      "text/plain": [
       "<matplotlib.figure.Figure at 0xbd1e5f14e0>"
      ]
     },
     "metadata": {},
     "output_type": "display_data"
    },
    {
     "data": {
      "text/plain": [
       "<matplotlib.legend.Legend at 0xbd3862df28>"
      ]
     },
     "execution_count": 31,
     "metadata": {},
     "output_type": "execute_result"
    },
    {
     "data": {
      "text/plain": [
       "(0, 0.001)"
      ]
     },
     "execution_count": 31,
     "metadata": {},
     "output_type": "execute_result"
    },
    {
     "data": {
      "image/png": "[encoded data removed]",
      "text/plain": [
       "<matplotlib.figure.Figure at 0xbd385f59b0>"
      ]
     },
     "metadata": {},
     "output_type": "display_data"
    }
   ],
   "source": [
    "colname = 'c73721_max_min_dd'\n",
    "max_val = max(df[~df[colname].isnull()][colname])\n",
    "bins = np.linspace(-0.5, max_val, 50)\n",
    "\n",
    "neg = df[df['pn_flag'] == 0][colname]\n",
    "neg = neg[~neg.isnull()]\n",
    "pos = df[df['pn_flag'] == 1][colname]\n",
    "pos = pos[~pos.isnull()]\n",
    "\n",
    "# Full range\n",
    "plt.style.use('seaborn-deep')\n",
    "_ = plt.hist([neg, pos], bins = bins, normed = True, label = ['neg', 'pos'])\n",
    "plt.legend(loc='upper right')\n",
    "plt.show()\n",
    "\n",
    "# Zoom in on the lower side of the y-axis\n",
    "plt.style.use('seaborn-deep')\n",
    "_ = plt.hist([neg, pos], bins = bins, normed = True, label = ['neg', 'pos'])\n",
    "plt.legend(loc='upper right')\n",
    "plt.ylim((0,0.001))\n",
    "plt.show()"
   ]
  },
  {
   "cell_type": "code",
   "execution_count": null,
   "metadata": {},
   "outputs": [],
   "source": []
  }
 ],
 "metadata": {
  "kernelspec": {
   "display_name": "Python 3",
   "language": "python",
   "name": "python3"
  },
  "language_info": {
   "codemirror_mode": {
    "name": "ipython",
    "version": 3
   },
   "file_extension": ".py",
   "mimetype": "text/x-python",
   "name": "python",
   "nbconvert_exporter": "python",
   "pygments_lexer": "ipython3",
   "version": "3.6.3"
  }
 },
 "nbformat": 4,
 "nbformat_minor": 2
}

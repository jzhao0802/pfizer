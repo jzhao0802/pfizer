{
 "cells": [
  {
   "cell_type": "code",
   "execution_count": 2,
   "metadata": {},
   "outputs": [],
   "source": [
    "import pandas as pd\n",
    "import re\n",
    "import numpy as np"
   ]
  },
  {
   "cell_type": "code",
   "execution_count": 47,
   "metadata": {},
   "outputs": [
    {
     "data": {
      "text/html": [
       "<div>\n",
       "<style scoped>\n",
       "    .dataframe tbody tr th:only-of-type {\n",
       "        vertical-align: middle;\n",
       "    }\n",
       "\n",
       "    .dataframe tbody tr th {\n",
       "        vertical-align: top;\n",
       "    }\n",
       "\n",
       "    .dataframe thead th {\n",
       "        text-align: right;\n",
       "    }\n",
       "</style>\n",
       "<table border=\"1\" class=\"dataframe\">\n",
       "  <thead>\n",
       "    <tr style=\"text-align: right;\">\n",
       "      <th></th>\n",
       "      <th>Column</th>\n",
       "      <th>Type</th>\n",
       "      <th>NumUniqueValues</th>\n",
       "    </tr>\n",
       "  </thead>\n",
       "  <tbody>\n",
       "    <tr>\n",
       "      <th>3523</th>\n",
       "      <td>s62_max_min_dd</td>\n",
       "      <td>numerical</td>\n",
       "      <td>580</td>\n",
       "    </tr>\n",
       "    <tr>\n",
       "      <th>3524</th>\n",
       "      <td>s63_claim_cnt</td>\n",
       "      <td>numerical</td>\n",
       "      <td>46</td>\n",
       "    </tr>\n",
       "    <tr>\n",
       "      <th>3525</th>\n",
       "      <td>s63_index_max_dd</td>\n",
       "      <td>numerical</td>\n",
       "      <td>682</td>\n",
       "    </tr>\n",
       "    <tr>\n",
       "      <th>3526</th>\n",
       "      <td>s63_index_min_dd</td>\n",
       "      <td>numerical</td>\n",
       "      <td>704</td>\n",
       "    </tr>\n",
       "    <tr>\n",
       "      <th>3527</th>\n",
       "      <td>s63_max_min_dd</td>\n",
       "      <td>numerical</td>\n",
       "      <td>523</td>\n",
       "    </tr>\n",
       "  </tbody>\n",
       "</table>\n",
       "</div>"
      ],
      "text/plain": [
       "                Column       Type  NumUniqueValues\n",
       "3523    s62_max_min_dd  numerical              580\n",
       "3524     s63_claim_cnt  numerical               46\n",
       "3525  s63_index_max_dd  numerical              682\n",
       "3526  s63_index_min_dd  numerical              704\n",
       "3527    s63_max_min_dd  numerical              523"
      ]
     },
     "execution_count": 47,
     "metadata": {},
     "output_type": "execute_result"
    }
   ],
   "source": [
    "# Take the subset of var_config features that need to be mapped to a description\n",
    "var_config = pd.read_csv('04_with_datediff_and_dummies_no_flags_var_config.csv')\n",
    "var_config = var_config.iloc[4:3528, :]\n",
    "var_config.tail()"
   ]
  },
  {
   "cell_type": "code",
   "execution_count": 48,
   "metadata": {},
   "outputs": [],
   "source": [
    "# Take only the code part of the predictors\n",
    "var_config_code = var_config['Column'].apply(lambda x: x.split('_')[0])"
   ]
  },
  {
   "cell_type": "code",
   "execution_count": 28,
   "metadata": {},
   "outputs": [],
   "source": [
    "# The series that will step by step be filled for the different groups of features\n",
    "df_descriptions = pd.DataFrame(np.nan, index=range(4,3528), columns = ['Code', 'Description', 'Class'])"
   ]
  },
  {
   "cell_type": "code",
   "execution_count": 50,
   "metadata": {},
   "outputs": [
    {
     "data": {
      "text/html": [
       "<div>\n",
       "<style scoped>\n",
       "    .dataframe tbody tr th:only-of-type {\n",
       "        vertical-align: middle;\n",
       "    }\n",
       "\n",
       "    .dataframe tbody tr th {\n",
       "        vertical-align: top;\n",
       "    }\n",
       "\n",
       "    .dataframe thead th {\n",
       "        text-align: right;\n",
       "    }\n",
       "</style>\n",
       "<table border=\"1\" class=\"dataframe\">\n",
       "  <thead>\n",
       "    <tr style=\"text-align: right;\">\n",
       "      <th></th>\n",
       "      <th>Code</th>\n",
       "      <th>Description</th>\n",
       "      <th>Class</th>\n",
       "    </tr>\n",
       "  </thead>\n",
       "  <tbody>\n",
       "    <tr>\n",
       "      <th>3523</th>\n",
       "      <td>NaN</td>\n",
       "      <td>NaN</td>\n",
       "      <td>NaN</td>\n",
       "    </tr>\n",
       "    <tr>\n",
       "      <th>3524</th>\n",
       "      <td>NaN</td>\n",
       "      <td>NaN</td>\n",
       "      <td>NaN</td>\n",
       "    </tr>\n",
       "    <tr>\n",
       "      <th>3525</th>\n",
       "      <td>NaN</td>\n",
       "      <td>NaN</td>\n",
       "      <td>NaN</td>\n",
       "    </tr>\n",
       "    <tr>\n",
       "      <th>3526</th>\n",
       "      <td>NaN</td>\n",
       "      <td>NaN</td>\n",
       "      <td>NaN</td>\n",
       "    </tr>\n",
       "    <tr>\n",
       "      <th>3527</th>\n",
       "      <td>NaN</td>\n",
       "      <td>NaN</td>\n",
       "      <td>NaN</td>\n",
       "    </tr>\n",
       "  </tbody>\n",
       "</table>\n",
       "</div>"
      ],
      "text/plain": [
       "     Code Description Class\n",
       "3523  NaN         NaN   NaN\n",
       "3524  NaN         NaN   NaN\n",
       "3525  NaN         NaN   NaN\n",
       "3526  NaN         NaN   NaN\n",
       "3527  NaN         NaN   NaN"
      ]
     },
     "execution_count": 50,
     "metadata": {},
     "output_type": "execute_result"
    }
   ],
   "source": [
    "df_descriptions.tail()"
   ]
  },
  {
   "cell_type": "markdown",
   "metadata": {},
   "source": [
    "# GPI-6 "
   ]
  },
  {
   "cell_type": "code",
   "execution_count": 7,
   "metadata": {},
   "outputs": [
    {
     "name": "stderr",
     "output_type": "stream",
     "text": [
      "C:\\ProgramData\\Anaconda3\\lib\\site-packages\\IPython\\core\\interactiveshell.py:2728: DtypeWarning: Columns (54) have mixed types. Specify dtype option on import or set low_memory=False.\n",
      "  interactivity=interactivity, compiler=compiler, result=result)\n"
     ]
    }
   ],
   "source": [
    "df_prod = pd.read_csv(r'F:\\Projects\\Pfizer_mCRPC\\Data\\Raw_data\\NDW Clinical Codes\\V_PRODUCT.csv', dtype = {'GPI6_CD': str})"
   ]
  },
  {
   "cell_type": "code",
   "execution_count": 8,
   "metadata": {},
   "outputs": [
    {
     "data": {
      "text/html": [
       "<div>\n",
       "<style scoped>\n",
       "    .dataframe tbody tr th:only-of-type {\n",
       "        vertical-align: middle;\n",
       "    }\n",
       "\n",
       "    .dataframe tbody tr th {\n",
       "        vertical-align: top;\n",
       "    }\n",
       "\n",
       "    .dataframe thead th {\n",
       "        text-align: right;\n",
       "    }\n",
       "</style>\n",
       "<table border=\"1\" class=\"dataframe\">\n",
       "  <thead>\n",
       "    <tr style=\"text-align: right;\">\n",
       "      <th></th>\n",
       "      <th>PRODUCT_ID</th>\n",
       "      <th>NDC</th>\n",
       "      <th>CMF_PPK_NBR</th>\n",
       "      <th>CMF_PROD_NBR</th>\n",
       "      <th>CMF_PACK_NBR</th>\n",
       "      <th>MKTED_PROD_FORMLTN_NM</th>\n",
       "      <th>MKTED_PROD_FORMLTN_SHORT_NM</th>\n",
       "      <th>MKTED_PROD_DETL_NM</th>\n",
       "      <th>MKTED_PROD_TYP_CD</th>\n",
       "      <th>MKTED_PROD_NM</th>\n",
       "      <th>...</th>\n",
       "      <th>GPI_THPTC_CLAS_ID</th>\n",
       "      <th>GPI_THPTC_CLAS_DESC</th>\n",
       "      <th>GENERIC_THPTC_CLAS_ID</th>\n",
       "      <th>GENERIC_THPTC_CLAS_DESC</th>\n",
       "      <th>AHFS_CD</th>\n",
       "      <th>AHFS_DESC</th>\n",
       "      <th>THPTC_CLAS_ID</th>\n",
       "      <th>THPTC_CLAS_DESC</th>\n",
       "      <th>CMF_MKTED_PROD_NM</th>\n",
       "      <th>CMF_USC_CD</th>\n",
       "    </tr>\n",
       "  </thead>\n",
       "  <tbody>\n",
       "    <tr>\n",
       "      <th>0</th>\n",
       "      <td>1093553</td>\n",
       "      <td>53191006301</td>\n",
       "      <td>NaN</td>\n",
       "      <td>NaN</td>\n",
       "      <td>NaN</td>\n",
       "      <td>E-MAX-1000 ORAL CAPSULE 1000 UNIT</td>\n",
       "      <td>E-MAX-1000 ORAL CAPSULE 1000 UNIT</td>\n",
       "      <td>E-MAX-1000 OTC</td>\n",
       "      <td>B</td>\n",
       "      <td>E-MAX-1000</td>\n",
       "      <td>...</td>\n",
       "      <td>14.0</td>\n",
       "      <td>NUTRITIONAL PRODUCTS</td>\n",
       "      <td>95.0</td>\n",
       "      <td>VITAMINS</td>\n",
       "      <td>88200000.0</td>\n",
       "      <td>VITAMIN E</td>\n",
       "      <td>80.0</td>\n",
       "      <td>FAT SOLUBLE VITAMINS</td>\n",
       "      <td>NaN</td>\n",
       "      <td>NaN</td>\n",
       "    </tr>\n",
       "    <tr>\n",
       "      <th>1</th>\n",
       "      <td>1248854</td>\n",
       "      <td>55629051204</td>\n",
       "      <td>NaN</td>\n",
       "      <td>NaN</td>\n",
       "      <td>NaN</td>\n",
       "      <td>E-MINIC ORAL</td>\n",
       "      <td>E-MINIC ORAL</td>\n",
       "      <td>E-MINIC OTC</td>\n",
       "      <td>B</td>\n",
       "      <td>E-MINIC</td>\n",
       "      <td>...</td>\n",
       "      <td>6.0</td>\n",
       "      <td>ANTIHISTAMINES/NASAL AGENTS/COUGH &amp; COLD/RESPI...</td>\n",
       "      <td>18.0</td>\n",
       "      <td>ANTIHISTAMINE AND DECONGESTANT COMBINATION</td>\n",
       "      <td>40420000.0</td>\n",
       "      <td>PROPYLAMINE DERIVATIVES</td>\n",
       "      <td>99.0</td>\n",
       "      <td>MISCELLANEOUS</td>\n",
       "      <td>NaN</td>\n",
       "      <td>NaN</td>\n",
       "    </tr>\n",
       "    <tr>\n",
       "      <th>2</th>\n",
       "      <td>1248853</td>\n",
       "      <td>55629051104</td>\n",
       "      <td>NaN</td>\n",
       "      <td>NaN</td>\n",
       "      <td>NaN</td>\n",
       "      <td>E-MINIC ORAL</td>\n",
       "      <td>E-MINIC ORAL</td>\n",
       "      <td>E-MINIC OTC</td>\n",
       "      <td>B</td>\n",
       "      <td>E-MINIC</td>\n",
       "      <td>...</td>\n",
       "      <td>6.0</td>\n",
       "      <td>ANTIHISTAMINES/NASAL AGENTS/COUGH &amp; COLD/RESPI...</td>\n",
       "      <td>50.0</td>\n",
       "      <td>COUGH/COLD PREPARATIONS</td>\n",
       "      <td>48160000.0</td>\n",
       "      <td>EXPECTORANTS</td>\n",
       "      <td>16.0</td>\n",
       "      <td>COUGH PREPARATIONS/EXPECTORANTS</td>\n",
       "      <td>NaN</td>\n",
       "      <td>NaN</td>\n",
       "    </tr>\n",
       "    <tr>\n",
       "      <th>3</th>\n",
       "      <td>1023989</td>\n",
       "      <td>247124630</td>\n",
       "      <td>NaN</td>\n",
       "      <td>NaN</td>\n",
       "      <td>NaN</td>\n",
       "      <td>E-MYCIN ORAL TABLET ENTERICCOATED 333 MG</td>\n",
       "      <td>E-MYCIN ORAL TABLET ENTERICCOATED 333 MG</td>\n",
       "      <td>E-MYCIN RX</td>\n",
       "      <td>T</td>\n",
       "      <td>E-MYCIN</td>\n",
       "      <td>...</td>\n",
       "      <td>1.0</td>\n",
       "      <td>ANTI-INFECTIVE AGENTS</td>\n",
       "      <td>19.0</td>\n",
       "      <td>ANTIBIOTICS</td>\n",
       "      <td>8121200.0</td>\n",
       "      <td>MACROLIDES</td>\n",
       "      <td>25.0</td>\n",
       "      <td>ERYTHROMYCINS</td>\n",
       "      <td>NaN</td>\n",
       "      <td>NaN</td>\n",
       "    </tr>\n",
       "    <tr>\n",
       "      <th>4</th>\n",
       "      <td>1024033</td>\n",
       "      <td>247136130</td>\n",
       "      <td>NaN</td>\n",
       "      <td>NaN</td>\n",
       "      <td>NaN</td>\n",
       "      <td>E-MYCIN ORAL TABLET ENTERICCOATED 250 MG</td>\n",
       "      <td>E-MYCIN ORAL TABLET ENTERICCOATED 250 MG</td>\n",
       "      <td>E-MYCIN RX</td>\n",
       "      <td>T</td>\n",
       "      <td>E-MYCIN</td>\n",
       "      <td>...</td>\n",
       "      <td>1.0</td>\n",
       "      <td>ANTI-INFECTIVE AGENTS</td>\n",
       "      <td>19.0</td>\n",
       "      <td>ANTIBIOTICS</td>\n",
       "      <td>8121200.0</td>\n",
       "      <td>MACROLIDES</td>\n",
       "      <td>25.0</td>\n",
       "      <td>ERYTHROMYCINS</td>\n",
       "      <td>NaN</td>\n",
       "      <td>NaN</td>\n",
       "    </tr>\n",
       "  </tbody>\n",
       "</table>\n",
       "<p>5 rows × 74 columns</p>\n",
       "</div>"
      ],
      "text/plain": [
       "   PRODUCT_ID          NDC  CMF_PPK_NBR  CMF_PROD_NBR  CMF_PACK_NBR  \\\n",
       "0     1093553  53191006301          NaN           NaN           NaN   \n",
       "1     1248854  55629051204          NaN           NaN           NaN   \n",
       "2     1248853  55629051104          NaN           NaN           NaN   \n",
       "3     1023989    247124630          NaN           NaN           NaN   \n",
       "4     1024033    247136130          NaN           NaN           NaN   \n",
       "\n",
       "                      MKTED_PROD_FORMLTN_NM  \\\n",
       "0         E-MAX-1000 ORAL CAPSULE 1000 UNIT   \n",
       "1                             E-MINIC ORAL    \n",
       "2                             E-MINIC ORAL    \n",
       "3  E-MYCIN ORAL TABLET ENTERICCOATED 333 MG   \n",
       "4  E-MYCIN ORAL TABLET ENTERICCOATED 250 MG   \n",
       "\n",
       "                MKTED_PROD_FORMLTN_SHORT_NM MKTED_PROD_DETL_NM  \\\n",
       "0         E-MAX-1000 ORAL CAPSULE 1000 UNIT     E-MAX-1000 OTC   \n",
       "1                             E-MINIC ORAL         E-MINIC OTC   \n",
       "2                             E-MINIC ORAL         E-MINIC OTC   \n",
       "3  E-MYCIN ORAL TABLET ENTERICCOATED 333 MG         E-MYCIN RX   \n",
       "4  E-MYCIN ORAL TABLET ENTERICCOATED 250 MG         E-MYCIN RX   \n",
       "\n",
       "  MKTED_PROD_TYP_CD MKTED_PROD_NM     ...     GPI_THPTC_CLAS_ID  \\\n",
       "0                 B    E-MAX-1000     ...                  14.0   \n",
       "1                 B       E-MINIC     ...                   6.0   \n",
       "2                 B       E-MINIC     ...                   6.0   \n",
       "3                 T       E-MYCIN     ...                   1.0   \n",
       "4                 T       E-MYCIN     ...                   1.0   \n",
       "\n",
       "                                 GPI_THPTC_CLAS_DESC GENERIC_THPTC_CLAS_ID  \\\n",
       "0                               NUTRITIONAL PRODUCTS                  95.0   \n",
       "1  ANTIHISTAMINES/NASAL AGENTS/COUGH & COLD/RESPI...                  18.0   \n",
       "2  ANTIHISTAMINES/NASAL AGENTS/COUGH & COLD/RESPI...                  50.0   \n",
       "3                              ANTI-INFECTIVE AGENTS                  19.0   \n",
       "4                              ANTI-INFECTIVE AGENTS                  19.0   \n",
       "\n",
       "                      GENERIC_THPTC_CLAS_DESC     AHFS_CD  \\\n",
       "0                                    VITAMINS  88200000.0   \n",
       "1  ANTIHISTAMINE AND DECONGESTANT COMBINATION  40420000.0   \n",
       "2                     COUGH/COLD PREPARATIONS  48160000.0   \n",
       "3                                 ANTIBIOTICS   8121200.0   \n",
       "4                                 ANTIBIOTICS   8121200.0   \n",
       "\n",
       "                 AHFS_DESC THPTC_CLAS_ID                  THPTC_CLAS_DESC  \\\n",
       "0                VITAMIN E          80.0             FAT SOLUBLE VITAMINS   \n",
       "1  PROPYLAMINE DERIVATIVES          99.0                    MISCELLANEOUS   \n",
       "2             EXPECTORANTS          16.0  COUGH PREPARATIONS/EXPECTORANTS   \n",
       "3               MACROLIDES          25.0                    ERYTHROMYCINS   \n",
       "4               MACROLIDES          25.0                    ERYTHROMYCINS   \n",
       "\n",
       "  CMF_MKTED_PROD_NM  CMF_USC_CD  \n",
       "0               NaN         NaN  \n",
       "1               NaN         NaN  \n",
       "2               NaN         NaN  \n",
       "3               NaN         NaN  \n",
       "4               NaN         NaN  \n",
       "\n",
       "[5 rows x 74 columns]"
      ]
     },
     "execution_count": 8,
     "metadata": {},
     "output_type": "execute_result"
    }
   ],
   "source": [
    "df_prod.head()"
   ]
  },
  {
   "cell_type": "code",
   "execution_count": 51,
   "metadata": {},
   "outputs": [],
   "source": [
    "gpi6_colnames = ['GPI6_CD', 'GPI6_DESC']"
   ]
  },
  {
   "cell_type": "code",
   "execution_count": 52,
   "metadata": {},
   "outputs": [],
   "source": [
    "df_prod = df_prod[gpi6_colnames].drop_duplicates()"
   ]
  },
  {
   "cell_type": "code",
   "execution_count": 53,
   "metadata": {},
   "outputs": [
    {
     "data": {
      "text/html": [
       "<div>\n",
       "<style scoped>\n",
       "    .dataframe tbody tr th:only-of-type {\n",
       "        vertical-align: middle;\n",
       "    }\n",
       "\n",
       "    .dataframe tbody tr th {\n",
       "        vertical-align: top;\n",
       "    }\n",
       "\n",
       "    .dataframe thead th {\n",
       "        text-align: right;\n",
       "    }\n",
       "</style>\n",
       "<table border=\"1\" class=\"dataframe\">\n",
       "  <thead>\n",
       "    <tr style=\"text-align: right;\">\n",
       "      <th></th>\n",
       "      <th>GPI6_CD</th>\n",
       "      <th>GPI6_DESC</th>\n",
       "    </tr>\n",
       "  </thead>\n",
       "  <tbody>\n",
       "    <tr>\n",
       "      <th>0</th>\n",
       "      <td>772030</td>\n",
       "      <td>VITAMIN E***</td>\n",
       "    </tr>\n",
       "    <tr>\n",
       "      <th>1</th>\n",
       "      <td>439930</td>\n",
       "      <td>DECONGESTANT &amp; ANTIHISTAMINE***</td>\n",
       "    </tr>\n",
       "    <tr>\n",
       "      <th>2</th>\n",
       "      <td>439962</td>\n",
       "      <td>DECONGESTANT W/ EXPECTORANT***</td>\n",
       "    </tr>\n",
       "    <tr>\n",
       "      <th>3</th>\n",
       "      <td>031000</td>\n",
       "      <td>ERYTHROMYCINS***</td>\n",
       "    </tr>\n",
       "    <tr>\n",
       "      <th>20</th>\n",
       "      <td>012000</td>\n",
       "      <td>AMINOPENICILLINS***</td>\n",
       "    </tr>\n",
       "  </tbody>\n",
       "</table>\n",
       "</div>"
      ],
      "text/plain": [
       "   GPI6_CD                        GPI6_DESC\n",
       "0   772030                     VITAMIN E***\n",
       "1   439930  DECONGESTANT & ANTIHISTAMINE***\n",
       "2   439962   DECONGESTANT W/ EXPECTORANT***\n",
       "3   031000                 ERYTHROMYCINS***\n",
       "20  012000              AMINOPENICILLINS***"
      ]
     },
     "execution_count": 53,
     "metadata": {},
     "output_type": "execute_result"
    }
   ],
   "source": [
    "df_prod.head()"
   ]
  },
  {
   "cell_type": "code",
   "execution_count": 54,
   "metadata": {},
   "outputs": [],
   "source": [
    "prog = re.compile('^g[0-9]+')\n",
    "gpi6 = var_config['Column'].apply(prog.search)\n",
    "ss_matches = gpi6[gpi6.apply(bool)].apply(lambda x: x.group(0)[1:])"
   ]
  },
  {
   "cell_type": "code",
   "execution_count": 55,
   "metadata": {},
   "outputs": [],
   "source": [
    "df_matches = pd.DataFrame({'GPI6_CD':ss_matches})"
   ]
  },
  {
   "cell_type": "code",
   "execution_count": 56,
   "metadata": {},
   "outputs": [],
   "source": [
    "df_gpi6 = df_matches.reset_index().merge(df_prod[gpi6_colnames], on = 'GPI6_CD', how = 'left').set_index('index')"
   ]
  },
  {
   "cell_type": "code",
   "execution_count": 57,
   "metadata": {},
   "outputs": [],
   "source": [
    "df_gpi6 = df_gpi6.rename(columns = {'GPI6_CD': 'Code', 'GPI6_DESC': 'Description'})"
   ]
  },
  {
   "cell_type": "code",
   "execution_count": 58,
   "metadata": {},
   "outputs": [],
   "source": [
    "df_descriptions.loc[df_gpi6.index,:] = df_gpi6\n",
    "df_descriptions.loc[df_gpi6.index, 'Class'] = 'GPI-6'"
   ]
  },
  {
   "cell_type": "code",
   "execution_count": 59,
   "metadata": {},
   "outputs": [
    {
     "data": {
      "text/plain": [
       "Code           2948\n",
       "Description    2948\n",
       "Class          2948\n",
       "dtype: int64"
      ]
     },
     "execution_count": 59,
     "metadata": {},
     "output_type": "execute_result"
    }
   ],
   "source": [
    "# Seems good, code and descriptions filled together\n",
    "df_descriptions.apply(pd.isnull).sum()"
   ]
  },
  {
   "cell_type": "markdown",
   "metadata": {},
   "source": [
    "#  CPT/HCPCS"
   ]
  },
  {
   "cell_type": "code",
   "execution_count": 60,
   "metadata": {},
   "outputs": [],
   "source": [
    "df_proc = pd.read_excel(r'F:\\Projects\\Pfizer_mCRPC\\Data\\Raw_data\\NDW Clinical Codes\\V_PROCEDURE.xlsx', \n",
    "                        dtype = {'DIAG_STD_CD': str})"
   ]
  },
  {
   "cell_type": "code",
   "execution_count": 61,
   "metadata": {},
   "outputs": [],
   "source": [
    "df_proc = df_proc[['PRC_STD_CD', 'PRC_DESC']].drop_duplicates()"
   ]
  },
  {
   "cell_type": "code",
   "execution_count": 62,
   "metadata": {},
   "outputs": [],
   "source": [
    "# HCPCS\n",
    "codes_hcpcs = pd.DataFrame({'PRC_STD_CD':\n",
    "                            var_config_code[var_config_code.apply(lambda x: x[0] == 'h')].apply(lambda x: x[1:].upper())})\n",
    "\n",
    "df_hcpcs = codes_hcpcs.reset_index().merge(df_proc, on = 'PRC_STD_CD', how = 'left').set_index('index')\n",
    "df_hcpcs = df_hcpcs.rename(columns = {'PRC_STD_CD': 'Code', 'PRC_DESC': 'Description'})\n",
    "\n",
    "df_descriptions.loc[df_hcpcs.index,:] = df_hcpcs\n",
    "df_descriptions.loc[df_hcpcs.index, 'Class'] = 'HCPCS'"
   ]
  },
  {
   "cell_type": "code",
   "execution_count": 63,
   "metadata": {},
   "outputs": [],
   "source": [
    "# CPT\n",
    "codes_cpt = pd.DataFrame({'PRC_STD_CD':\n",
    "                            var_config_code[var_config_code.apply(lambda x: x[0] == 'c')].apply(lambda x: x[1:].upper())})\n",
    "\n",
    "df_cpt = codes_cpt.reset_index().merge(df_proc, on = 'PRC_STD_CD', how = 'left').set_index('index')\n",
    "df_cpt = df_cpt.rename(columns = {'PRC_STD_CD': 'Code', 'PRC_DESC': 'Description'})\n",
    "\n",
    "df_descriptions.loc[df_cpt.index,:] = df_cpt\n",
    "df_descriptions.loc[df_cpt.index,'Class'] = 'CPT'"
   ]
  },
  {
   "cell_type": "code",
   "execution_count": 64,
   "metadata": {},
   "outputs": [
    {
     "data": {
      "text/plain": [
       "Code           1360\n",
       "Description    1360\n",
       "Class          1360\n",
       "dtype: int64"
      ]
     },
     "execution_count": 64,
     "metadata": {},
     "output_type": "execute_result"
    }
   ],
   "source": [
    "# Seems good, code and descriptions filled together\n",
    "df_descriptions.apply(pd.isnull).sum()"
   ]
  },
  {
   "cell_type": "markdown",
   "metadata": {},
   "source": [
    "#  ICD-9 level 4"
   ]
  },
  {
   "cell_type": "code",
   "execution_count": 65,
   "metadata": {},
   "outputs": [],
   "source": [
    "df_diag = pd.read_excel(r'F:\\Projects\\Pfizer_mCRPC\\Data\\Raw_data\\NDW Clinical Codes\\V_DIAG_XREF_ICD9.xlsx', \n",
    "                        dtype = {'DIAG_STD_CD': str, 'DIAG_CD': str})"
   ]
  },
  {
   "cell_type": "code",
   "execution_count": 66,
   "metadata": {},
   "outputs": [],
   "source": [
    "df_diag = df_diag[['DIAG_CD', 'DIAG_DESC']].drop_duplicates()"
   ]
  },
  {
   "cell_type": "code",
   "execution_count": 67,
   "metadata": {},
   "outputs": [],
   "source": [
    "# ICD\n",
    "codes_icd = pd.DataFrame({'DIAG_CD':\n",
    "                            var_config_code[var_config_code.apply(lambda x: x[0] == 'd')].apply(lambda x: x[1:].upper())})\n",
    "\n",
    "def take_first_4(str_code):\n",
    "    if len(str_code) < 5:\n",
    "        return(str_code)\n",
    "    else:\n",
    "        return(str_code[:4])\n",
    "    \n",
    "\n",
    "df_diag['DIAG_CD'] = df_diag['DIAG_CD'].apply(take_first_4)\n",
    "\n",
    "df_icd = codes_icd.reset_index().merge(df_diag, on = 'DIAG_CD', how = 'left').set_index('index')\n",
    "df_icd = df_icd.rename(columns = {'DIAG_CD': 'Code', 'DIAG_DESC': 'Description'})\n",
    "\n",
    "df_descriptions.loc[df_icd.index,:] = df_icd\n",
    "df_descriptions.loc[df_icd.index,'Class'] = 'ICD-9'"
   ]
  },
  {
   "cell_type": "code",
   "execution_count": 68,
   "metadata": {},
   "outputs": [
    {
     "data": {
      "text/plain": [
       "Code           252\n",
       "Description    252\n",
       "Class          252\n",
       "dtype: int64"
      ]
     },
     "execution_count": 68,
     "metadata": {},
     "output_type": "execute_result"
    }
   ],
   "source": [
    "# Seems good, code and descriptions filled together\n",
    "df_descriptions.apply(pd.isnull).sum()"
   ]
  },
  {
   "cell_type": "markdown",
   "metadata": {},
   "source": [
    "# Speciality"
   ]
  },
  {
   "cell_type": "code",
   "execution_count": 69,
   "metadata": {},
   "outputs": [],
   "source": [
    "df_spec_ref = pd.read_excel(r'F:\\Projects\\Pfizer_mCRPC\\Data\\Raw_data\\specialty_ref.xlsx')"
   ]
  },
  {
   "cell_type": "code",
   "execution_count": 70,
   "metadata": {},
   "outputs": [],
   "source": [
    "codes_spec = pd.DataFrame({'SPEC_PREDICTOR_ID':\n",
    "                            var_config_code[var_config_code.apply(lambda x: x[0] == 's')].apply(lambda x: int(x[1:].upper()))})\n",
    "\n",
    "df_spec = codes_spec.reset_index().merge(df_spec_ref, on = 'SPEC_PREDICTOR_ID', how = 'left').set_index('index')\n",
    "df_spec = df_spec.rename(columns = {'SPEC_PREDICTOR_ID': 'Code', 'SPEC_PREDICTOR_LIST': 'Description'})\n",
    "\n",
    "df_descriptions.loc[df_spec.index,:] = df_spec\n",
    "df_descriptions.loc[df_spec.index, 'Class'] = 'Specialty'"
   ]
  },
  {
   "cell_type": "code",
   "execution_count": 71,
   "metadata": {},
   "outputs": [
    {
     "data": {
      "text/plain": [
       "Code           0\n",
       "Description    0\n",
       "Class          0\n",
       "dtype: int64"
      ]
     },
     "execution_count": 71,
     "metadata": {},
     "output_type": "execute_result"
    }
   ],
   "source": [
    "# None without description!\n",
    "df_descriptions.apply(pd.isnull).sum()"
   ]
  },
  {
   "cell_type": "markdown",
   "metadata": {},
   "source": [
    "# Merge with var_config"
   ]
  },
  {
   "cell_type": "code",
   "execution_count": 72,
   "metadata": {},
   "outputs": [
    {
     "data": {
      "text/html": [
       "<div>\n",
       "<style scoped>\n",
       "    .dataframe tbody tr th:only-of-type {\n",
       "        vertical-align: middle;\n",
       "    }\n",
       "\n",
       "    .dataframe tbody tr th {\n",
       "        vertical-align: top;\n",
       "    }\n",
       "\n",
       "    .dataframe thead th {\n",
       "        text-align: right;\n",
       "    }\n",
       "</style>\n",
       "<table border=\"1\" class=\"dataframe\">\n",
       "  <thead>\n",
       "    <tr style=\"text-align: right;\">\n",
       "      <th></th>\n",
       "      <th>Column</th>\n",
       "      <th>Type</th>\n",
       "      <th>NumUniqueValues</th>\n",
       "      <th>Code</th>\n",
       "      <th>Description</th>\n",
       "      <th>Class</th>\n",
       "    </tr>\n",
       "  </thead>\n",
       "  <tbody>\n",
       "    <tr>\n",
       "      <th>0</th>\n",
       "      <td>patient_id</td>\n",
       "      <td>numerical</td>\n",
       "      <td>70883</td>\n",
       "      <td>NaN</td>\n",
       "      <td>NaN</td>\n",
       "      <td>NaN</td>\n",
       "    </tr>\n",
       "    <tr>\n",
       "      <th>1</th>\n",
       "      <td>pn_flag</td>\n",
       "      <td>numerical</td>\n",
       "      <td>2</td>\n",
       "      <td>NaN</td>\n",
       "      <td>NaN</td>\n",
       "      <td>NaN</td>\n",
       "    </tr>\n",
       "    <tr>\n",
       "      <th>2</th>\n",
       "      <td>age_index</td>\n",
       "      <td>numerical</td>\n",
       "      <td>67</td>\n",
       "      <td>NaN</td>\n",
       "      <td>NaN</td>\n",
       "      <td>NaN</td>\n",
       "    </tr>\n",
       "    <tr>\n",
       "      <th>3</th>\n",
       "      <td>age_pc</td>\n",
       "      <td>numerical</td>\n",
       "      <td>67</td>\n",
       "      <td>NaN</td>\n",
       "      <td>NaN</td>\n",
       "      <td>NaN</td>\n",
       "    </tr>\n",
       "    <tr>\n",
       "      <th>4</th>\n",
       "      <td>c00142_claim_cnt</td>\n",
       "      <td>numerical</td>\n",
       "      <td>8</td>\n",
       "      <td>00142</td>\n",
       "      <td>ANESTHESIA FOR PROCEDURES ON EYE; LENS SURGERY</td>\n",
       "      <td>CPT</td>\n",
       "    </tr>\n",
       "  </tbody>\n",
       "</table>\n",
       "</div>"
      ],
      "text/plain": [
       "             Column       Type  NumUniqueValues   Code  \\\n",
       "0        patient_id  numerical            70883    NaN   \n",
       "1           pn_flag  numerical                2    NaN   \n",
       "2         age_index  numerical               67    NaN   \n",
       "3            age_pc  numerical               67    NaN   \n",
       "4  c00142_claim_cnt  numerical                8  00142   \n",
       "\n",
       "                                      Description Class  \n",
       "0                                             NaN   NaN  \n",
       "1                                             NaN   NaN  \n",
       "2                                             NaN   NaN  \n",
       "3                                             NaN   NaN  \n",
       "4  ANESTHESIA FOR PROCEDURES ON EYE; LENS SURGERY   CPT  "
      ]
     },
     "execution_count": 72,
     "metadata": {},
     "output_type": "execute_result"
    }
   ],
   "source": [
    "var_config_full = pd.read_csv('04_with_datediff_and_dummies_no_flags_var_config.csv')\n",
    "var_config_full['Code'] = np.nan\n",
    "var_config_full['Description'] = np.nan\n",
    "var_config_full['Class'] = np.nan\n",
    "var_config_full[['Code', 'Description', 'Class']] = df_descriptions\n",
    "var_config_full.head()"
   ]
  },
  {
   "cell_type": "code",
   "execution_count": 73,
   "metadata": {},
   "outputs": [],
   "source": [
    "var_config_full.to_csv('04_with_datediff_and_dummies_no_flags_var_config.csv', index=False)"
   ]
  },
  {
   "cell_type": "markdown",
   "metadata": {},
   "source": [
    "# Merge with bivariate stats"
   ]
  },
  {
   "cell_type": "markdown",
   "metadata": {},
   "source": [
    "Was only necessary because bivariate stats was run before description columns were added to the var_config file"
   ]
  },
  {
   "cell_type": "code",
   "execution_count": 544,
   "metadata": {},
   "outputs": [
    {
     "data": {
      "text/html": [
       "<div>\n",
       "<style scoped>\n",
       "    .dataframe tbody tr th:only-of-type {\n",
       "        vertical-align: middle;\n",
       "    }\n",
       "\n",
       "    .dataframe tbody tr th {\n",
       "        vertical-align: top;\n",
       "    }\n",
       "\n",
       "    .dataframe thead th {\n",
       "        text-align: right;\n",
       "    }\n",
       "</style>\n",
       "<table border=\"1\" class=\"dataframe\">\n",
       "  <thead>\n",
       "    <tr style=\"text-align: right;\">\n",
       "      <th></th>\n",
       "      <th>Variable</th>\n",
       "      <th>Type</th>\n",
       "      <th>NumUniqueValues</th>\n",
       "      <th>Variable_Type</th>\n",
       "      <th>Num Unique Values</th>\n",
       "      <th>Non Missing</th>\n",
       "      <th>Missing_N</th>\n",
       "      <th>Missing_P</th>\n",
       "      <th>Above 0</th>\n",
       "      <th>Positive Above 0</th>\n",
       "      <th>...</th>\n",
       "      <th>Positive Max</th>\n",
       "      <th>Negative Min</th>\n",
       "      <th>Negative P10</th>\n",
       "      <th>Negative P25</th>\n",
       "      <th>Negative P50</th>\n",
       "      <th>Negative P75</th>\n",
       "      <th>Negative P90</th>\n",
       "      <th>Negative Max</th>\n",
       "      <th>Code</th>\n",
       "      <th>Description</th>\n",
       "    </tr>\n",
       "  </thead>\n",
       "  <tbody>\n",
       "    <tr>\n",
       "      <th>0</th>\n",
       "      <td>age_index</td>\n",
       "      <td>numerical</td>\n",
       "      <td>67</td>\n",
       "      <td>NaN</td>\n",
       "      <td>67</td>\n",
       "      <td>70883</td>\n",
       "      <td>0</td>\n",
       "      <td>0.00000</td>\n",
       "      <td>70883</td>\n",
       "      <td>3106</td>\n",
       "      <td>...</td>\n",
       "      <td>85</td>\n",
       "      <td>19.0</td>\n",
       "      <td>59.0</td>\n",
       "      <td>65.00</td>\n",
       "      <td>73.0</td>\n",
       "      <td>81.0</td>\n",
       "      <td>85.0</td>\n",
       "      <td>85</td>\n",
       "      <td>NaN</td>\n",
       "      <td>NaN</td>\n",
       "    </tr>\n",
       "    <tr>\n",
       "      <th>1</th>\n",
       "      <td>age_pc</td>\n",
       "      <td>numerical</td>\n",
       "      <td>67</td>\n",
       "      <td>NaN</td>\n",
       "      <td>67</td>\n",
       "      <td>70883</td>\n",
       "      <td>0</td>\n",
       "      <td>0.00000</td>\n",
       "      <td>70883</td>\n",
       "      <td>3106</td>\n",
       "      <td>...</td>\n",
       "      <td>85</td>\n",
       "      <td>19.0</td>\n",
       "      <td>57.0</td>\n",
       "      <td>63.00</td>\n",
       "      <td>70.0</td>\n",
       "      <td>78.0</td>\n",
       "      <td>85.0</td>\n",
       "      <td>85</td>\n",
       "      <td>NaN</td>\n",
       "      <td>NaN</td>\n",
       "    </tr>\n",
       "    <tr>\n",
       "      <th>2</th>\n",
       "      <td>c00142_claim_cnt</td>\n",
       "      <td>numerical</td>\n",
       "      <td>8</td>\n",
       "      <td>NaN</td>\n",
       "      <td>8</td>\n",
       "      <td>70883</td>\n",
       "      <td>0</td>\n",
       "      <td>0.00000</td>\n",
       "      <td>1575</td>\n",
       "      <td>69</td>\n",
       "      <td>...</td>\n",
       "      <td>4</td>\n",
       "      <td>0.0</td>\n",
       "      <td>0.0</td>\n",
       "      <td>0.00</td>\n",
       "      <td>0.0</td>\n",
       "      <td>0.0</td>\n",
       "      <td>0.0</td>\n",
       "      <td>8</td>\n",
       "      <td>NaN</td>\n",
       "      <td>NaN</td>\n",
       "    </tr>\n",
       "    <tr>\n",
       "      <th>3</th>\n",
       "      <td>c00142_flag</td>\n",
       "      <td>numerical</td>\n",
       "      <td>2</td>\n",
       "      <td>NaN</td>\n",
       "      <td>2</td>\n",
       "      <td>70883</td>\n",
       "      <td>0</td>\n",
       "      <td>0.00000</td>\n",
       "      <td>1575</td>\n",
       "      <td>69</td>\n",
       "      <td>...</td>\n",
       "      <td>1</td>\n",
       "      <td>0.0</td>\n",
       "      <td>0.0</td>\n",
       "      <td>0.00</td>\n",
       "      <td>0.0</td>\n",
       "      <td>0.0</td>\n",
       "      <td>0.0</td>\n",
       "      <td>1</td>\n",
       "      <td>NaN</td>\n",
       "      <td>NaN</td>\n",
       "    </tr>\n",
       "    <tr>\n",
       "      <th>4</th>\n",
       "      <td>c00142_index_max_dd</td>\n",
       "      <td>numerical</td>\n",
       "      <td>631</td>\n",
       "      <td>Date_Difference</td>\n",
       "      <td>631</td>\n",
       "      <td>1575</td>\n",
       "      <td>69308</td>\n",
       "      <td>0.97778</td>\n",
       "      <td>1572</td>\n",
       "      <td>69</td>\n",
       "      <td>...</td>\n",
       "      <td>723</td>\n",
       "      <td>0.0</td>\n",
       "      <td>76.0</td>\n",
       "      <td>166.25</td>\n",
       "      <td>349.0</td>\n",
       "      <td>552.0</td>\n",
       "      <td>664.0</td>\n",
       "      <td>730</td>\n",
       "      <td>00142</td>\n",
       "      <td>ANESTHESIA FOR PROCEDURES ON EYE; LENS SURGERY</td>\n",
       "    </tr>\n",
       "  </tbody>\n",
       "</table>\n",
       "<p>5 rows × 41 columns</p>\n",
       "</div>"
      ],
      "text/plain": [
       "              Variable       Type  NumUniqueValues    Variable_Type  \\\n",
       "0            age_index  numerical               67              NaN   \n",
       "1               age_pc  numerical               67              NaN   \n",
       "2     c00142_claim_cnt  numerical                8              NaN   \n",
       "3          c00142_flag  numerical                2              NaN   \n",
       "4  c00142_index_max_dd  numerical              631  Date_Difference   \n",
       "\n",
       "   Num Unique Values  Non Missing  Missing_N  Missing_P  Above 0  \\\n",
       "0                 67        70883          0    0.00000    70883   \n",
       "1                 67        70883          0    0.00000    70883   \n",
       "2                  8        70883          0    0.00000     1575   \n",
       "3                  2        70883          0    0.00000     1575   \n",
       "4                631         1575      69308    0.97778     1572   \n",
       "\n",
       "   Positive Above 0                       ...                        \\\n",
       "0              3106                       ...                         \n",
       "1              3106                       ...                         \n",
       "2                69                       ...                         \n",
       "3                69                       ...                         \n",
       "4                69                       ...                         \n",
       "\n",
       "   Positive Max  Negative Min  Negative P10  Negative P25  Negative P50  \\\n",
       "0            85          19.0          59.0         65.00          73.0   \n",
       "1            85          19.0          57.0         63.00          70.0   \n",
       "2             4           0.0           0.0          0.00           0.0   \n",
       "3             1           0.0           0.0          0.00           0.0   \n",
       "4           723           0.0          76.0        166.25         349.0   \n",
       "\n",
       "   Negative P75  Negative P90  Negative Max   Code  \\\n",
       "0          81.0          85.0            85    NaN   \n",
       "1          78.0          85.0            85    NaN   \n",
       "2           0.0           0.0             8    NaN   \n",
       "3           0.0           0.0             1    NaN   \n",
       "4         552.0         664.0           730  00142   \n",
       "\n",
       "                                      Description  \n",
       "0                                             NaN  \n",
       "1                                             NaN  \n",
       "2                                             NaN  \n",
       "3                                             NaN  \n",
       "4  ANESTHESIA FOR PROCEDURES ON EYE; LENS SURGERY  \n",
       "\n",
       "[5 rows x 41 columns]"
      ]
     },
     "execution_count": 544,
     "metadata": {},
     "output_type": "execute_result"
    }
   ],
   "source": [
    "bivar_stats = pd.read_csv('01_pfizer_total_with_ddbivar_stats_y_flag.csv')\n",
    "bivar_stats['Code'] = np.nan\n",
    "bivar_stats['Description'] = np.nan\n",
    "bivar_stats[['Code', 'Description']] = df_descriptions\n",
    "bivar_stats.head()"
   ]
  },
  {
   "cell_type": "code",
   "execution_count": 557,
   "metadata": {},
   "outputs": [],
   "source": [
    "ls_columns = bivar_stats.columns.tolist()\n",
    "ls_columns_reordered = ls_columns[:4] + ls_columns[-2:] + ls_columns[4:-2]"
   ]
  },
  {
   "cell_type": "code",
   "execution_count": 561,
   "metadata": {},
   "outputs": [],
   "source": [
    "bivar_stats = bivar_stats[ls_columns_reordered]"
   ]
  },
  {
   "cell_type": "code",
   "execution_count": 562,
   "metadata": {},
   "outputs": [],
   "source": [
    "bivar_stats.to_csv('01_pfizer_total_with_ddbivar_stats_y_flag_with_descriptions.csv', index=False)"
   ]
  }
 ],
 "metadata": {
  "kernelspec": {
   "display_name": "Python 3",
   "language": "python",
   "name": "python3"
  },
  "language_info": {
   "codemirror_mode": {
    "name": "ipython",
    "version": 3
   },
   "file_extension": ".py",
   "mimetype": "text/x-python",
   "name": "python",
   "nbconvert_exporter": "python",
   "pygments_lexer": "ipython3",
   "version": "3.6.3"
  }
 },
 "nbformat": 4,
 "nbformat_minor": 2
}

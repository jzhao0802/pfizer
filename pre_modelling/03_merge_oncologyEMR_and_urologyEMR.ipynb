{
 "cells": [
  {
   "cell_type": "code",
   "execution_count": 2,
   "metadata": {},
   "outputs": [],
   "source": [
    "import pandas as pd\n",
    "import re\n",
    "import numpy as np\n",
    "\n",
    "from IPython.core.interactiveshell import InteractiveShell\n",
    "InteractiveShell.ast_node_interactivity = \"all\""
   ]
  },
  {
   "cell_type": "code",
   "execution_count": 3,
   "metadata": {},
   "outputs": [
    {
     "name": "stderr",
     "output_type": "stream",
     "text": [
      "C:\\ProgramData\\Anaconda3\\lib\\site-packages\\IPython\\core\\interactiveshell.py:2728: DtypeWarning: Columns (15,16,17,18,70,146,148,150,152,154,156,158,160,162,164,166,174) have mixed types. Specify dtype option on import or set low_memory=False.\n",
      "  interactivity=interactivity, compiler=compiler, result=result)\n"
     ]
    }
   ],
   "source": [
    "df_onc = pd.read_csv(r'F:\\Projects\\Pfizer_mCRPC\\Data\\pre_modelling\\EMR_Oncology\\Pfizer_mCRPC_ONCEMR_update.csv')\n",
    "df_uro = pd.read_csv(r'F:\\Projects\\Pfizer_mCRPC\\Data\\pre_modelling\\EMR_Urology\\Pfizer_mCRPC_UROEMR.csv')"
   ]
  },
  {
   "cell_type": "code",
   "execution_count": 4,
   "metadata": {},
   "outputs": [
    {
     "data": {
      "text/plain": [
       "(3644, 97)"
      ]
     },
     "execution_count": 4,
     "metadata": {},
     "output_type": "execute_result"
    },
    {
     "data": {
      "text/plain": [
       "(5252, 186)"
      ]
     },
     "execution_count": 4,
     "metadata": {},
     "output_type": "execute_result"
    }
   ],
   "source": [
    "df_uro.shape\n",
    "df_onc.shape"
   ]
  },
  {
   "cell_type": "markdown",
   "metadata": {},
   "source": [
    "# Clean up data"
   ]
  },
  {
   "cell_type": "markdown",
   "metadata": {},
   "source": [
    "### Clean up column names"
   ]
  },
  {
   "cell_type": "code",
   "execution_count": 5,
   "metadata": {},
   "outputs": [],
   "source": [
    "def clean_string(s):\n",
    "    \"\"\"\n",
    "    Function that cleans up string, typically used for column names. Changes\n",
    "    the incoming string s so that:\n",
    "        - only lowercase\n",
    "        - white spaces replaced by underscores\n",
    "        - brackets replaced by underscores\n",
    "        - multiple underscores in a row replaced by one\n",
    "          underscore (e.g. ' (' -> '__' -> '_'\n",
    "    :param s: string\n",
    "    :return: new string\n",
    "    \"\"\"\n",
    "    if isinstance(s, float):\n",
    "        return s\n",
    "    # only lowercase\n",
    "    else:\n",
    "        s = s.lower()\n",
    "        # whites spaces, brackets, &, ;, , replaced by underscores\n",
    "        s = re.sub(r'( )|(\\()|(\\))|(;)|(,)|(&)|(:)', '_', s)\n",
    "        # multiple underscores in a row replaced by one underscore\n",
    "        s = re.sub(r'(_)\\1+', r'\\1', s)\n",
    "        # trailing underscores are removed\n",
    "        s = re.sub(r'[_]+$', '', s)\n",
    "        return s"
   ]
  },
  {
   "cell_type": "code",
   "execution_count": 6,
   "metadata": {},
   "outputs": [],
   "source": [
    "df_onc.columns = [clean_string(column) for column in df_onc.columns]\n",
    "df_uro.columns = [clean_string(column) for column in df_uro.columns]"
   ]
  },
  {
   "cell_type": "code",
   "execution_count": 7,
   "metadata": {},
   "outputs": [
    {
     "data": {
      "text/html": [
       "<div>\n",
       "<style scoped>\n",
       "    .dataframe tbody tr th:only-of-type {\n",
       "        vertical-align: middle;\n",
       "    }\n",
       "\n",
       "    .dataframe tbody tr th {\n",
       "        vertical-align: top;\n",
       "    }\n",
       "\n",
       "    .dataframe thead th {\n",
       "        text-align: right;\n",
       "    }\n",
       "</style>\n",
       "<table border=\"1\" class=\"dataframe\">\n",
       "  <thead>\n",
       "    <tr style=\"text-align: right;\">\n",
       "      <th></th>\n",
       "      <th>patient_id</th>\n",
       "      <th>lookback_date</th>\n",
       "      <th>index_date</th>\n",
       "      <th>onc_latest_stage</th>\n",
       "      <th>onc_latest_stage_date</th>\n",
       "      <th>met_date1</th>\n",
       "      <th>metac_site_nm1</th>\n",
       "      <th>met_date2</th>\n",
       "      <th>metac_site_nm2</th>\n",
       "      <th>met_date3</th>\n",
       "      <th>...</th>\n",
       "      <th>onc_tnm_date</th>\n",
       "      <th>onc_latest_t</th>\n",
       "      <th>onc_latest_t_date</th>\n",
       "      <th>onc_latest_n</th>\n",
       "      <th>onc_latest_n_date</th>\n",
       "      <th>onc_latest_m</th>\n",
       "      <th>onc_latest_m_date</th>\n",
       "      <th>onc_latest_gleason</th>\n",
       "      <th>onc_latest_gleason_date</th>\n",
       "      <th>pn_flag</th>\n",
       "    </tr>\n",
       "  </thead>\n",
       "  <tbody>\n",
       "    <tr>\n",
       "      <th>0</th>\n",
       "      <td>1563563420</td>\n",
       "      <td>2012-05-14</td>\n",
       "      <td>2014-05-14</td>\n",
       "      <td>Stage IV</td>\n",
       "      <td>2006-11-01</td>\n",
       "      <td>2014-05-14</td>\n",
       "      <td>BONE &amp; CONNECTIVE TISSUE CANCER</td>\n",
       "      <td>NaN</td>\n",
       "      <td>NaN</td>\n",
       "      <td>NaN</td>\n",
       "      <td>...</td>\n",
       "      <td>NaN</td>\n",
       "      <td>NaN</td>\n",
       "      <td>NaN</td>\n",
       "      <td>NaN</td>\n",
       "      <td>NaN</td>\n",
       "      <td>NaN</td>\n",
       "      <td>NaN</td>\n",
       "      <td>NaN</td>\n",
       "      <td>NaN</td>\n",
       "      <td>0</td>\n",
       "    </tr>\n",
       "    <tr>\n",
       "      <th>1</th>\n",
       "      <td>1364456765</td>\n",
       "      <td>2015-04-02</td>\n",
       "      <td>2017-04-01</td>\n",
       "      <td>NaN</td>\n",
       "      <td>NaN</td>\n",
       "      <td>2017-04-01</td>\n",
       "      <td>LUNG CANCER</td>\n",
       "      <td>NaN</td>\n",
       "      <td>NaN</td>\n",
       "      <td>NaN</td>\n",
       "      <td>...</td>\n",
       "      <td>NaN</td>\n",
       "      <td>NaN</td>\n",
       "      <td>NaN</td>\n",
       "      <td>NaN</td>\n",
       "      <td>NaN</td>\n",
       "      <td>NaN</td>\n",
       "      <td>NaN</td>\n",
       "      <td>NaN</td>\n",
       "      <td>NaN</td>\n",
       "      <td>0</td>\n",
       "    </tr>\n",
       "    <tr>\n",
       "      <th>2</th>\n",
       "      <td>523105747</td>\n",
       "      <td>2014-09-17</td>\n",
       "      <td>2016-09-16</td>\n",
       "      <td>Stage IV</td>\n",
       "      <td>2012-10-29</td>\n",
       "      <td>2016-09-16</td>\n",
       "      <td>LUNG CANCER</td>\n",
       "      <td>NaN</td>\n",
       "      <td>NaN</td>\n",
       "      <td>NaN</td>\n",
       "      <td>...</td>\n",
       "      <td>NaN</td>\n",
       "      <td>NaN</td>\n",
       "      <td>NaN</td>\n",
       "      <td>NaN</td>\n",
       "      <td>NaN</td>\n",
       "      <td>NaN</td>\n",
       "      <td>NaN</td>\n",
       "      <td>NaN</td>\n",
       "      <td>NaN</td>\n",
       "      <td>0</td>\n",
       "    </tr>\n",
       "    <tr>\n",
       "      <th>3</th>\n",
       "      <td>1151578636</td>\n",
       "      <td>2014-10-04</td>\n",
       "      <td>2016-10-03</td>\n",
       "      <td>Stage IV</td>\n",
       "      <td>2016-10-06</td>\n",
       "      <td>2016-10-03</td>\n",
       "      <td>BONE &amp; CONNECTIVE TISSUE CANCER</td>\n",
       "      <td>NaN</td>\n",
       "      <td>NaN</td>\n",
       "      <td>NaN</td>\n",
       "      <td>...</td>\n",
       "      <td>NaN</td>\n",
       "      <td>NaN</td>\n",
       "      <td>NaN</td>\n",
       "      <td>NaN</td>\n",
       "      <td>NaN</td>\n",
       "      <td>NaN</td>\n",
       "      <td>NaN</td>\n",
       "      <td>NaN</td>\n",
       "      <td>NaN</td>\n",
       "      <td>0</td>\n",
       "    </tr>\n",
       "    <tr>\n",
       "      <th>4</th>\n",
       "      <td>1427814564</td>\n",
       "      <td>2012-03-27</td>\n",
       "      <td>2014-03-27</td>\n",
       "      <td>NaN</td>\n",
       "      <td>NaN</td>\n",
       "      <td>2014-03-27</td>\n",
       "      <td>BONE &amp; CONNECTIVE TISSUE CANCER</td>\n",
       "      <td>NaN</td>\n",
       "      <td>NaN</td>\n",
       "      <td>NaN</td>\n",
       "      <td>...</td>\n",
       "      <td>NaN</td>\n",
       "      <td>NaN</td>\n",
       "      <td>NaN</td>\n",
       "      <td>NaN</td>\n",
       "      <td>NaN</td>\n",
       "      <td>NaN</td>\n",
       "      <td>NaN</td>\n",
       "      <td>NaN</td>\n",
       "      <td>NaN</td>\n",
       "      <td>0</td>\n",
       "    </tr>\n",
       "  </tbody>\n",
       "</table>\n",
       "<p>5 rows × 186 columns</p>\n",
       "</div>"
      ],
      "text/plain": [
       "   patient_id lookback_date  index_date onc_latest_stage  \\\n",
       "0  1563563420    2012-05-14  2014-05-14         Stage IV   \n",
       "1  1364456765    2015-04-02  2017-04-01              NaN   \n",
       "2   523105747    2014-09-17  2016-09-16         Stage IV   \n",
       "3  1151578636    2014-10-04  2016-10-03         Stage IV   \n",
       "4  1427814564    2012-03-27  2014-03-27              NaN   \n",
       "\n",
       "  onc_latest_stage_date   met_date1                   metac_site_nm1  \\\n",
       "0            2006-11-01  2014-05-14  BONE & CONNECTIVE TISSUE CANCER   \n",
       "1                   NaN  2017-04-01                      LUNG CANCER   \n",
       "2            2012-10-29  2016-09-16                      LUNG CANCER   \n",
       "3            2016-10-06  2016-10-03  BONE & CONNECTIVE TISSUE CANCER   \n",
       "4                   NaN  2014-03-27  BONE & CONNECTIVE TISSUE CANCER   \n",
       "\n",
       "  met_date2 metac_site_nm2 met_date3   ...    onc_tnm_date onc_latest_t  \\\n",
       "0       NaN            NaN       NaN   ...             NaN          NaN   \n",
       "1       NaN            NaN       NaN   ...             NaN          NaN   \n",
       "2       NaN            NaN       NaN   ...             NaN          NaN   \n",
       "3       NaN            NaN       NaN   ...             NaN          NaN   \n",
       "4       NaN            NaN       NaN   ...             NaN          NaN   \n",
       "\n",
       "  onc_latest_t_date onc_latest_n onc_latest_n_date onc_latest_m  \\\n",
       "0               NaN          NaN               NaN          NaN   \n",
       "1               NaN          NaN               NaN          NaN   \n",
       "2               NaN          NaN               NaN          NaN   \n",
       "3               NaN          NaN               NaN          NaN   \n",
       "4               NaN          NaN               NaN          NaN   \n",
       "\n",
       "  onc_latest_m_date onc_latest_gleason onc_latest_gleason_date  pn_flag  \n",
       "0               NaN                NaN                     NaN        0  \n",
       "1               NaN                NaN                     NaN        0  \n",
       "2               NaN                NaN                     NaN        0  \n",
       "3               NaN                NaN                     NaN        0  \n",
       "4               NaN                NaN                     NaN        0  \n",
       "\n",
       "[5 rows x 186 columns]"
      ]
     },
     "execution_count": 7,
     "metadata": {},
     "output_type": "execute_result"
    }
   ],
   "source": [
    "df_onc.head()"
   ]
  },
  {
   "cell_type": "markdown",
   "metadata": {},
   "source": [
    "### Drop metastatic column dates "
   ]
  },
  {
   "cell_type": "code",
   "execution_count": 8,
   "metadata": {},
   "outputs": [],
   "source": [
    "ls_metac_colnames = ['met_date1', 'met_date2', 'metac_site_nm2', 'met_date3', 'metac_site_nm3', 'met_date4', 'metac_site_nm4', 'met_date5', \n",
    "                     'metac_site_nm5','met_date6', 'metac_site_nm6', 'met_date7', 'metac_site_nm7']"
   ]
  },
  {
   "cell_type": "code",
   "execution_count": 9,
   "metadata": {},
   "outputs": [],
   "source": [
    "df_onc = df_onc.drop(columns=ls_metac_colnames)\n",
    "df_uro = df_uro.drop(columns=ls_metac_colnames)"
   ]
  },
  {
   "cell_type": "markdown",
   "metadata": {},
   "source": [
    "### From meeting 18/01, some more columns to clean up"
   ]
  },
  {
   "cell_type": "code",
   "execution_count": 11,
   "metadata": {},
   "outputs": [],
   "source": [
    "# delete metastatic date columns\n",
    "ls_metac_uro = ['deidmetastaticdate', 'deidmetastaticflag']\n",
    "df_uro = df_uro.drop(columns=ls_metac_uro)"
   ]
  },
  {
   "cell_type": "code",
   "execution_count": 31,
   "metadata": {},
   "outputs": [],
   "source": [
    "# delete information after the index date for deidcrpc2 and deidcrpc3\n",
    "df_uro.loc[(df_uro.deidcrpc2date > df_uro.index_date), 'deidcrpc2flag'] = 0\n",
    "df_uro.loc[(df_uro.deidcrpc2date > df_uro.index_date), 'deidcrpc2date'] = np.nan\n",
    "\n",
    "df_uro.loc[(df_uro.deidcrpc3date > df_uro.index_date), 'deidcrpc3flag'] = 0\n",
    "df_uro.loc[(df_uro.deidcrpc3date > df_uro.index_date), 'deidcrpc3date'] = np.nan"
   ]
  },
  {
   "cell_type": "code",
   "execution_count": 39,
   "metadata": {},
   "outputs": [
    {
     "data": {
      "text/plain": [
       "onc_latest_stage\n",
       "Stage I        22\n",
       "Stage II      188\n",
       "Stage III     103\n",
       "Stage IV     1717\n",
       "dtype: int64"
      ]
     },
     "execution_count": 39,
     "metadata": {},
     "output_type": "execute_result"
    }
   ],
   "source": [
    "# Distribution of latest stages\n",
    "df_onc.groupby('onc_latest_stage').size()"
   ]
  },
  {
   "cell_type": "code",
   "execution_count": 51,
   "metadata": {},
   "outputs": [
    {
     "data": {
      "text/plain": [
       "Series([], Name: onc_latest_stage, dtype: object)"
      ]
     },
     "execution_count": 51,
     "metadata": {},
     "output_type": "execute_result"
    }
   ],
   "source": [
    "# Delete information after the index date\n",
    "df_onc.loc[df_onc['onc_latest_stage_date'] > df_onc['index_date'], 'onc_latest_stage'] = np.nan\n",
    "df_onc.loc[df_onc['onc_latest_stage_date'] > df_onc['index_date'], 'onc_latest_stage_date'] = np.nan\n",
    "df_onc.loc[df_onc['onc_latest_stage_date'] > df_onc['index_date'], 'onc_latest_stage']"
   ]
  },
  {
   "cell_type": "markdown",
   "metadata": {},
   "source": [
    "## Check overlap in columns"
   ]
  },
  {
   "cell_type": "code",
   "execution_count": 52,
   "metadata": {},
   "outputs": [],
   "source": [
    "uro_colnames = [re.sub('^uro_', '', colname) for colname in df_uro.columns]\n",
    "df_uro.columns = uro_colnames\n",
    "onc_colnames = [re.sub('^onc_', '', colname) for colname in df_onc.columns]\n",
    "df_onc.columns = onc_colnames"
   ]
  },
  {
   "cell_type": "code",
   "execution_count": 53,
   "metadata": {},
   "outputs": [
    {
     "data": {
      "text/plain": [
       "173"
      ]
     },
     "execution_count": 53,
     "metadata": {},
     "output_type": "execute_result"
    },
    {
     "data": {
      "text/plain": [
       "82"
      ]
     },
     "execution_count": 53,
     "metadata": {},
     "output_type": "execute_result"
    }
   ],
   "source": [
    "# quite good overlap\n",
    "len(onc_colnames)\n",
    "len(uro_colnames)\n",
    "ls_columns_overlap = list(set(uro_colnames) & set(onc_colnames))"
   ]
  },
  {
   "cell_type": "code",
   "execution_count": 54,
   "metadata": {},
   "outputs": [
    {
     "data": {
      "text/plain": [
       "72"
      ]
     },
     "execution_count": 54,
     "metadata": {},
     "output_type": "execute_result"
    }
   ],
   "source": [
    "len(ls_columns_overlap)"
   ]
  },
  {
   "cell_type": "markdown",
   "metadata": {},
   "source": [
    "## Check overlap in rows"
   ]
  },
  {
   "cell_type": "code",
   "execution_count": 55,
   "metadata": {},
   "outputs": [],
   "source": [
    "ss_patientids_overlap = df_uro[df_uro['patient_id'].isin(set(df_onc['patient_id']))]['patient_id']"
   ]
  },
  {
   "cell_type": "markdown",
   "metadata": {},
   "source": [
    "## Merge the patients that are in both"
   ]
  },
  {
   "cell_type": "code",
   "execution_count": 56,
   "metadata": {},
   "outputs": [],
   "source": [
    "df_merged_old = df_uro.merge(df_onc, how = 'inner', on = 'patient_id')"
   ]
  },
  {
   "cell_type": "code",
   "execution_count": 57,
   "metadata": {},
   "outputs": [
    {
     "data": {
      "text/html": [
       "<div>\n",
       "<style scoped>\n",
       "    .dataframe tbody tr th:only-of-type {\n",
       "        vertical-align: middle;\n",
       "    }\n",
       "\n",
       "    .dataframe tbody tr th {\n",
       "        vertical-align: top;\n",
       "    }\n",
       "\n",
       "    .dataframe thead th {\n",
       "        text-align: right;\n",
       "    }\n",
       "</style>\n",
       "<table border=\"1\" class=\"dataframe\">\n",
       "  <thead>\n",
       "    <tr style=\"text-align: right;\">\n",
       "      <th></th>\n",
       "      <th>patient_id</th>\n",
       "      <th>pn_flag_x</th>\n",
       "      <th>lookback_date_x</th>\n",
       "      <th>index_date_x</th>\n",
       "      <th>deidcrpc2flag</th>\n",
       "      <th>deidcrpc2date</th>\n",
       "      <th>deidcrpc3flag</th>\n",
       "      <th>deidcrpc3date</th>\n",
       "      <th>metac_site_nm1_x</th>\n",
       "      <th>psa1_x</th>\n",
       "      <th>...</th>\n",
       "      <th>tnm_date_y</th>\n",
       "      <th>latest_t_y</th>\n",
       "      <th>latest_t_date_y</th>\n",
       "      <th>latest_n_y</th>\n",
       "      <th>latest_n_date_y</th>\n",
       "      <th>latest_m_y</th>\n",
       "      <th>latest_m_date_y</th>\n",
       "      <th>latest_gleason_y</th>\n",
       "      <th>latest_gleason_date_y</th>\n",
       "      <th>pn_flag_y</th>\n",
       "    </tr>\n",
       "  </thead>\n",
       "  <tbody>\n",
       "    <tr>\n",
       "      <th>0</th>\n",
       "      <td>1563563420</td>\n",
       "      <td>0</td>\n",
       "      <td>2012-05-14</td>\n",
       "      <td>2014-05-14</td>\n",
       "      <td>0</td>\n",
       "      <td>NaN</td>\n",
       "      <td>0</td>\n",
       "      <td>NaN</td>\n",
       "      <td>BONE &amp; CONNECTIVE TISSUE CANCER</td>\n",
       "      <td>59.80</td>\n",
       "      <td>...</td>\n",
       "      <td>NaN</td>\n",
       "      <td>NaN</td>\n",
       "      <td>NaN</td>\n",
       "      <td>NaN</td>\n",
       "      <td>NaN</td>\n",
       "      <td>NaN</td>\n",
       "      <td>NaN</td>\n",
       "      <td>NaN</td>\n",
       "      <td>NaN</td>\n",
       "      <td>0</td>\n",
       "    </tr>\n",
       "    <tr>\n",
       "      <th>1</th>\n",
       "      <td>1317588535</td>\n",
       "      <td>0</td>\n",
       "      <td>2014-04-22</td>\n",
       "      <td>2016-04-21</td>\n",
       "      <td>0</td>\n",
       "      <td>NaN</td>\n",
       "      <td>0</td>\n",
       "      <td>NaN</td>\n",
       "      <td>BONE &amp; CONNECTIVE TISSUE CANCER</td>\n",
       "      <td>NaN</td>\n",
       "      <td>...</td>\n",
       "      <td>2015-06-16</td>\n",
       "      <td>NaN</td>\n",
       "      <td>NaN</td>\n",
       "      <td>N1</td>\n",
       "      <td>2015-06-16</td>\n",
       "      <td>M1</td>\n",
       "      <td>2015-06-16</td>\n",
       "      <td>NaN</td>\n",
       "      <td>NaN</td>\n",
       "      <td>0</td>\n",
       "    </tr>\n",
       "    <tr>\n",
       "      <th>2</th>\n",
       "      <td>1303468932</td>\n",
       "      <td>0</td>\n",
       "      <td>2014-09-20</td>\n",
       "      <td>2016-09-19</td>\n",
       "      <td>1</td>\n",
       "      <td>2016-06-22</td>\n",
       "      <td>1</td>\n",
       "      <td>2016-06-22</td>\n",
       "      <td>BONE &amp; CONNECTIVE TISSUE CANCER</td>\n",
       "      <td>14.25</td>\n",
       "      <td>...</td>\n",
       "      <td>2016-02-16</td>\n",
       "      <td>T2</td>\n",
       "      <td>2016-02-16</td>\n",
       "      <td>N0</td>\n",
       "      <td>2016-02-16</td>\n",
       "      <td>M0</td>\n",
       "      <td>2016-02-16</td>\n",
       "      <td>NaN</td>\n",
       "      <td>NaN</td>\n",
       "      <td>0</td>\n",
       "    </tr>\n",
       "    <tr>\n",
       "      <th>3</th>\n",
       "      <td>1177110951</td>\n",
       "      <td>0</td>\n",
       "      <td>2012-10-02</td>\n",
       "      <td>2014-10-02</td>\n",
       "      <td>1</td>\n",
       "      <td>2014-02-14</td>\n",
       "      <td>0</td>\n",
       "      <td>NaN</td>\n",
       "      <td>OTHER CANCER</td>\n",
       "      <td>NaN</td>\n",
       "      <td>...</td>\n",
       "      <td>NaN</td>\n",
       "      <td>NaN</td>\n",
       "      <td>NaN</td>\n",
       "      <td>NaN</td>\n",
       "      <td>NaN</td>\n",
       "      <td>NaN</td>\n",
       "      <td>NaN</td>\n",
       "      <td>NaN</td>\n",
       "      <td>NaN</td>\n",
       "      <td>0</td>\n",
       "    </tr>\n",
       "    <tr>\n",
       "      <th>4</th>\n",
       "      <td>495606299</td>\n",
       "      <td>0</td>\n",
       "      <td>2014-04-12</td>\n",
       "      <td>2016-04-11</td>\n",
       "      <td>0</td>\n",
       "      <td>NaN</td>\n",
       "      <td>0</td>\n",
       "      <td>NaN</td>\n",
       "      <td>BONE &amp; CONNECTIVE TISSUE CANCER</td>\n",
       "      <td>879.30</td>\n",
       "      <td>...</td>\n",
       "      <td>NaN</td>\n",
       "      <td>NaN</td>\n",
       "      <td>NaN</td>\n",
       "      <td>NaN</td>\n",
       "      <td>NaN</td>\n",
       "      <td>NaN</td>\n",
       "      <td>NaN</td>\n",
       "      <td>NaN</td>\n",
       "      <td>NaN</td>\n",
       "      <td>0</td>\n",
       "    </tr>\n",
       "  </tbody>\n",
       "</table>\n",
       "<p>5 rows × 254 columns</p>\n",
       "</div>"
      ],
      "text/plain": [
       "   patient_id  pn_flag_x lookback_date_x index_date_x  deidcrpc2flag  \\\n",
       "0  1563563420          0      2012-05-14   2014-05-14              0   \n",
       "1  1317588535          0      2014-04-22   2016-04-21              0   \n",
       "2  1303468932          0      2014-09-20   2016-09-19              1   \n",
       "3  1177110951          0      2012-10-02   2014-10-02              1   \n",
       "4   495606299          0      2014-04-12   2016-04-11              0   \n",
       "\n",
       "  deidcrpc2date  deidcrpc3flag deidcrpc3date                 metac_site_nm1_x  \\\n",
       "0           NaN              0           NaN  BONE & CONNECTIVE TISSUE CANCER   \n",
       "1           NaN              0           NaN  BONE & CONNECTIVE TISSUE CANCER   \n",
       "2    2016-06-22              1    2016-06-22  BONE & CONNECTIVE TISSUE CANCER   \n",
       "3    2014-02-14              0           NaN                     OTHER CANCER   \n",
       "4           NaN              0           NaN  BONE & CONNECTIVE TISSUE CANCER   \n",
       "\n",
       "   psa1_x    ...      tnm_date_y  latest_t_y latest_t_date_y  latest_n_y  \\\n",
       "0   59.80    ...             NaN         NaN             NaN         NaN   \n",
       "1     NaN    ...      2015-06-16         NaN             NaN          N1   \n",
       "2   14.25    ...      2016-02-16          T2      2016-02-16          N0   \n",
       "3     NaN    ...             NaN         NaN             NaN         NaN   \n",
       "4  879.30    ...             NaN         NaN             NaN         NaN   \n",
       "\n",
       "  latest_n_date_y  latest_m_y latest_m_date_y  latest_gleason_y  \\\n",
       "0             NaN         NaN             NaN               NaN   \n",
       "1      2015-06-16          M1      2015-06-16               NaN   \n",
       "2      2016-02-16          M0      2016-02-16               NaN   \n",
       "3             NaN         NaN             NaN               NaN   \n",
       "4             NaN         NaN             NaN               NaN   \n",
       "\n",
       "  latest_gleason_date_y  pn_flag_y  \n",
       "0                   NaN          0  \n",
       "1                   NaN          0  \n",
       "2                   NaN          0  \n",
       "3                   NaN          0  \n",
       "4                   NaN          0  \n",
       "\n",
       "[5 rows x 254 columns]"
      ]
     },
     "execution_count": 57,
     "metadata": {},
     "output_type": "execute_result"
    }
   ],
   "source": [
    "df_merged_old.head()"
   ]
  },
  {
   "cell_type": "markdown",
   "metadata": {},
   "source": [
    "### Merge the columns that are in both for the subset of patients that are in both"
   ]
  },
  {
   "cell_type": "markdown",
   "metadata": {},
   "source": [
    "#### We can combine psa, total_testo, free_testo and rearrange the dates."
   ]
  },
  {
   "cell_type": "code",
   "execution_count": 58,
   "metadata": {},
   "outputs": [
    {
     "data": {
      "text/plain": [
       "True"
      ]
     },
     "execution_count": 58,
     "metadata": {},
     "output_type": "execute_result"
    },
    {
     "data": {
      "text/plain": [
       "False"
      ]
     },
     "execution_count": 58,
     "metadata": {},
     "output_type": "execute_result"
    },
    {
     "data": {
      "text/plain": [
       "False"
      ]
     },
     "execution_count": 58,
     "metadata": {},
     "output_type": "execute_result"
    },
    {
     "data": {
      "text/plain": [
       "True"
      ]
     },
     "execution_count": 58,
     "metadata": {},
     "output_type": "execute_result"
    }
   ],
   "source": [
    "isinstance(ss_patientids_overlap, pd.core.series.Series)\n",
    "isinstance(ss_patientids_overlap, pd.core.frame.DataFrame)\n",
    "\n",
    "isinstance(df_merged_old, pd.core.series.Series)\n",
    "isinstance(df_merged_old, pd.core.frame.DataFrame)"
   ]
  },
  {
   "cell_type": "code",
   "execution_count": 59,
   "metadata": {},
   "outputs": [],
   "source": [
    "def get_stem_date_cols(row, stem):\n",
    "    if isinstance(row, pd.core.series.Series):\n",
    "        ls_stem_cols = [column for column in row.index if (re.search(stem, column) and re.search('date', column))]\n",
    "    else:\n",
    "        ls_stem_cols = [column for column in row.columns if (re.search(stem, column) and re.search('date', column))]\n",
    "    return ls_stem_cols\n",
    "\n",
    "def get_stem_cols(row, stem):\n",
    "    if isinstance(row, pd.core.series.Series):\n",
    "        ls_stem_cols = [column for column in row.index if (re.search(stem, column))]\n",
    "    else:\n",
    "        ls_stem_cols = [column for column in row.columns if (re.search(stem, column))]\n",
    "    return ls_stem_cols"
   ]
  },
  {
   "cell_type": "code",
   "execution_count": 60,
   "metadata": {},
   "outputs": [],
   "source": [
    "def reorder_stem_cols(row_merged, stem):\n",
    "    ls_date_cols = get_stem_date_cols(row_merged, stem)\n",
    "    ss_sorted_dates = row_merged[ls_date_cols].sort_values(ascending=False)\n",
    "    ls_sorted_colnames_dates = ss_sorted_dates.index.tolist()\n",
    "    ls_sorted_colnames_values = [re.sub('_date', '', date_col) for date_col in ls_sorted_colnames_dates]\n",
    "    ls_zipped = [item for sublist in zip(ls_sorted_colnames_values, ls_sorted_colnames_dates) for item in sublist]\n",
    "    return ls_zipped"
   ]
  },
  {
   "cell_type": "code",
   "execution_count": 61,
   "metadata": {},
   "outputs": [],
   "source": [
    "stems = ['psa', 'total_testo', 'free_testo']"
   ]
  },
  {
   "cell_type": "code",
   "execution_count": 62,
   "metadata": {},
   "outputs": [],
   "source": [
    "dict_dfs = dict()\n",
    "for stem in stems:\n",
    "    ls_cols_stem = get_stem_cols(df_merged_old, stem)\n",
    "    n_cols_stem = len(ls_cols_stem)\n",
    "    # create new clean column names\n",
    "    colnames_values = [stem + '%d' %i for i in range(1, int(n_cols_stem/2) + 1)]\n",
    "    colnames_dates = [stem + '_date%d' %i for i in range(1, int(n_cols_stem/2) + 1)]\n",
    "    colnames = [item for sublist in zip(colnames_values, colnames_dates) for item in sublist]\n",
    "    # Take relevant sub dataframe and make empty one of same shape\n",
    "    df_unordered = df_merged_old[ls_cols_stem]\n",
    "    df_reordered = pd.DataFrame(np.nan, index = df_unordered.index, columns=colnames)\n",
    "    for index, row in df_unordered.iterrows():\n",
    "        ls_order_colnames = reorder_stem_cols(row, stem)\n",
    "        df_reordered.iloc[index] = row[ls_order_colnames].tolist()\n",
    "\n",
    "    df_reordered = df_reordered[df_reordered.isnull().all()[~df_reordered.isnull().all()].index]\n",
    "    dict_dfs[stem] = df_reordered"
   ]
  },
  {
   "cell_type": "code",
   "execution_count": 63,
   "metadata": {},
   "outputs": [],
   "source": [
    "df_merged_new = pd.concat(dict_dfs.values(), axis=1)"
   ]
  },
  {
   "cell_type": "code",
   "execution_count": 64,
   "metadata": {},
   "outputs": [
    {
     "data": {
      "text/plain": [
       "(372, 82)"
      ]
     },
     "execution_count": 64,
     "metadata": {},
     "output_type": "execute_result"
    },
    {
     "data": {
      "text/html": [
       "<div>\n",
       "<style scoped>\n",
       "    .dataframe tbody tr th:only-of-type {\n",
       "        vertical-align: middle;\n",
       "    }\n",
       "\n",
       "    .dataframe tbody tr th {\n",
       "        vertical-align: top;\n",
       "    }\n",
       "\n",
       "    .dataframe thead th {\n",
       "        text-align: right;\n",
       "    }\n",
       "</style>\n",
       "<table border=\"1\" class=\"dataframe\">\n",
       "  <thead>\n",
       "    <tr style=\"text-align: right;\">\n",
       "      <th></th>\n",
       "      <th>psa1</th>\n",
       "      <th>psa_date1</th>\n",
       "      <th>psa2</th>\n",
       "      <th>psa_date2</th>\n",
       "      <th>psa3</th>\n",
       "      <th>psa_date3</th>\n",
       "      <th>psa4</th>\n",
       "      <th>psa_date4</th>\n",
       "      <th>psa5</th>\n",
       "      <th>psa_date5</th>\n",
       "      <th>...</th>\n",
       "      <th>total_testo15</th>\n",
       "      <th>total_testo_date15</th>\n",
       "      <th>total_testo16</th>\n",
       "      <th>total_testo_date16</th>\n",
       "      <th>total_testo17</th>\n",
       "      <th>total_testo_date17</th>\n",
       "      <th>total_testo18</th>\n",
       "      <th>total_testo_date18</th>\n",
       "      <th>free_testo1</th>\n",
       "      <th>free_testo_date1</th>\n",
       "    </tr>\n",
       "  </thead>\n",
       "  <tbody>\n",
       "    <tr>\n",
       "      <th>0</th>\n",
       "      <td>15.60</td>\n",
       "      <td>2014-05-14</td>\n",
       "      <td>55.2</td>\n",
       "      <td>2014-02-19</td>\n",
       "      <td>59.8</td>\n",
       "      <td>2014-01-01</td>\n",
       "      <td>37.80</td>\n",
       "      <td>2013-11-01</td>\n",
       "      <td>36.1</td>\n",
       "      <td>2013-10-01</td>\n",
       "      <td>...</td>\n",
       "      <td>NaN</td>\n",
       "      <td>NaN</td>\n",
       "      <td>NaN</td>\n",
       "      <td>NaN</td>\n",
       "      <td>NaN</td>\n",
       "      <td>NaN</td>\n",
       "      <td>NaN</td>\n",
       "      <td>NaN</td>\n",
       "      <td>NaN</td>\n",
       "      <td>NaN</td>\n",
       "    </tr>\n",
       "    <tr>\n",
       "      <th>1</th>\n",
       "      <td>NaN</td>\n",
       "      <td>NaN</td>\n",
       "      <td>NaN</td>\n",
       "      <td>NaN</td>\n",
       "      <td>NaN</td>\n",
       "      <td>NaN</td>\n",
       "      <td>NaN</td>\n",
       "      <td>NaN</td>\n",
       "      <td>NaN</td>\n",
       "      <td>NaN</td>\n",
       "      <td>...</td>\n",
       "      <td>NaN</td>\n",
       "      <td>NaN</td>\n",
       "      <td>NaN</td>\n",
       "      <td>NaN</td>\n",
       "      <td>NaN</td>\n",
       "      <td>NaN</td>\n",
       "      <td>NaN</td>\n",
       "      <td>NaN</td>\n",
       "      <td>NaN</td>\n",
       "      <td>NaN</td>\n",
       "    </tr>\n",
       "    <tr>\n",
       "      <th>2</th>\n",
       "      <td>14.25</td>\n",
       "      <td>2016-08-01</td>\n",
       "      <td>10.7</td>\n",
       "      <td>2016-07-01</td>\n",
       "      <td>13.6</td>\n",
       "      <td>2016-06-01</td>\n",
       "      <td>5.55</td>\n",
       "      <td>2016-04-01</td>\n",
       "      <td>5.6</td>\n",
       "      <td>2016-02-01</td>\n",
       "      <td>...</td>\n",
       "      <td>NaN</td>\n",
       "      <td>NaN</td>\n",
       "      <td>NaN</td>\n",
       "      <td>NaN</td>\n",
       "      <td>NaN</td>\n",
       "      <td>NaN</td>\n",
       "      <td>NaN</td>\n",
       "      <td>NaN</td>\n",
       "      <td>NaN</td>\n",
       "      <td>NaN</td>\n",
       "    </tr>\n",
       "    <tr>\n",
       "      <th>3</th>\n",
       "      <td>24.60</td>\n",
       "      <td>2014-06-03</td>\n",
       "      <td>NaN</td>\n",
       "      <td>NaN</td>\n",
       "      <td>NaN</td>\n",
       "      <td>NaN</td>\n",
       "      <td>NaN</td>\n",
       "      <td>NaN</td>\n",
       "      <td>NaN</td>\n",
       "      <td>NaN</td>\n",
       "      <td>...</td>\n",
       "      <td>NaN</td>\n",
       "      <td>NaN</td>\n",
       "      <td>NaN</td>\n",
       "      <td>NaN</td>\n",
       "      <td>NaN</td>\n",
       "      <td>NaN</td>\n",
       "      <td>NaN</td>\n",
       "      <td>NaN</td>\n",
       "      <td>0.1</td>\n",
       "      <td>2014-06-03</td>\n",
       "    </tr>\n",
       "    <tr>\n",
       "      <th>4</th>\n",
       "      <td>330.80</td>\n",
       "      <td>2016-02-24</td>\n",
       "      <td>879.3</td>\n",
       "      <td>2016-02-01</td>\n",
       "      <td>0.4</td>\n",
       "      <td>2015-07-01</td>\n",
       "      <td>NaN</td>\n",
       "      <td>NaN</td>\n",
       "      <td>NaN</td>\n",
       "      <td>NaN</td>\n",
       "      <td>...</td>\n",
       "      <td>NaN</td>\n",
       "      <td>NaN</td>\n",
       "      <td>NaN</td>\n",
       "      <td>NaN</td>\n",
       "      <td>NaN</td>\n",
       "      <td>NaN</td>\n",
       "      <td>NaN</td>\n",
       "      <td>NaN</td>\n",
       "      <td>NaN</td>\n",
       "      <td>NaN</td>\n",
       "    </tr>\n",
       "  </tbody>\n",
       "</table>\n",
       "<p>5 rows × 82 columns</p>\n",
       "</div>"
      ],
      "text/plain": [
       "     psa1   psa_date1   psa2   psa_date2  psa3   psa_date3   psa4   psa_date4  \\\n",
       "0   15.60  2014-05-14   55.2  2014-02-19  59.8  2014-01-01  37.80  2013-11-01   \n",
       "1     NaN         NaN    NaN         NaN   NaN         NaN    NaN         NaN   \n",
       "2   14.25  2016-08-01   10.7  2016-07-01  13.6  2016-06-01   5.55  2016-04-01   \n",
       "3   24.60  2014-06-03    NaN         NaN   NaN         NaN    NaN         NaN   \n",
       "4  330.80  2016-02-24  879.3  2016-02-01   0.4  2015-07-01    NaN         NaN   \n",
       "\n",
       "   psa5   psa_date5       ...         total_testo15 total_testo_date15  \\\n",
       "0  36.1  2013-10-01       ...                   NaN                NaN   \n",
       "1   NaN         NaN       ...                   NaN                NaN   \n",
       "2   5.6  2016-02-01       ...                   NaN                NaN   \n",
       "3   NaN         NaN       ...                   NaN                NaN   \n",
       "4   NaN         NaN       ...                   NaN                NaN   \n",
       "\n",
       "   total_testo16 total_testo_date16  total_testo17 total_testo_date17  \\\n",
       "0            NaN                NaN            NaN                NaN   \n",
       "1            NaN                NaN            NaN                NaN   \n",
       "2            NaN                NaN            NaN                NaN   \n",
       "3            NaN                NaN            NaN                NaN   \n",
       "4            NaN                NaN            NaN                NaN   \n",
       "\n",
       "   total_testo18 total_testo_date18  free_testo1 free_testo_date1  \n",
       "0            NaN                NaN          NaN              NaN  \n",
       "1            NaN                NaN          NaN              NaN  \n",
       "2            NaN                NaN          NaN              NaN  \n",
       "3            NaN                NaN          0.1       2014-06-03  \n",
       "4            NaN                NaN          NaN              NaN  \n",
       "\n",
       "[5 rows x 82 columns]"
      ]
     },
     "execution_count": 64,
     "metadata": {},
     "output_type": "execute_result"
    }
   ],
   "source": [
    "df_merged_new.shape\n",
    "df_merged_new.head()"
   ]
  },
  {
   "cell_type": "code",
   "execution_count": 65,
   "metadata": {},
   "outputs": [
    {
     "data": {
      "text/plain": [
       "(372, 254)"
      ]
     },
     "execution_count": 65,
     "metadata": {},
     "output_type": "execute_result"
    }
   ],
   "source": [
    "df_merged_old.shape\n",
    "df_merged_old = df_merged_old.drop(columns=get_stem_cols(df_merged_old, 'psa'))\n",
    "df_merged_old = df_merged_old.drop(columns=get_stem_cols(df_merged_old, 'total_testo'))\n",
    "df_merged_old = df_merged_old.drop(columns=get_stem_cols(df_merged_old, 'free_testo'))"
   ]
  },
  {
   "cell_type": "code",
   "execution_count": 66,
   "metadata": {},
   "outputs": [
    {
     "data": {
      "text/plain": [
       "(372, 94)"
      ]
     },
     "execution_count": 66,
     "metadata": {},
     "output_type": "execute_result"
    },
    {
     "data": {
      "text/html": [
       "<div>\n",
       "<style scoped>\n",
       "    .dataframe tbody tr th:only-of-type {\n",
       "        vertical-align: middle;\n",
       "    }\n",
       "\n",
       "    .dataframe tbody tr th {\n",
       "        vertical-align: top;\n",
       "    }\n",
       "\n",
       "    .dataframe thead th {\n",
       "        text-align: right;\n",
       "    }\n",
       "</style>\n",
       "<table border=\"1\" class=\"dataframe\">\n",
       "  <thead>\n",
       "    <tr style=\"text-align: right;\">\n",
       "      <th></th>\n",
       "      <th>patient_id</th>\n",
       "      <th>pn_flag_x</th>\n",
       "      <th>lookback_date_x</th>\n",
       "      <th>index_date_x</th>\n",
       "      <th>deidcrpc2flag</th>\n",
       "      <th>deidcrpc2date</th>\n",
       "      <th>deidcrpc3flag</th>\n",
       "      <th>deidcrpc3date</th>\n",
       "      <th>metac_site_nm1_x</th>\n",
       "      <th>tnm_date_x</th>\n",
       "      <th>...</th>\n",
       "      <th>tnm_date_y</th>\n",
       "      <th>latest_t_y</th>\n",
       "      <th>latest_t_date_y</th>\n",
       "      <th>latest_n_y</th>\n",
       "      <th>latest_n_date_y</th>\n",
       "      <th>latest_m_y</th>\n",
       "      <th>latest_m_date_y</th>\n",
       "      <th>latest_gleason_y</th>\n",
       "      <th>latest_gleason_date_y</th>\n",
       "      <th>pn_flag_y</th>\n",
       "    </tr>\n",
       "  </thead>\n",
       "  <tbody>\n",
       "    <tr>\n",
       "      <th>0</th>\n",
       "      <td>1563563420</td>\n",
       "      <td>0</td>\n",
       "      <td>2012-05-14</td>\n",
       "      <td>2014-05-14</td>\n",
       "      <td>0</td>\n",
       "      <td>NaN</td>\n",
       "      <td>0</td>\n",
       "      <td>NaN</td>\n",
       "      <td>BONE &amp; CONNECTIVE TISSUE CANCER</td>\n",
       "      <td>NaN</td>\n",
       "      <td>...</td>\n",
       "      <td>NaN</td>\n",
       "      <td>NaN</td>\n",
       "      <td>NaN</td>\n",
       "      <td>NaN</td>\n",
       "      <td>NaN</td>\n",
       "      <td>NaN</td>\n",
       "      <td>NaN</td>\n",
       "      <td>NaN</td>\n",
       "      <td>NaN</td>\n",
       "      <td>0</td>\n",
       "    </tr>\n",
       "    <tr>\n",
       "      <th>1</th>\n",
       "      <td>1317588535</td>\n",
       "      <td>0</td>\n",
       "      <td>2014-04-22</td>\n",
       "      <td>2016-04-21</td>\n",
       "      <td>0</td>\n",
       "      <td>NaN</td>\n",
       "      <td>0</td>\n",
       "      <td>NaN</td>\n",
       "      <td>BONE &amp; CONNECTIVE TISSUE CANCER</td>\n",
       "      <td>NaN</td>\n",
       "      <td>...</td>\n",
       "      <td>2015-06-16</td>\n",
       "      <td>NaN</td>\n",
       "      <td>NaN</td>\n",
       "      <td>N1</td>\n",
       "      <td>2015-06-16</td>\n",
       "      <td>M1</td>\n",
       "      <td>2015-06-16</td>\n",
       "      <td>NaN</td>\n",
       "      <td>NaN</td>\n",
       "      <td>0</td>\n",
       "    </tr>\n",
       "    <tr>\n",
       "      <th>2</th>\n",
       "      <td>1303468932</td>\n",
       "      <td>0</td>\n",
       "      <td>2014-09-20</td>\n",
       "      <td>2016-09-19</td>\n",
       "      <td>1</td>\n",
       "      <td>2016-06-22</td>\n",
       "      <td>1</td>\n",
       "      <td>2016-06-22</td>\n",
       "      <td>BONE &amp; CONNECTIVE TISSUE CANCER</td>\n",
       "      <td>NaN</td>\n",
       "      <td>...</td>\n",
       "      <td>2016-02-16</td>\n",
       "      <td>T2</td>\n",
       "      <td>2016-02-16</td>\n",
       "      <td>N0</td>\n",
       "      <td>2016-02-16</td>\n",
       "      <td>M0</td>\n",
       "      <td>2016-02-16</td>\n",
       "      <td>NaN</td>\n",
       "      <td>NaN</td>\n",
       "      <td>0</td>\n",
       "    </tr>\n",
       "    <tr>\n",
       "      <th>3</th>\n",
       "      <td>1177110951</td>\n",
       "      <td>0</td>\n",
       "      <td>2012-10-02</td>\n",
       "      <td>2014-10-02</td>\n",
       "      <td>1</td>\n",
       "      <td>2014-02-14</td>\n",
       "      <td>0</td>\n",
       "      <td>NaN</td>\n",
       "      <td>OTHER CANCER</td>\n",
       "      <td>NaN</td>\n",
       "      <td>...</td>\n",
       "      <td>NaN</td>\n",
       "      <td>NaN</td>\n",
       "      <td>NaN</td>\n",
       "      <td>NaN</td>\n",
       "      <td>NaN</td>\n",
       "      <td>NaN</td>\n",
       "      <td>NaN</td>\n",
       "      <td>NaN</td>\n",
       "      <td>NaN</td>\n",
       "      <td>0</td>\n",
       "    </tr>\n",
       "    <tr>\n",
       "      <th>4</th>\n",
       "      <td>495606299</td>\n",
       "      <td>0</td>\n",
       "      <td>2014-04-12</td>\n",
       "      <td>2016-04-11</td>\n",
       "      <td>0</td>\n",
       "      <td>NaN</td>\n",
       "      <td>0</td>\n",
       "      <td>NaN</td>\n",
       "      <td>BONE &amp; CONNECTIVE TISSUE CANCER</td>\n",
       "      <td>NaN</td>\n",
       "      <td>...</td>\n",
       "      <td>NaN</td>\n",
       "      <td>NaN</td>\n",
       "      <td>NaN</td>\n",
       "      <td>NaN</td>\n",
       "      <td>NaN</td>\n",
       "      <td>NaN</td>\n",
       "      <td>NaN</td>\n",
       "      <td>NaN</td>\n",
       "      <td>NaN</td>\n",
       "      <td>0</td>\n",
       "    </tr>\n",
       "  </tbody>\n",
       "</table>\n",
       "<p>5 rows × 94 columns</p>\n",
       "</div>"
      ],
      "text/plain": [
       "   patient_id  pn_flag_x lookback_date_x index_date_x  deidcrpc2flag  \\\n",
       "0  1563563420          0      2012-05-14   2014-05-14              0   \n",
       "1  1317588535          0      2014-04-22   2016-04-21              0   \n",
       "2  1303468932          0      2014-09-20   2016-09-19              1   \n",
       "3  1177110951          0      2012-10-02   2014-10-02              1   \n",
       "4   495606299          0      2014-04-12   2016-04-11              0   \n",
       "\n",
       "  deidcrpc2date  deidcrpc3flag deidcrpc3date                 metac_site_nm1_x  \\\n",
       "0           NaN              0           NaN  BONE & CONNECTIVE TISSUE CANCER   \n",
       "1           NaN              0           NaN  BONE & CONNECTIVE TISSUE CANCER   \n",
       "2    2016-06-22              1    2016-06-22  BONE & CONNECTIVE TISSUE CANCER   \n",
       "3    2014-02-14              0           NaN                     OTHER CANCER   \n",
       "4           NaN              0           NaN  BONE & CONNECTIVE TISSUE CANCER   \n",
       "\n",
       "  tnm_date_x    ...     tnm_date_y latest_t_y latest_t_date_y latest_n_y  \\\n",
       "0        NaN    ...            NaN        NaN             NaN        NaN   \n",
       "1        NaN    ...     2015-06-16        NaN             NaN         N1   \n",
       "2        NaN    ...     2016-02-16         T2      2016-02-16         N0   \n",
       "3        NaN    ...            NaN        NaN             NaN        NaN   \n",
       "4        NaN    ...            NaN        NaN             NaN        NaN   \n",
       "\n",
       "  latest_n_date_y latest_m_y  latest_m_date_y latest_gleason_y  \\\n",
       "0             NaN        NaN              NaN              NaN   \n",
       "1      2015-06-16         M1       2015-06-16              NaN   \n",
       "2      2016-02-16         M0       2016-02-16              NaN   \n",
       "3             NaN        NaN              NaN              NaN   \n",
       "4             NaN        NaN              NaN              NaN   \n",
       "\n",
       "  latest_gleason_date_y pn_flag_y  \n",
       "0                   NaN         0  \n",
       "1                   NaN         0  \n",
       "2                   NaN         0  \n",
       "3                   NaN         0  \n",
       "4                   NaN         0  \n",
       "\n",
       "[5 rows x 94 columns]"
      ]
     },
     "execution_count": 66,
     "metadata": {},
     "output_type": "execute_result"
    }
   ],
   "source": [
    "df_merged_old.shape\n",
    "df_merged_old.head()"
   ]
  },
  {
   "cell_type": "markdown",
   "metadata": {},
   "source": [
    "#### tnm stage related columns"
   ]
  },
  {
   "cell_type": "code",
   "execution_count": 67,
   "metadata": {},
   "outputs": [],
   "source": [
    "ls_latest_stage = [column for column in df_merged_old.columns if \n",
    "                   (re.search('latest_', column) and re.search('_(x)|(y)$', column))]\n",
    "ls_latest_stage.extend(['tnm_date_y', 'tnm_date_x'])\n",
    "ls_latest_stage.sort(reverse=True)\n",
    "ls_grouped_colnames = [list(chunck) for chunck in np.array_split(ls_latest_stage, 9)]"
   ]
  },
  {
   "cell_type": "code",
   "execution_count": 68,
   "metadata": {},
   "outputs": [
    {
     "data": {
      "text/plain": [
       "[['tnm_date_y', 'tnm_date_x'],\n",
       " ['latest_t_y', 'latest_t_x'],\n",
       " ['latest_t_date_y', 'latest_t_date_x'],\n",
       " ['latest_n_y', 'latest_n_x'],\n",
       " ['latest_n_date_y', 'latest_n_date_x'],\n",
       " ['latest_m_y', 'latest_m_x'],\n",
       " ['latest_m_date_y', 'latest_m_date_x'],\n",
       " ['latest_gleason_y', 'latest_gleason_x'],\n",
       " ['latest_gleason_date_y', 'latest_gleason_date_x']]"
      ]
     },
     "execution_count": 68,
     "metadata": {},
     "output_type": "execute_result"
    }
   ],
   "source": [
    "ls_grouped_colnames"
   ]
  },
  {
   "cell_type": "code",
   "execution_count": 69,
   "metadata": {},
   "outputs": [],
   "source": [
    "df_merged_old_latest = df_merged_old[ls_latest_stage]"
   ]
  },
  {
   "cell_type": "code",
   "execution_count": 70,
   "metadata": {},
   "outputs": [
    {
     "data": {
      "text/plain": [
       "False"
      ]
     },
     "execution_count": 70,
     "metadata": {},
     "output_type": "execute_result"
    },
    {
     "data": {
      "text/plain": [
       "False"
      ]
     },
     "execution_count": 70,
     "metadata": {},
     "output_type": "execute_result"
    },
    {
     "data": {
      "text/plain": [
       "False"
      ]
     },
     "execution_count": 70,
     "metadata": {},
     "output_type": "execute_result"
    },
    {
     "data": {
      "text/plain": [
       "False"
      ]
     },
     "execution_count": 70,
     "metadata": {},
     "output_type": "execute_result"
    },
    {
     "data": {
      "text/plain": [
       "False"
      ]
     },
     "execution_count": 70,
     "metadata": {},
     "output_type": "execute_result"
    },
    {
     "data": {
      "text/plain": [
       "False"
      ]
     },
     "execution_count": 70,
     "metadata": {},
     "output_type": "execute_result"
    },
    {
     "data": {
      "text/plain": [
       "False"
      ]
     },
     "execution_count": 70,
     "metadata": {},
     "output_type": "execute_result"
    },
    {
     "data": {
      "text/plain": [
       "False"
      ]
     },
     "execution_count": 70,
     "metadata": {},
     "output_type": "execute_result"
    },
    {
     "data": {
      "text/plain": [
       "False"
      ]
     },
     "execution_count": 70,
     "metadata": {},
     "output_type": "execute_result"
    }
   ],
   "source": [
    "# No overlap, latest stage is always only in urology or oncology, never filled in both\n",
    "for group in ls_grouped_colnames:\n",
    "    (~df_merged_old_latest[group].isnull()).all(axis=1).any()"
   ]
  },
  {
   "cell_type": "code",
   "execution_count": 71,
   "metadata": {},
   "outputs": [],
   "source": [
    "def overlay_two_columns(row):\n",
    "    if row[0] is not np.nan:\n",
    "        return row[0]\n",
    "    else:\n",
    "        return row[1]"
   ]
  },
  {
   "cell_type": "code",
   "execution_count": 72,
   "metadata": {},
   "outputs": [],
   "source": [
    "df_overlayed = pd.DataFrame()\n",
    "for group in ls_grouped_colnames:\n",
    "    colname_no_suffix = re.sub('(_y)|(_x)$', '', group[1])\n",
    "    df_overlayed[colname_no_suffix] = df_merged_old_latest[group].apply(overlay_two_columns, axis=1)"
   ]
  },
  {
   "cell_type": "code",
   "execution_count": 73,
   "metadata": {},
   "outputs": [
    {
     "data": {
      "text/html": [
       "<div>\n",
       "<style scoped>\n",
       "    .dataframe tbody tr th:only-of-type {\n",
       "        vertical-align: middle;\n",
       "    }\n",
       "\n",
       "    .dataframe tbody tr th {\n",
       "        vertical-align: top;\n",
       "    }\n",
       "\n",
       "    .dataframe thead th {\n",
       "        text-align: right;\n",
       "    }\n",
       "</style>\n",
       "<table border=\"1\" class=\"dataframe\">\n",
       "  <thead>\n",
       "    <tr style=\"text-align: right;\">\n",
       "      <th></th>\n",
       "      <th>tnm_date</th>\n",
       "      <th>latest_t</th>\n",
       "      <th>latest_t_date</th>\n",
       "      <th>latest_n</th>\n",
       "      <th>latest_n_date</th>\n",
       "      <th>latest_m</th>\n",
       "      <th>latest_m_date</th>\n",
       "      <th>latest_gleason</th>\n",
       "      <th>latest_gleason_date</th>\n",
       "    </tr>\n",
       "  </thead>\n",
       "  <tbody>\n",
       "    <tr>\n",
       "      <th>0</th>\n",
       "      <td>NaN</td>\n",
       "      <td>NaN</td>\n",
       "      <td>NaN</td>\n",
       "      <td>NaN</td>\n",
       "      <td>NaN</td>\n",
       "      <td>NaN</td>\n",
       "      <td>NaN</td>\n",
       "      <td>NaN</td>\n",
       "      <td>NaN</td>\n",
       "    </tr>\n",
       "    <tr>\n",
       "      <th>1</th>\n",
       "      <td>2015-06-16</td>\n",
       "      <td>NaN</td>\n",
       "      <td>NaN</td>\n",
       "      <td>N1</td>\n",
       "      <td>2015-06-16</td>\n",
       "      <td>M1</td>\n",
       "      <td>2015-06-16</td>\n",
       "      <td>NaN</td>\n",
       "      <td>NaN</td>\n",
       "    </tr>\n",
       "    <tr>\n",
       "      <th>2</th>\n",
       "      <td>2016-02-16</td>\n",
       "      <td>T2</td>\n",
       "      <td>2016-02-16</td>\n",
       "      <td>N0</td>\n",
       "      <td>2016-02-16</td>\n",
       "      <td>M0</td>\n",
       "      <td>2016-02-16</td>\n",
       "      <td>NaN</td>\n",
       "      <td>NaN</td>\n",
       "    </tr>\n",
       "    <tr>\n",
       "      <th>3</th>\n",
       "      <td>NaN</td>\n",
       "      <td>NaN</td>\n",
       "      <td>NaN</td>\n",
       "      <td>NaN</td>\n",
       "      <td>NaN</td>\n",
       "      <td>NaN</td>\n",
       "      <td>NaN</td>\n",
       "      <td>NaN</td>\n",
       "      <td>NaN</td>\n",
       "    </tr>\n",
       "    <tr>\n",
       "      <th>4</th>\n",
       "      <td>NaN</td>\n",
       "      <td>NaN</td>\n",
       "      <td>NaN</td>\n",
       "      <td>NaN</td>\n",
       "      <td>NaN</td>\n",
       "      <td>NaN</td>\n",
       "      <td>NaN</td>\n",
       "      <td>NaN</td>\n",
       "      <td>NaN</td>\n",
       "    </tr>\n",
       "  </tbody>\n",
       "</table>\n",
       "</div>"
      ],
      "text/plain": [
       "     tnm_date latest_t latest_t_date latest_n latest_n_date latest_m  \\\n",
       "0         NaN      NaN           NaN      NaN           NaN      NaN   \n",
       "1  2015-06-16      NaN           NaN       N1    2015-06-16       M1   \n",
       "2  2016-02-16       T2    2016-02-16       N0    2016-02-16       M0   \n",
       "3         NaN      NaN           NaN      NaN           NaN      NaN   \n",
       "4         NaN      NaN           NaN      NaN           NaN      NaN   \n",
       "\n",
       "  latest_m_date  latest_gleason latest_gleason_date  \n",
       "0           NaN             NaN                 NaN  \n",
       "1    2015-06-16             NaN                 NaN  \n",
       "2    2016-02-16             NaN                 NaN  \n",
       "3           NaN             NaN                 NaN  \n",
       "4           NaN             NaN                 NaN  "
      ]
     },
     "execution_count": 73,
     "metadata": {},
     "output_type": "execute_result"
    }
   ],
   "source": [
    "df_overlayed.head()"
   ]
  },
  {
   "cell_type": "code",
   "execution_count": 74,
   "metadata": {},
   "outputs": [],
   "source": [
    "df_merged_new = pd.concat([df_merged_new, df_overlayed], axis=1)\n",
    "df_merged_old = df_merged_old.drop(columns=ls_latest_stage)"
   ]
  },
  {
   "cell_type": "code",
   "execution_count": 75,
   "metadata": {},
   "outputs": [
    {
     "data": {
      "text/plain": [
       "(372, 76)"
      ]
     },
     "execution_count": 75,
     "metadata": {},
     "output_type": "execute_result"
    },
    {
     "data": {
      "text/plain": [
       "(372, 91)"
      ]
     },
     "execution_count": 75,
     "metadata": {},
     "output_type": "execute_result"
    }
   ],
   "source": [
    "df_merged_old.shape\n",
    "df_merged_new.shape"
   ]
  },
  {
   "cell_type": "markdown",
   "metadata": {},
   "source": [
    "#### The other columns"
   ]
  },
  {
   "cell_type": "code",
   "execution_count": 78,
   "metadata": {},
   "outputs": [
    {
     "data": {
      "text/plain": [
       "['pn_flag_y',\n",
       " 'pn_flag_x',\n",
       " 'metac_site_nm1_y',\n",
       " 'metac_site_nm1_x',\n",
       " 'lookback_date_y',\n",
       " 'lookback_date_x',\n",
       " 'index_date_y',\n",
       " 'index_date_x']"
      ]
     },
     "execution_count": 78,
     "metadata": {},
     "output_type": "execute_result"
    },
    {
     "data": {
      "text/plain": [
       "[['pn_flag_y', 'pn_flag_x'],\n",
       " ['metac_site_nm1_y', 'metac_site_nm1_x'],\n",
       " ['lookback_date_y', 'lookback_date_x'],\n",
       " ['index_date_y', 'index_date_x']]"
      ]
     },
     "execution_count": 78,
     "metadata": {},
     "output_type": "execute_result"
    }
   ],
   "source": [
    "ls_leftover = [column for column in df_merged_old.columns if re.search('_[xy]$', column)]\n",
    "ls_leftover.sort(reverse=True)\n",
    "ls_leftover\n",
    "ls_leftover_grouped = [list(chunck) for chunck in np.array_split(ls_leftover, 4)]\n",
    "ls_leftover_grouped"
   ]
  },
  {
   "cell_type": "code",
   "execution_count": 79,
   "metadata": {},
   "outputs": [
    {
     "data": {
      "text/plain": [
       "True"
      ]
     },
     "execution_count": 79,
     "metadata": {},
     "output_type": "execute_result"
    },
    {
     "data": {
      "text/plain": [
       "True"
      ]
     },
     "execution_count": 79,
     "metadata": {},
     "output_type": "execute_result"
    },
    {
     "data": {
      "text/plain": [
       "True"
      ]
     },
     "execution_count": 79,
     "metadata": {},
     "output_type": "execute_result"
    },
    {
     "data": {
      "text/plain": [
       "True"
      ]
     },
     "execution_count": 79,
     "metadata": {},
     "output_type": "execute_result"
    }
   ],
   "source": [
    "# All these columns are identical in pairs, so data onc and uro is the same, can take one of the two\n",
    "for group in ls_leftover_grouped:\n",
    "    (df_merged_old[group[0]] == df_merged_old[group[1]]).all()"
   ]
  },
  {
   "cell_type": "code",
   "execution_count": 80,
   "metadata": {},
   "outputs": [],
   "source": [
    "ls_leftover_y = [column[0] for column in ls_leftover_grouped]\n",
    "ls_leftover_stem = [re.sub('_y', '', column[0]) for column in ls_leftover_grouped]"
   ]
  },
  {
   "cell_type": "code",
   "execution_count": 81,
   "metadata": {},
   "outputs": [
    {
     "name": "stderr",
     "output_type": "stream",
     "text": [
      "C:\\ProgramData\\Anaconda3\\lib\\site-packages\\ipykernel_launcher.py:3: SettingWithCopyWarning: \n",
      "A value is trying to be set on a copy of a slice from a DataFrame.\n",
      "Try using .loc[row_indexer,col_indexer] = value instead\n",
      "\n",
      "See the caveats in the documentation: http://pandas.pydata.org/pandas-docs/stable/indexing.html#indexing-view-versus-copy\n",
      "  This is separate from the ipykernel package so we can avoid doing imports until\n"
     ]
    },
    {
     "data": {
      "text/html": [
       "<div>\n",
       "<style scoped>\n",
       "    .dataframe tbody tr th:only-of-type {\n",
       "        vertical-align: middle;\n",
       "    }\n",
       "\n",
       "    .dataframe tbody tr th {\n",
       "        vertical-align: top;\n",
       "    }\n",
       "\n",
       "    .dataframe thead th {\n",
       "        text-align: right;\n",
       "    }\n",
       "</style>\n",
       "<table border=\"1\" class=\"dataframe\">\n",
       "  <thead>\n",
       "    <tr style=\"text-align: right;\">\n",
       "      <th></th>\n",
       "      <th>pn_flag</th>\n",
       "      <th>metac_site_nm1</th>\n",
       "      <th>lookback_date</th>\n",
       "      <th>index_date</th>\n",
       "      <th>patient_id</th>\n",
       "    </tr>\n",
       "  </thead>\n",
       "  <tbody>\n",
       "    <tr>\n",
       "      <th>0</th>\n",
       "      <td>0</td>\n",
       "      <td>BONE &amp; CONNECTIVE TISSUE CANCER</td>\n",
       "      <td>2012-05-14</td>\n",
       "      <td>2014-05-14</td>\n",
       "      <td>1563563420</td>\n",
       "    </tr>\n",
       "    <tr>\n",
       "      <th>1</th>\n",
       "      <td>0</td>\n",
       "      <td>BONE &amp; CONNECTIVE TISSUE CANCER</td>\n",
       "      <td>2014-04-22</td>\n",
       "      <td>2016-04-21</td>\n",
       "      <td>1317588535</td>\n",
       "    </tr>\n",
       "    <tr>\n",
       "      <th>2</th>\n",
       "      <td>0</td>\n",
       "      <td>BONE &amp; CONNECTIVE TISSUE CANCER</td>\n",
       "      <td>2014-09-20</td>\n",
       "      <td>2016-09-19</td>\n",
       "      <td>1303468932</td>\n",
       "    </tr>\n",
       "    <tr>\n",
       "      <th>3</th>\n",
       "      <td>0</td>\n",
       "      <td>OTHER CANCER</td>\n",
       "      <td>2012-10-02</td>\n",
       "      <td>2014-10-02</td>\n",
       "      <td>1177110951</td>\n",
       "    </tr>\n",
       "    <tr>\n",
       "      <th>4</th>\n",
       "      <td>0</td>\n",
       "      <td>BONE &amp; CONNECTIVE TISSUE CANCER</td>\n",
       "      <td>2014-04-12</td>\n",
       "      <td>2016-04-11</td>\n",
       "      <td>495606299</td>\n",
       "    </tr>\n",
       "  </tbody>\n",
       "</table>\n",
       "</div>"
      ],
      "text/plain": [
       "   pn_flag                   metac_site_nm1 lookback_date  index_date  \\\n",
       "0        0  BONE & CONNECTIVE TISSUE CANCER    2012-05-14  2014-05-14   \n",
       "1        0  BONE & CONNECTIVE TISSUE CANCER    2014-04-22  2016-04-21   \n",
       "2        0  BONE & CONNECTIVE TISSUE CANCER    2014-09-20  2016-09-19   \n",
       "3        0                     OTHER CANCER    2012-10-02  2014-10-02   \n",
       "4        0  BONE & CONNECTIVE TISSUE CANCER    2014-04-12  2016-04-11   \n",
       "\n",
       "   patient_id  \n",
       "0  1563563420  \n",
       "1  1317588535  \n",
       "2  1303468932  \n",
       "3  1177110951  \n",
       "4   495606299  "
      ]
     },
     "execution_count": 81,
     "metadata": {},
     "output_type": "execute_result"
    }
   ],
   "source": [
    "df_leftover_y = df_merged_old[ls_leftover_y]\n",
    "df_leftover_y.columns = ls_leftover_stem\n",
    "df_leftover_y['patient_id'] = df_merged_old['patient_id']\n",
    "df_leftover_y.head()"
   ]
  },
  {
   "cell_type": "code",
   "execution_count": 82,
   "metadata": {},
   "outputs": [],
   "source": [
    "# add to new\n",
    "df_merged_new = pd.concat([df_leftover_y, df_merged_new], axis=1)"
   ]
  },
  {
   "cell_type": "code",
   "execution_count": 83,
   "metadata": {},
   "outputs": [
    {
     "data": {
      "text/plain": [
       "(372, 76)"
      ]
     },
     "execution_count": 83,
     "metadata": {},
     "output_type": "execute_result"
    },
    {
     "data": {
      "text/plain": [
       "(372, 68)"
      ]
     },
     "execution_count": 83,
     "metadata": {},
     "output_type": "execute_result"
    }
   ],
   "source": [
    "# delete from old\n",
    "df_merged_old.shape\n",
    "df_merged_old = df_merged_old.drop(columns = ls_leftover)\n",
    "df_merged_old.shape"
   ]
  },
  {
   "cell_type": "markdown",
   "metadata": {},
   "source": [
    "### For these patients, add all columns that are only in oncology OR urology"
   ]
  },
  {
   "cell_type": "code",
   "execution_count": 84,
   "metadata": {},
   "outputs": [],
   "source": [
    "df_merged_total = df_merged_old.merge(df_merged_new, on = 'patient_id', how='outer')"
   ]
  },
  {
   "cell_type": "code",
   "execution_count": 85,
   "metadata": {},
   "outputs": [
    {
     "data": {
      "text/html": [
       "<div>\n",
       "<style scoped>\n",
       "    .dataframe tbody tr th:only-of-type {\n",
       "        vertical-align: middle;\n",
       "    }\n",
       "\n",
       "    .dataframe tbody tr th {\n",
       "        vertical-align: top;\n",
       "    }\n",
       "\n",
       "    .dataframe thead th {\n",
       "        text-align: right;\n",
       "    }\n",
       "</style>\n",
       "<table border=\"1\" class=\"dataframe\">\n",
       "  <thead>\n",
       "    <tr style=\"text-align: right;\">\n",
       "      <th></th>\n",
       "      <th>patient_id</th>\n",
       "      <th>deidcrpc2flag</th>\n",
       "      <th>deidcrpc2date</th>\n",
       "      <th>deidcrpc3flag</th>\n",
       "      <th>deidcrpc3date</th>\n",
       "      <th>latest_stage</th>\n",
       "      <th>latest_stage_date</th>\n",
       "      <th>ecog1</th>\n",
       "      <th>ecog_date1</th>\n",
       "      <th>ecog2</th>\n",
       "      <th>...</th>\n",
       "      <th>free_testo_date1</th>\n",
       "      <th>tnm_date</th>\n",
       "      <th>latest_t</th>\n",
       "      <th>latest_t_date</th>\n",
       "      <th>latest_n</th>\n",
       "      <th>latest_n_date</th>\n",
       "      <th>latest_m</th>\n",
       "      <th>latest_m_date</th>\n",
       "      <th>latest_gleason</th>\n",
       "      <th>latest_gleason_date</th>\n",
       "    </tr>\n",
       "  </thead>\n",
       "  <tbody>\n",
       "    <tr>\n",
       "      <th>367</th>\n",
       "      <td>31145451</td>\n",
       "      <td>0</td>\n",
       "      <td>NaN</td>\n",
       "      <td>0</td>\n",
       "      <td>NaN</td>\n",
       "      <td>NaN</td>\n",
       "      <td>NaN</td>\n",
       "      <td>NaN</td>\n",
       "      <td>NaN</td>\n",
       "      <td>NaN</td>\n",
       "      <td>...</td>\n",
       "      <td>NaN</td>\n",
       "      <td>NaN</td>\n",
       "      <td>NaN</td>\n",
       "      <td>NaN</td>\n",
       "      <td>NaN</td>\n",
       "      <td>NaN</td>\n",
       "      <td>NaN</td>\n",
       "      <td>NaN</td>\n",
       "      <td>NaN</td>\n",
       "      <td>NaN</td>\n",
       "    </tr>\n",
       "    <tr>\n",
       "      <th>368</th>\n",
       "      <td>200991444</td>\n",
       "      <td>0</td>\n",
       "      <td>NaN</td>\n",
       "      <td>0</td>\n",
       "      <td>NaN</td>\n",
       "      <td>NaN</td>\n",
       "      <td>NaN</td>\n",
       "      <td>NaN</td>\n",
       "      <td>NaN</td>\n",
       "      <td>NaN</td>\n",
       "      <td>...</td>\n",
       "      <td>2015-05-01</td>\n",
       "      <td>NaN</td>\n",
       "      <td>NaN</td>\n",
       "      <td>NaN</td>\n",
       "      <td>NaN</td>\n",
       "      <td>NaN</td>\n",
       "      <td>NaN</td>\n",
       "      <td>NaN</td>\n",
       "      <td>NaN</td>\n",
       "      <td>NaN</td>\n",
       "    </tr>\n",
       "    <tr>\n",
       "      <th>369</th>\n",
       "      <td>57442851</td>\n",
       "      <td>0</td>\n",
       "      <td>NaN</td>\n",
       "      <td>0</td>\n",
       "      <td>NaN</td>\n",
       "      <td>NaN</td>\n",
       "      <td>NaN</td>\n",
       "      <td>NaN</td>\n",
       "      <td>NaN</td>\n",
       "      <td>NaN</td>\n",
       "      <td>...</td>\n",
       "      <td>NaN</td>\n",
       "      <td>2012-11-28</td>\n",
       "      <td>T1c</td>\n",
       "      <td>2012-11-28</td>\n",
       "      <td>N0</td>\n",
       "      <td>2012-11-28</td>\n",
       "      <td>M0</td>\n",
       "      <td>2012-11-28</td>\n",
       "      <td>NaN</td>\n",
       "      <td>NaN</td>\n",
       "    </tr>\n",
       "    <tr>\n",
       "      <th>370</th>\n",
       "      <td>553351894</td>\n",
       "      <td>1</td>\n",
       "      <td>2015-07-07</td>\n",
       "      <td>1</td>\n",
       "      <td>2016-04-14</td>\n",
       "      <td>Stage IV</td>\n",
       "      <td>2016-09-13</td>\n",
       "      <td>NaN</td>\n",
       "      <td>NaN</td>\n",
       "      <td>NaN</td>\n",
       "      <td>...</td>\n",
       "      <td>NaN</td>\n",
       "      <td>2016-09-13</td>\n",
       "      <td>T1c</td>\n",
       "      <td>2016-09-13</td>\n",
       "      <td>N0</td>\n",
       "      <td>2016-09-13</td>\n",
       "      <td>M1b</td>\n",
       "      <td>2016-09-13</td>\n",
       "      <td>NaN</td>\n",
       "      <td>NaN</td>\n",
       "    </tr>\n",
       "    <tr>\n",
       "      <th>371</th>\n",
       "      <td>1627395905</td>\n",
       "      <td>1</td>\n",
       "      <td>2014-11-06</td>\n",
       "      <td>0</td>\n",
       "      <td>NaN</td>\n",
       "      <td>Stage IV</td>\n",
       "      <td>2012-01-01</td>\n",
       "      <td>NaN</td>\n",
       "      <td>NaN</td>\n",
       "      <td>NaN</td>\n",
       "      <td>...</td>\n",
       "      <td>NaN</td>\n",
       "      <td>NaN</td>\n",
       "      <td>NaN</td>\n",
       "      <td>NaN</td>\n",
       "      <td>NaN</td>\n",
       "      <td>NaN</td>\n",
       "      <td>NaN</td>\n",
       "      <td>NaN</td>\n",
       "      <td>NaN</td>\n",
       "      <td>NaN</td>\n",
       "    </tr>\n",
       "  </tbody>\n",
       "</table>\n",
       "<p>5 rows × 163 columns</p>\n",
       "</div>"
      ],
      "text/plain": [
       "     patient_id  deidcrpc2flag deidcrpc2date  deidcrpc3flag deidcrpc3date  \\\n",
       "367    31145451              0           NaN              0           NaN   \n",
       "368   200991444              0           NaN              0           NaN   \n",
       "369    57442851              0           NaN              0           NaN   \n",
       "370   553351894              1    2015-07-07              1    2016-04-14   \n",
       "371  1627395905              1    2014-11-06              0           NaN   \n",
       "\n",
       "    latest_stage latest_stage_date  ecog1 ecog_date1  ecog2  \\\n",
       "367          NaN               NaN    NaN        NaN    NaN   \n",
       "368          NaN               NaN    NaN        NaN    NaN   \n",
       "369          NaN               NaN    NaN        NaN    NaN   \n",
       "370     Stage IV        2016-09-13    NaN        NaN    NaN   \n",
       "371     Stage IV        2012-01-01    NaN        NaN    NaN   \n",
       "\n",
       "            ...          free_testo_date1    tnm_date latest_t  latest_t_date  \\\n",
       "367         ...                       NaN         NaN      NaN            NaN   \n",
       "368         ...                2015-05-01         NaN      NaN            NaN   \n",
       "369         ...                       NaN  2012-11-28      T1c     2012-11-28   \n",
       "370         ...                       NaN  2016-09-13      T1c     2016-09-13   \n",
       "371         ...                       NaN         NaN      NaN            NaN   \n",
       "\n",
       "    latest_n  latest_n_date latest_m  latest_m_date latest_gleason  \\\n",
       "367      NaN            NaN      NaN            NaN            NaN   \n",
       "368      NaN            NaN      NaN            NaN            NaN   \n",
       "369       N0     2012-11-28       M0     2012-11-28            NaN   \n",
       "370       N0     2016-09-13      M1b     2016-09-13            NaN   \n",
       "371      NaN            NaN      NaN            NaN            NaN   \n",
       "\n",
       "     latest_gleason_date  \n",
       "367                  NaN  \n",
       "368                  NaN  \n",
       "369                  NaN  \n",
       "370                  NaN  \n",
       "371                  NaN  \n",
       "\n",
       "[5 rows x 163 columns]"
      ]
     },
     "execution_count": 85,
     "metadata": {},
     "output_type": "execute_result"
    }
   ],
   "source": [
    "df_merged_total.tail()"
   ]
  },
  {
   "cell_type": "markdown",
   "metadata": {},
   "source": [
    "## Add patients that are only in oncology OR urology "
   ]
  },
  {
   "cell_type": "code",
   "execution_count": 86,
   "metadata": {},
   "outputs": [],
   "source": [
    "df_uro_only = df_uro[~df_uro['patient_id'].isin(df_merged_total['patient_id'])]\n",
    "df_onc_only = df_onc[~df_onc['patient_id'].isin(df_merged_total['patient_id'])]"
   ]
  },
  {
   "cell_type": "code",
   "execution_count": 87,
   "metadata": {},
   "outputs": [
    {
     "data": {
      "text/plain": [
       "(4880, 173)"
      ]
     },
     "execution_count": 87,
     "metadata": {},
     "output_type": "execute_result"
    },
    {
     "data": {
      "text/plain": [
       "(3272, 82)"
      ]
     },
     "execution_count": 87,
     "metadata": {},
     "output_type": "execute_result"
    }
   ],
   "source": [
    "df_onc_only.shape\n",
    "df_uro_only.shape"
   ]
  },
  {
   "cell_type": "code",
   "execution_count": 88,
   "metadata": {},
   "outputs": [],
   "source": [
    "# These should only contain free_testo, total_testo or psa with higher numbers than in the merged version: CORRECT\n",
    "set(df_uro_only.columns) - set(df_merged_total.columns);\n",
    "set(df_onc_only.columns) - set(df_merged_total.columns);\n",
    "\n",
    "# Also looks ok, only contains columns that we don't expect to have in df_onc or df_uro respectively\n",
    "set(df_merged_total.columns) - set(df_onc_only.columns);\n",
    "set(df_merged_total.columns) - set(df_uro_only.columns);"
   ]
  },
  {
   "cell_type": "code",
   "execution_count": 89,
   "metadata": {},
   "outputs": [
    {
     "data": {
      "text/plain": [
       "183"
      ]
     },
     "execution_count": 89,
     "metadata": {},
     "output_type": "execute_result"
    }
   ],
   "source": [
    "# A total of 186 unique columns\n",
    "len(set(df_uro_only.columns) | set(df_onc_only.columns) | set(df_merged_total.columns))"
   ]
  },
  {
   "cell_type": "code",
   "execution_count": 90,
   "metadata": {},
   "outputs": [
    {
     "data": {
      "text/plain": [
       "(372, 163)"
      ]
     },
     "execution_count": 90,
     "metadata": {},
     "output_type": "execute_result"
    },
    {
     "data": {
      "text/plain": [
       "(4880, 173)"
      ]
     },
     "execution_count": 90,
     "metadata": {},
     "output_type": "execute_result"
    },
    {
     "data": {
      "text/plain": [
       "(3272, 82)"
      ]
     },
     "execution_count": 90,
     "metadata": {},
     "output_type": "execute_result"
    }
   ],
   "source": [
    "df_merged_total.shape\n",
    "df_onc_only.shape\n",
    "df_uro_only.shape"
   ]
  },
  {
   "cell_type": "code",
   "execution_count": 91,
   "metadata": {},
   "outputs": [],
   "source": [
    "df_onc_and_uro = pd.concat([df_merged_total, df_onc_only, df_uro_only]).reset_index(drop=True)"
   ]
  },
  {
   "cell_type": "code",
   "execution_count": 92,
   "metadata": {},
   "outputs": [
    {
     "data": {
      "text/html": [
       "<div>\n",
       "<style scoped>\n",
       "    .dataframe tbody tr th:only-of-type {\n",
       "        vertical-align: middle;\n",
       "    }\n",
       "\n",
       "    .dataframe tbody tr th {\n",
       "        vertical-align: top;\n",
       "    }\n",
       "\n",
       "    .dataframe thead th {\n",
       "        text-align: right;\n",
       "    }\n",
       "</style>\n",
       "<table border=\"1\" class=\"dataframe\">\n",
       "  <thead>\n",
       "    <tr style=\"text-align: right;\">\n",
       "      <th></th>\n",
       "      <th>deidcrpc2date</th>\n",
       "      <th>deidcrpc2flag</th>\n",
       "      <th>deidcrpc3date</th>\n",
       "      <th>deidcrpc3flag</th>\n",
       "      <th>ecog1</th>\n",
       "      <th>ecog10</th>\n",
       "      <th>ecog11</th>\n",
       "      <th>ecog12</th>\n",
       "      <th>ecog13</th>\n",
       "      <th>ecog14</th>\n",
       "      <th>...</th>\n",
       "      <th>total_testo_date17</th>\n",
       "      <th>total_testo_date18</th>\n",
       "      <th>total_testo_date2</th>\n",
       "      <th>total_testo_date3</th>\n",
       "      <th>total_testo_date4</th>\n",
       "      <th>total_testo_date5</th>\n",
       "      <th>total_testo_date6</th>\n",
       "      <th>total_testo_date7</th>\n",
       "      <th>total_testo_date8</th>\n",
       "      <th>total_testo_date9</th>\n",
       "    </tr>\n",
       "  </thead>\n",
       "  <tbody>\n",
       "    <tr>\n",
       "      <th>8519</th>\n",
       "      <td>2014-01-15</td>\n",
       "      <td>1.0</td>\n",
       "      <td>NaN</td>\n",
       "      <td>0.0</td>\n",
       "      <td>NaN</td>\n",
       "      <td>NaN</td>\n",
       "      <td>NaN</td>\n",
       "      <td>NaN</td>\n",
       "      <td>NaN</td>\n",
       "      <td>NaN</td>\n",
       "      <td>...</td>\n",
       "      <td>NaN</td>\n",
       "      <td>NaN</td>\n",
       "      <td>NaN</td>\n",
       "      <td>NaN</td>\n",
       "      <td>NaN</td>\n",
       "      <td>NaN</td>\n",
       "      <td>NaN</td>\n",
       "      <td>NaN</td>\n",
       "      <td>NaN</td>\n",
       "      <td>NaN</td>\n",
       "    </tr>\n",
       "    <tr>\n",
       "      <th>8520</th>\n",
       "      <td>2015-12-03</td>\n",
       "      <td>1.0</td>\n",
       "      <td>2015-12-03</td>\n",
       "      <td>1.0</td>\n",
       "      <td>NaN</td>\n",
       "      <td>NaN</td>\n",
       "      <td>NaN</td>\n",
       "      <td>NaN</td>\n",
       "      <td>NaN</td>\n",
       "      <td>NaN</td>\n",
       "      <td>...</td>\n",
       "      <td>NaN</td>\n",
       "      <td>NaN</td>\n",
       "      <td>NaN</td>\n",
       "      <td>NaN</td>\n",
       "      <td>NaN</td>\n",
       "      <td>NaN</td>\n",
       "      <td>NaN</td>\n",
       "      <td>NaN</td>\n",
       "      <td>NaN</td>\n",
       "      <td>NaN</td>\n",
       "    </tr>\n",
       "    <tr>\n",
       "      <th>8521</th>\n",
       "      <td>NaN</td>\n",
       "      <td>0.0</td>\n",
       "      <td>NaN</td>\n",
       "      <td>0.0</td>\n",
       "      <td>NaN</td>\n",
       "      <td>NaN</td>\n",
       "      <td>NaN</td>\n",
       "      <td>NaN</td>\n",
       "      <td>NaN</td>\n",
       "      <td>NaN</td>\n",
       "      <td>...</td>\n",
       "      <td>NaN</td>\n",
       "      <td>NaN</td>\n",
       "      <td>NaN</td>\n",
       "      <td>NaN</td>\n",
       "      <td>NaN</td>\n",
       "      <td>NaN</td>\n",
       "      <td>NaN</td>\n",
       "      <td>NaN</td>\n",
       "      <td>NaN</td>\n",
       "      <td>NaN</td>\n",
       "    </tr>\n",
       "    <tr>\n",
       "      <th>8522</th>\n",
       "      <td>2015-05-14</td>\n",
       "      <td>1.0</td>\n",
       "      <td>NaN</td>\n",
       "      <td>0.0</td>\n",
       "      <td>NaN</td>\n",
       "      <td>NaN</td>\n",
       "      <td>NaN</td>\n",
       "      <td>NaN</td>\n",
       "      <td>NaN</td>\n",
       "      <td>NaN</td>\n",
       "      <td>...</td>\n",
       "      <td>NaN</td>\n",
       "      <td>NaN</td>\n",
       "      <td>NaN</td>\n",
       "      <td>NaN</td>\n",
       "      <td>NaN</td>\n",
       "      <td>NaN</td>\n",
       "      <td>NaN</td>\n",
       "      <td>NaN</td>\n",
       "      <td>NaN</td>\n",
       "      <td>NaN</td>\n",
       "    </tr>\n",
       "    <tr>\n",
       "      <th>8523</th>\n",
       "      <td>NaN</td>\n",
       "      <td>0.0</td>\n",
       "      <td>NaN</td>\n",
       "      <td>0.0</td>\n",
       "      <td>NaN</td>\n",
       "      <td>NaN</td>\n",
       "      <td>NaN</td>\n",
       "      <td>NaN</td>\n",
       "      <td>NaN</td>\n",
       "      <td>NaN</td>\n",
       "      <td>...</td>\n",
       "      <td>NaN</td>\n",
       "      <td>NaN</td>\n",
       "      <td>NaN</td>\n",
       "      <td>NaN</td>\n",
       "      <td>NaN</td>\n",
       "      <td>NaN</td>\n",
       "      <td>NaN</td>\n",
       "      <td>NaN</td>\n",
       "      <td>NaN</td>\n",
       "      <td>NaN</td>\n",
       "    </tr>\n",
       "  </tbody>\n",
       "</table>\n",
       "<p>5 rows × 183 columns</p>\n",
       "</div>"
      ],
      "text/plain": [
       "     deidcrpc2date  deidcrpc2flag deidcrpc3date  deidcrpc3flag  ecog1  ecog10  \\\n",
       "8519    2014-01-15            1.0           NaN            0.0    NaN     NaN   \n",
       "8520    2015-12-03            1.0    2015-12-03            1.0    NaN     NaN   \n",
       "8521           NaN            0.0           NaN            0.0    NaN     NaN   \n",
       "8522    2015-05-14            1.0           NaN            0.0    NaN     NaN   \n",
       "8523           NaN            0.0           NaN            0.0    NaN     NaN   \n",
       "\n",
       "      ecog11  ecog12  ecog13  ecog14        ...          total_testo_date17  \\\n",
       "8519     NaN     NaN     NaN     NaN        ...                         NaN   \n",
       "8520     NaN     NaN     NaN     NaN        ...                         NaN   \n",
       "8521     NaN     NaN     NaN     NaN        ...                         NaN   \n",
       "8522     NaN     NaN     NaN     NaN        ...                         NaN   \n",
       "8523     NaN     NaN     NaN     NaN        ...                         NaN   \n",
       "\n",
       "      total_testo_date18  total_testo_date2  total_testo_date3  \\\n",
       "8519                 NaN                NaN                NaN   \n",
       "8520                 NaN                NaN                NaN   \n",
       "8521                 NaN                NaN                NaN   \n",
       "8522                 NaN                NaN                NaN   \n",
       "8523                 NaN                NaN                NaN   \n",
       "\n",
       "      total_testo_date4  total_testo_date5  total_testo_date6  \\\n",
       "8519                NaN                NaN                NaN   \n",
       "8520                NaN                NaN                NaN   \n",
       "8521                NaN                NaN                NaN   \n",
       "8522                NaN                NaN                NaN   \n",
       "8523                NaN                NaN                NaN   \n",
       "\n",
       "      total_testo_date7  total_testo_date8  total_testo_date9  \n",
       "8519                NaN                NaN                NaN  \n",
       "8520                NaN                NaN                NaN  \n",
       "8521                NaN                NaN                NaN  \n",
       "8522                NaN                NaN                NaN  \n",
       "8523                NaN                NaN                NaN  \n",
       "\n",
       "[5 rows x 183 columns]"
      ]
     },
     "execution_count": 92,
     "metadata": {},
     "output_type": "execute_result"
    }
   ],
   "source": [
    "df_onc_and_uro.tail()"
   ]
  },
  {
   "cell_type": "code",
   "execution_count": 93,
   "metadata": {},
   "outputs": [
    {
     "data": {
      "text/plain": [
       "False"
      ]
     },
     "execution_count": 93,
     "metadata": {},
     "output_type": "execute_result"
    },
    {
     "data": {
      "text/plain": [
       "False"
      ]
     },
     "execution_count": 93,
     "metadata": {},
     "output_type": "execute_result"
    }
   ],
   "source": [
    "# sanity checks\n",
    "df_onc_and_uro['patient_id'].isnull().any()\n",
    "df_onc_and_uro['pn_flag'].isnull().any()"
   ]
  },
  {
   "cell_type": "code",
   "execution_count": 94,
   "metadata": {},
   "outputs": [
    {
     "data": {
      "text/plain": [
       "0"
      ]
     },
     "execution_count": 94,
     "metadata": {},
     "output_type": "execute_result"
    }
   ],
   "source": [
    "# sanity check, did urology/oncology create doubles in columns like psa?\n",
    "ls_psa = [column for column in df_onc_and_uro.columns if re.search('psa_date', column)]\n",
    "\n",
    "ss_values = df_onc_and_uro[ls_psa].apply(lambda x: (~x.isnull()).sum(), axis=1)\n",
    "ss_unique_values = df_onc_and_uro[ls_psa].apply(lambda x: x.nunique(), axis=1)\n",
    "\n",
    "# seems not\n",
    "(~(ss_values == ss_unique_values)).sum()"
   ]
  },
  {
   "cell_type": "markdown",
   "metadata": {},
   "source": [
    "## To CSV "
   ]
  },
  {
   "cell_type": "code",
   "execution_count": 95,
   "metadata": {},
   "outputs": [],
   "source": [
    "df_onc_and_uro.to_csv(r'F:\\Projects\\Pfizer_mCRPC\\Data\\pre_modelling\\EMR_combined\\Pfizer_mCRPC_EMR_combined.csv', index=False)"
   ]
  },
  {
   "cell_type": "code",
   "execution_count": null,
   "metadata": {},
   "outputs": [],
   "source": []
  }
 ],
 "metadata": {
  "kernelspec": {
   "display_name": "Python 3",
   "language": "python",
   "name": "python3"
  },
  "language_info": {
   "codemirror_mode": {
    "name": "ipython",
    "version": 3
   },
   "file_extension": ".py",
   "mimetype": "text/x-python",
   "name": "python",
   "nbconvert_exporter": "python",
   "pygments_lexer": "ipython3",
   "version": "3.6.3"
  }
 },
 "nbformat": 4,
 "nbformat_minor": 2
}

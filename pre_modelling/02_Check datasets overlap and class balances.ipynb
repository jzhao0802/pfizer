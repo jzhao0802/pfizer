{
 "cells": [
  {
   "cell_type": "code",
   "execution_count": 41,
   "metadata": {},
   "outputs": [],
   "source": [
    "import pandas as pd\n",
    "import feather\n",
    "\n",
    "from IPython.core.interactiveshell import InteractiveShell\n",
    "InteractiveShell.ast_node_interactivity = \"all\""
   ]
  },
  {
   "cell_type": "code",
   "execution_count": 30,
   "metadata": {},
   "outputs": [],
   "source": [
    "df_lrx = pd.read_excel(r'F:\\Projects\\Pfizer_mCRPC\\Data\\raw_data\\Lrx_Dx\\Pfizer_mCRPC_Patients.xlsx')\n",
    "df_onc = pd.read_excel(r'F:\\Projects\\Pfizer_mCRPC\\Data\\raw_data\\Oncology_EMR\\patients_link_OncEMR.xlsx')\n",
    "df_uro = pd.read_excel(r'F:\\Projects\\Pfizer_mCRPC\\Data\\raw_data\\Urology_EMR\\UROEMR_Patients_list_01102018.xlsx')"
   ]
  },
  {
   "cell_type": "code",
   "execution_count": 31,
   "metadata": {},
   "outputs": [],
   "source": [
    "df_lrx = df_lrx[['PATIENT_ID', 'PN_FLAG']]"
   ]
  },
  {
   "cell_type": "code",
   "execution_count": 32,
   "metadata": {},
   "outputs": [],
   "source": [
    "df_lrx['PN_FLAG'] = df_lrx['PN_FLAG'].map({'N':0, 'P':1})"
   ]
  },
  {
   "cell_type": "code",
   "execution_count": 33,
   "metadata": {},
   "outputs": [
    {
     "data": {
      "text/html": [
       "<div>\n",
       "<style scoped>\n",
       "    .dataframe tbody tr th:only-of-type {\n",
       "        vertical-align: middle;\n",
       "    }\n",
       "\n",
       "    .dataframe tbody tr th {\n",
       "        vertical-align: top;\n",
       "    }\n",
       "\n",
       "    .dataframe thead th {\n",
       "        text-align: right;\n",
       "    }\n",
       "</style>\n",
       "<table border=\"1\" class=\"dataframe\">\n",
       "  <thead>\n",
       "    <tr style=\"text-align: right;\">\n",
       "      <th></th>\n",
       "      <th>PATIENT_ID</th>\n",
       "      <th>PN_FLAG</th>\n",
       "    </tr>\n",
       "  </thead>\n",
       "  <tbody>\n",
       "    <tr>\n",
       "      <th>0</th>\n",
       "      <td>377317624</td>\n",
       "      <td>0</td>\n",
       "    </tr>\n",
       "    <tr>\n",
       "      <th>1</th>\n",
       "      <td>73066609</td>\n",
       "      <td>0</td>\n",
       "    </tr>\n",
       "    <tr>\n",
       "      <th>2</th>\n",
       "      <td>70175556</td>\n",
       "      <td>0</td>\n",
       "    </tr>\n",
       "    <tr>\n",
       "      <th>3</th>\n",
       "      <td>713474282</td>\n",
       "      <td>0</td>\n",
       "    </tr>\n",
       "    <tr>\n",
       "      <th>4</th>\n",
       "      <td>1563563420</td>\n",
       "      <td>0</td>\n",
       "    </tr>\n",
       "  </tbody>\n",
       "</table>\n",
       "</div>"
      ],
      "text/plain": [
       "   PATIENT_ID  PN_FLAG\n",
       "0   377317624        0\n",
       "1    73066609        0\n",
       "2    70175556        0\n",
       "3   713474282        0\n",
       "4  1563563420        0"
      ]
     },
     "execution_count": 33,
     "metadata": {},
     "output_type": "execute_result"
    }
   ],
   "source": [
    "df_lrx.head()"
   ]
  },
  {
   "cell_type": "code",
   "execution_count": 34,
   "metadata": {},
   "outputs": [],
   "source": [
    "df_onc = df_onc.merge(df_lrx, how ='left', on = 'PATIENT_ID')"
   ]
  },
  {
   "cell_type": "code",
   "execution_count": 36,
   "metadata": {},
   "outputs": [],
   "source": [
    "df_uro = df_uro.merge(df_lrx, how ='left', on = 'PATIENT_ID')[['PATIENT_ID', 'PN_FLAG']]"
   ]
  },
  {
   "cell_type": "code",
   "execution_count": 49,
   "metadata": {},
   "outputs": [],
   "source": [
    "df_onc_and_uro = df_onc[df_onc['PATIENT_ID'].isin(df_uro['PATIENT_ID'])]"
   ]
  },
  {
   "cell_type": "code",
   "execution_count": 53,
   "metadata": {},
   "outputs": [],
   "source": [
    "df_onc_or_uro = df_lrx[df_lrx['PATIENT_ID'].isin(df_onc['PATIENT_ID']) | df_lrx['PATIENT_ID'].isin(df_uro['PATIENT_ID'])]"
   ]
  },
  {
   "cell_type": "code",
   "execution_count": 43,
   "metadata": {},
   "outputs": [
    {
     "name": "stdout",
     "output_type": "stream",
     "text": [
      "3106 67777\n"
     ]
    }
   ],
   "source": [
    "pos = df_lrx['PN_FLAG'].sum()\n",
    "neg = df_lrx.shape[0] - pos\n",
    "print(pos, neg)"
   ]
  },
  {
   "cell_type": "code",
   "execution_count": 44,
   "metadata": {},
   "outputs": [
    {
     "name": "stdout",
     "output_type": "stream",
     "text": [
      "276 4976\n"
     ]
    }
   ],
   "source": [
    "pos = df_onc['PN_FLAG'].sum()\n",
    "neg = df_onc.shape[0] - pos\n",
    "print(pos, neg)"
   ]
  },
  {
   "cell_type": "code",
   "execution_count": 47,
   "metadata": {},
   "outputs": [
    {
     "name": "stdout",
     "output_type": "stream",
     "text": [
      "320 3324\n"
     ]
    }
   ],
   "source": [
    "pos = df_uro['PN_FLAG'].sum()\n",
    "neg = df_uro.shape[0] - pos\n",
    "print(pos, neg)"
   ]
  },
  {
   "cell_type": "code",
   "execution_count": 50,
   "metadata": {},
   "outputs": [
    {
     "name": "stdout",
     "output_type": "stream",
     "text": [
      "36 336\n"
     ]
    }
   ],
   "source": [
    "pos = df_onc_and_uro['PN_FLAG'].sum()\n",
    "neg = df_onc_and_uro.shape[0] - pos\n",
    "print(pos, neg)"
   ]
  },
  {
   "cell_type": "code",
   "execution_count": 54,
   "metadata": {},
   "outputs": [
    {
     "name": "stdout",
     "output_type": "stream",
     "text": [
      "560 7964\n"
     ]
    }
   ],
   "source": [
    "pos = df_onc_or_uro['PN_FLAG'].sum()\n",
    "neg = df_onc_or_uro.shape[0] - pos\n",
    "print(pos, neg)"
   ]
  },
  {
   "cell_type": "code",
   "execution_count": null,
   "metadata": {},
   "outputs": [],
   "source": []
  }
 ],
 "metadata": {
  "kernelspec": {
   "display_name": "Python 3",
   "language": "python",
   "name": "python3"
  },
  "language_info": {
   "codemirror_mode": {
    "name": "ipython",
    "version": 3
   },
   "file_extension": ".py",
   "mimetype": "text/x-python",
   "name": "python",
   "nbconvert_exporter": "python",
   "pygments_lexer": "ipython3",
   "version": "3.6.3"
  }
 },
 "nbformat": 4,
 "nbformat_minor": 2
}
